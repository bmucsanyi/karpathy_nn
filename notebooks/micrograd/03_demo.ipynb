{
 "cells": [
  {
   "cell_type": "markdown",
   "metadata": {},
   "source": [
    "###  MicroGrad demo"
   ]
  },
  {
   "cell_type": "code",
   "execution_count": 1,
   "metadata": {},
   "outputs": [],
   "source": [
    "from typing import Optional\n",
    "\n",
    "import matplotlib.pyplot as plt\n",
    "import numpy as np\n",
    "from numpy import ndarray\n",
    "from sklearn.datasets import make_moons\n",
    "\n",
    "from karpathy_nn.micrograd.engine import Value\n",
    "from karpathy_nn.micrograd.nn import MLP\n",
    "from karpathy_nn.micrograd.utils import apply_random_seed\n"
   ]
  },
  {
   "cell_type": "code",
   "execution_count": 2,
   "metadata": {},
   "outputs": [],
   "source": [
    "apply_random_seed(1337)\n"
   ]
  },
  {
   "cell_type": "code",
   "execution_count": 3,
   "metadata": {},
   "outputs": [
    {
     "data": {
      "image/png": "[encoded data removed]",
      "text/plain": [
       "<Figure size 300x300 with 1 Axes>"
      ]
     },
     "metadata": {},
     "output_type": "display_data"
    }
   ],
   "source": [
    "# Make a dataset\n",
    "X, y = make_moons(n_samples=100, noise=0.1)\n",
    "\n",
    "y = 2 * y - 1  # Transform y to -1 or 1\n",
    "# Visualize dataset in 2D\n",
    "plt.figure(figsize=(3, 3))\n",
    "_ = plt.scatter(X[:, 0], X[:, 1], c=y, s=20, cmap=\"jet\")\n"
   ]
  },
  {
   "cell_type": "code",
   "execution_count": 4,
   "metadata": {},
   "outputs": [
    {
     "name": "stdout",
     "output_type": "stream",
     "text": [
      "MLP of [Layer of [ReLUNeuron(2), ReLUNeuron(2), ReLUNeuron(2), ReLUNeuron(2), ReLUNeuron(2), ReLUNeuron(2), ReLUNeuron(2), ReLUNeuron(2), ReLUNeuron(2), ReLUNeuron(2), ReLUNeuron(2), ReLUNeuron(2), ReLUNeuron(2), ReLUNeuron(2), ReLUNeuron(2), ReLUNeuron(2)], Layer of [ReLUNeuron(16), ReLUNeuron(16), ReLUNeuron(16), ReLUNeuron(16), ReLUNeuron(16), ReLUNeuron(16), ReLUNeuron(16), ReLUNeuron(16), ReLUNeuron(16), ReLUNeuron(16), ReLUNeuron(16), ReLUNeuron(16), ReLUNeuron(16), ReLUNeuron(16), ReLUNeuron(16), ReLUNeuron(16)], Layer of [NoneNeuron(16)]]\n",
      "Number of parameters: 337\n"
     ]
    }
   ],
   "source": [
    "# initialize a model\n",
    "model = MLP(\n",
    "    num_input_neurons=2, num_output_neurons_per_layer=[16, 16, 1], final_act=\"None\"\n",
    ")  # 2-layer neural network\n",
    "print(model)\n",
    "print(\"Number of parameters:\", len(model.parameters()))\n"
   ]
  },
  {
   "cell_type": "code",
   "execution_count": 5,
   "metadata": {},
   "outputs": [
    {
     "name": "stdout",
     "output_type": "stream",
     "text": [
      "Value(data=0.8862514464368222, grad=0) 0.5\n"
     ]
    }
   ],
   "source": [
    "# \"Dataloader\"\n",
    "def get_minibatch(\n",
    "    X: ndarray, y: ndarray, batch_size: Optional[int] = None\n",
    ") -> tuple[ndarray, ndarray]:\n",
    "    \"\"\"Returns a mini-batch of size ``batch_size`` from ``X`` and ``y``.\n",
    "\n",
    "    Args:\n",
    "        X: NumPy array containing the inputs of the dataset.\n",
    "        y: NumPy array containing the targets of the dataset.\n",
    "        batch_size: The size of the mini-batch.\n",
    "            If ``None``, the entire dataset is returned.\n",
    "\n",
    "    Returns:\n",
    "        A tuple of the mini-batch inputs and the mini-batch outputs.\n",
    "\n",
    "    \"\"\"\n",
    "    if batch_size is None:\n",
    "        Xb, yb = X, y\n",
    "    else:\n",
    "        ri = np.random.permutation(X.shape[0])[:batch_size]\n",
    "        Xb, yb = X[ri], y[ri]\n",
    "\n",
    "    Xb = [list(map(Value, xrow)) for xrow in Xb]\n",
    "\n",
    "    return Xb, yb\n",
    "\n",
    "\n",
    "# Loss function\n",
    "def hinge_loss(Xb: list[list[Value]], yb: ndarray) -> tuple[Value, float]:\n",
    "    \"\"\"Calculates the hinge loss on the provided mini-batch. Also returns the accuracy.\"\"\"\n",
    "    # Forward the model to get scores\n",
    "    scores = list(map(model, Xb))\n",
    "\n",
    "    # SVM hinge loss\n",
    "    losses = [(1 - yi * scorei).relu() for yi, scorei in zip(yb, scores)]\n",
    "    data_loss = sum(losses) * (1.0 / len(losses))\n",
    "\n",
    "    # L2 regularization\n",
    "    lambda_ = 1e-4\n",
    "    reg_loss = 0  # lambda_ * sum((p * p for p in model.parameters()))\n",
    "    total_loss = data_loss + reg_loss\n",
    "\n",
    "    # Calculate accuracy\n",
    "    accuracy_list = [(yi > 0) == (scorei.data > 0) for yi, scorei in zip(yb, scores)]\n",
    "    accuracy = sum(accuracy_list) / len(accuracy_list)\n",
    "    return total_loss, accuracy\n",
    "\n",
    "\n",
    "total_loss, acc = hinge_loss(*get_minibatch(X, y))\n",
    "print(total_loss, acc)\n"
   ]
  },
  {
   "cell_type": "code",
   "execution_count": 6,
   "metadata": {},
   "outputs": [
    {
     "name": "stdout",
     "output_type": "stream",
     "text": [
      "Epoch 0: loss 0.8862514464368222, accuracy 50.0%\n",
      "Epoch 1: loss 1.7136790633950052, accuracy 81.0%\n",
      "Epoch 2: loss 0.7333961267286992, accuracy 77.0%\n",
      "Epoch 3: loss 0.7615247055858602, accuracy 82.0%\n",
      "Epoch 4: loss 0.359780833345342, accuracy 84.0%\n",
      "Epoch 5: loss 0.3039360355411296, accuracy 86.0%\n",
      "Epoch 6: loss 0.2716587340549048, accuracy 89.0%\n",
      "Epoch 7: loss 0.258965768030132, accuracy 91.0%\n",
      "Epoch 8: loss 0.24684455035335173, accuracy 91.0%\n",
      "Epoch 9: loss 0.26038987927745966, accuracy 91.0%\n",
      "Epoch 10: loss 0.23569710047306522, accuracy 91.0%\n",
      "Epoch 11: loss 0.24037689302294765, accuracy 92.0%\n",
      "Epoch 12: loss 0.20603128479123115, accuracy 91.0%\n",
      "Epoch 13: loss 0.220611577960292, accuracy 93.0%\n",
      "Epoch 14: loss 0.19010711228374733, accuracy 92.0%\n",
      "Epoch 15: loss 0.21687609382796408, accuracy 93.0%\n",
      "Epoch 16: loss 0.1864244534217525, accuracy 92.0%\n",
      "Epoch 17: loss 0.20644781960886666, accuracy 92.0%\n",
      "Epoch 18: loss 0.15299793102189646, accuracy 94.0%\n",
      "Epoch 19: loss 0.18164592701596202, accuracy 93.0%\n",
      "Epoch 20: loss 0.15209012673698669, accuracy 92.0%\n",
      "Epoch 21: loss 0.17985784886850326, accuracy 93.0%\n",
      "Epoch 22: loss 0.13186703020683807, accuracy 95.0%\n",
      "Epoch 23: loss 0.13971668862318978, accuracy 95.0%\n",
      "Epoch 24: loss 0.10529877326270473, accuracy 96.0%\n",
      "Epoch 25: loss 0.1157521422225113, accuracy 95.0%\n",
      "Epoch 26: loss 0.10138692709798278, accuracy 97.0%\n",
      "Epoch 27: loss 0.13983249990522068, accuracy 95.0%\n",
      "Epoch 28: loss 0.1343943383155254, accuracy 92.0%\n",
      "Epoch 29: loss 0.14946491199753806, accuracy 95.0%\n",
      "Epoch 30: loss 0.08058651087395287, accuracy 97.0%\n",
      "Epoch 31: loss 0.08894402478347958, accuracy 97.0%\n",
      "Epoch 32: loss 0.14846171628770527, accuracy 95.0%\n",
      "Epoch 33: loss 0.08534324122933526, accuracy 97.0%\n",
      "Epoch 34: loss 0.06930425973662233, accuracy 97.0%\n",
      "Epoch 35: loss 0.10224309625633389, accuracy 95.0%\n",
      "Epoch 36: loss 0.056900381350751844, accuracy 97.0%\n",
      "Epoch 37: loss 0.04361190103707664, accuracy 97.0%\n",
      "Epoch 38: loss 0.04085954349889363, accuracy 98.0%\n",
      "Epoch 39: loss 0.061158607936475574, accuracy 97.0%\n",
      "Epoch 40: loss 0.06712605274368724, accuracy 99.0%\n",
      "Epoch 41: loss 0.10077765359387982, accuracy 95.0%\n",
      "Epoch 42: loss 0.047219615684323826, accuracy 97.0%\n",
      "Epoch 43: loss 0.032295331125725885, accuracy 99.0%\n",
      "Epoch 44: loss 0.028346610758982364, accuracy 99.0%\n",
      "Epoch 45: loss 0.050117753410008, accuracy 99.0%\n",
      "Epoch 46: loss 0.09321634150737655, accuracy 96.0%\n",
      "Epoch 47: loss 0.05585957556955346, accuracy 98.0%\n",
      "Epoch 48: loss 0.027099651607745776, accuracy 99.0%\n",
      "Epoch 49: loss 0.054945465674614974, accuracy 98.0%\n",
      "Epoch 50: loss 0.07335775939405338, accuracy 97.0%\n",
      "Epoch 51: loss 0.02936307677534773, accuracy 99.0%\n",
      "Epoch 52: loss 0.02740687419816359, accuracy 100.0%\n",
      "Epoch 53: loss 0.053569301279996595, accuracy 97.0%\n",
      "Epoch 54: loss 0.025878489830786732, accuracy 99.0%\n",
      "Epoch 55: loss 0.01447267421181099, accuracy 100.0%\n",
      "Epoch 56: loss 0.018372246472765027, accuracy 100.0%\n",
      "Epoch 57: loss 0.02412040127388186, accuracy 100.0%\n",
      "Epoch 58: loss 0.042104515290839986, accuracy 97.0%\n",
      "Epoch 59: loss 0.02019076748958411, accuracy 99.0%\n",
      "Epoch 60: loss 0.013597924359035538, accuracy 100.0%\n",
      "Epoch 61: loss 0.020736759057606226, accuracy 99.0%\n",
      "Epoch 62: loss 0.00942648259391723, accuracy 100.0%\n",
      "Epoch 63: loss 0.01957644672434647, accuracy 99.0%\n",
      "Epoch 64: loss 0.006901205130902711, accuracy 100.0%\n",
      "Epoch 65: loss 0.008163773764319798, accuracy 100.0%\n",
      "Epoch 66: loss 0.017780151200259723, accuracy 99.0%\n",
      "Epoch 67: loss 0.006078102632656889, accuracy 100.0%\n",
      "Epoch 68: loss 0.005207081013904693, accuracy 100.0%\n",
      "Epoch 69: loss 0.006514956852428523, accuracy 100.0%\n",
      "Epoch 70: loss 0.013680146079091546, accuracy 100.0%\n",
      "Epoch 71: loss 0.004260189369690934, accuracy 100.0%\n",
      "Epoch 72: loss 0.003571447732386189, accuracy 100.0%\n",
      "Epoch 73: loss 0.002785643637841171, accuracy 100.0%\n",
      "Epoch 74: loss 0.004165352019028194, accuracy 100.0%\n",
      "Epoch 75: loss 0.010047002572751387, accuracy 100.0%\n",
      "Epoch 76: loss 0.0021763263861154934, accuracy 100.0%\n",
      "Epoch 77: loss 0.0013429141412180867, accuracy 100.0%\n",
      "Epoch 78: loss 0.0015998647806401767, accuracy 100.0%\n",
      "Epoch 79: loss 0.013899827335824249, accuracy 100.0%\n",
      "Epoch 80: loss 0.0035712785611421104, accuracy 100.0%\n",
      "Epoch 81: loss 0.0009515333042031915, accuracy 100.0%\n",
      "Epoch 82: loss 0.0018646068068753486, accuracy 100.0%\n",
      "Epoch 83: loss 0.004625721678128734, accuracy 100.0%\n",
      "Epoch 84: loss 0.0022883947667316396, accuracy 100.0%\n",
      "Epoch 85: loss 0.0001315919044957581, accuracy 100.0%\n",
      "Epoch 86: loss 0.001980036083990723, accuracy 100.0%\n",
      "Epoch 87: loss 0.005689619877166524, accuracy 100.0%\n",
      "Epoch 88: loss 0.0011989843931980836, accuracy 100.0%\n",
      "Epoch 89: loss 0.00021450800125575765, accuracy 100.0%\n",
      "Epoch 90: loss 0.00039275732969052405, accuracy 100.0%\n",
      "Epoch 91: loss 0.000443970326674934, accuracy 100.0%\n",
      "Epoch 92: loss 0.0, accuracy 100.0%\n",
      "Epoch 93: loss 0.0, accuracy 100.0%\n",
      "Epoch 94: loss 0.0, accuracy 100.0%\n",
      "Epoch 95: loss 0.0, accuracy 100.0%\n",
      "Epoch 96: loss 0.0, accuracy 100.0%\n",
      "Epoch 97: loss 0.0, accuracy 100.0%\n",
      "Epoch 98: loss 0.0, accuracy 100.0%\n",
      "Epoch 99: loss 0.0, accuracy 100.0%\n"
     ]
    }
   ],
   "source": [
    "def train(model: MLP, X: ndarray, y: ndarray, num_epochs: int = 100) -> None:\n",
    "    \"\"\"Implements a basic training loop.\"\"\"\n",
    "    # Optimization\n",
    "    for epoch in range(num_epochs):\n",
    "        # Forward\n",
    "        total_loss, accuracy = hinge_loss(*get_minibatch(X, y))\n",
    "\n",
    "        # Backward\n",
    "        model.zero_grad()\n",
    "        total_loss.backward()\n",
    "\n",
    "        # Update (SGD)\n",
    "        learning_rate = 1 - 0.9 * epoch / 100\n",
    "        for p in model.parameters():\n",
    "            p.data -= learning_rate * p.grad\n",
    "\n",
    "        print(f\"Epoch {epoch}: loss {total_loss.data}, accuracy {accuracy * 100}%\")\n",
    "\n",
    "\n",
    "train(model, X, y)\n"
   ]
  },
  {
   "cell_type": "code",
   "execution_count": 7,
   "metadata": {},
   "outputs": [
    {
     "data": {
      "image/png": "[encoded data removed]",
      "text/plain": [
       "<Figure size 300x300 with 1 Axes>"
      ]
     },
     "metadata": {},
     "output_type": "display_data"
    }
   ],
   "source": [
    "def visualize_decision_boundary(model: MLP, X: ndarray, y: ndarray) -> None:\n",
    "    # Visualize the decision boundary\n",
    "    arange_step = 0.25\n",
    "    x_min, x_max = X[:, 0].min() - 1, X[:, 0].max() + 1\n",
    "    y_min, y_max = X[:, 1].min() - 1, X[:, 1].max() + 1\n",
    "    xx, yy = np.meshgrid(\n",
    "        np.arange(x_min, x_max, arange_step), np.arange(y_min, y_max, arange_step)\n",
    "    )\n",
    "    Xmesh = np.c_[xx.ravel(), yy.ravel()]\n",
    "    inputs = [list(map(Value, xrow)) for xrow in Xmesh]\n",
    "    scores = list(map(model, inputs))\n",
    "    Z = np.array([score.data > 0 for score in scores])\n",
    "    Z = Z.reshape(xx.shape)\n",
    "\n",
    "    plt.figure(figsize=(3, 3))\n",
    "    plt.contourf(xx, yy, Z, cmap=plt.cm.Spectral, alpha=0.8)\n",
    "    plt.scatter(X[:, 0], X[:, 1], c=y, s=40, cmap=plt.cm.Spectral)\n",
    "    plt.xlim(xx.min(), xx.max())\n",
    "    _ = plt.ylim(yy.min(), yy.max())\n",
    "\n",
    "\n",
    "visualize_decision_boundary(model, X, y)\n"
   ]
  },
  {
   "cell_type": "code",
   "execution_count": null,
   "metadata": {},
   "outputs": [],
   "source": []
  }
 ],
 "metadata": {
  "kernelspec": {
   "display_name": "karpathy-nn-L00z48Da-py3.10",
   "language": "python",
   "name": "python3"
  },
  "language_info": {
   "codemirror_mode": {
    "name": "ipython",
    "version": 3
   },
   "file_extension": ".py",
   "mimetype": "text/x-python",
   "name": "python",
   "nbconvert_exporter": "python",
   "pygments_lexer": "ipython3",
   "version": "3.10.10"
  },
  "vscode": {
   "interpreter": {
    "hash": "1777287656d261b264802db79277cf28c62daaee414facac31cc4d9617e447f5"
   }
  }
 },
 "nbformat": 4,
 "nbformat_minor": 2
}
