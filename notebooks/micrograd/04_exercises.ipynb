{
  "cells": [
    {
      "attachments": {},
      "cell_type": "markdown",
      "metadata": {
        "id": "JnGHatCI51JP"
      },
      "source": [
        "# micrograd exercises"
      ]
    },
    {
      "cell_type": "code",
      "execution_count": 1,
      "metadata": {},
      "outputs": [],
      "source": [
        "from __future__ import annotations\n",
        "\n",
        "from math import cos, exp, log, sin\n",
        "\n",
        "import torch\n",
        "import torch.nn.functional as F\n"
      ]
    },
    {
      "attachments": {},
      "cell_type": "markdown",
      "metadata": {
        "id": "OFt6NKOz6iBZ"
      },
      "source": [
        "## Section 1: derivatives"
      ]
    },
    {
      "cell_type": "code",
      "execution_count": 2,
      "metadata": {
        "id": "3Jx9fCXl5xHd"
      },
      "outputs": [
        {
          "name": "stdout",
          "output_type": "stream",
          "text": [
            "6.336362190988558\n"
          ]
        }
      ],
      "source": [
        "# Here is a mathematical expression that takes 3 inputs and produces one output.\n",
        "\n",
        "\n",
        "def f(a: float | int, b: float | int, c: float | int) -> float:\n",
        "    return -(a**3) + sin(3 * b) - 1.0 / c + b**2.5 - a**0.5\n",
        "\n",
        "\n",
        "print(f(2, 3, 4))\n"
      ]
    },
    {
      "attachments": {},
      "cell_type": "markdown",
      "metadata": {},
      "source": [
        "Write the function df that returns the analytical gradient of f, i.e., use your skills from calculus to take the derivative, then implement the formula."
      ]
    },
    {
      "cell_type": "code",
      "execution_count": 3,
      "metadata": {
        "id": "qXaH59eL9zxf"
      },
      "outputs": [
        {
          "name": "stdout",
          "output_type": "stream",
          "text": [
            "OK for dim 0: expected -12.353553390593273, yours returns -12.353553390593273\n",
            "OK for dim 1: expected 10.25699027111255, yours returns 10.25699027111255\n",
            "OK for dim 2: expected 0.0625, yours returns 0.0625\n"
          ]
        }
      ],
      "source": [
        "def gradf(a: float | int, b: float | int, c: float | int) -> list[float]:\n",
        "    dfda = -3 * a**2 - 1 / (2 * a**0.5)\n",
        "    dfdb = 3 * cos(3 * b) + 2.5 * b**1.5\n",
        "    dfdc = 1 / c**2\n",
        "    return [dfda, dfdb, dfdc]\n",
        "\n",
        "\n",
        "# Expected answer is the list below\n",
        "ans = [-12.353553390593273, 10.25699027111255, 0.0625]\n",
        "yours = gradf(2, 3, 4)\n",
        "for dim in range(3):\n",
        "    ok = \"OK\" if abs(yours[dim] - ans[dim]) < 1e-5 else \"WRONG!\"\n",
        "    print(f\"{ok} for dim {dim}: expected {ans[dim]}, yours returns {yours[dim]}\")\n"
      ]
    },
    {
      "attachments": {},
      "cell_type": "markdown",
      "metadata": {},
      "source": [
        "Now estimate the gradient numerically without any calculus, using the approximation we used in the video. You should not call the function ``gradf`` from the last cell."
      ]
    },
    {
      "cell_type": "code",
      "execution_count": 4,
      "metadata": {
        "id": "_27n-KTA9Qla"
      },
      "outputs": [
        {
          "name": "stdout",
          "output_type": "stream",
          "text": [
            "OK for dim 0: expected -12.353553390593273, yours returns -12.353553380251014\n",
            "OK for dim 1: expected 10.25699027111255, yours returns 10.256990368162633\n",
            "OK for dim 2: expected 0.0625, yours returns 0.0624999607623522\n"
          ]
        }
      ],
      "source": [
        "h = 1e-8\n",
        "\n",
        "dfda_approx = (f(2 + h, 3, 4) - f(2, 3, 4)) / h\n",
        "dfdb_approx = (f(2, 3 + h, 4) - f(2, 3, 4)) / h\n",
        "dfdc_approx = (f(2, 3, 4 + h) - f(2, 3, 4)) / h\n",
        "\n",
        "numerical_grad = [dfda_approx, dfdb_approx, dfdc_approx]\n",
        "\n",
        "for dim in range(3):\n",
        "    ok = \"OK\" if abs(numerical_grad[dim] - ans[dim]) < 1e-5 else \"WRONG!\"\n",
        "    print(\n",
        "        f\"{ok} for dim {dim}: expected {ans[dim]}, yours returns {numerical_grad[dim]}\"\n",
        "    )\n"
      ]
    },
    {
      "attachments": {},
      "cell_type": "markdown",
      "metadata": {},
      "source": [
        "There is an alternative formula that provides a much better numerical approximation to the derivative of a function. Learn about it here: https://en.wikipedia.org/wiki/Symmetric_derivative. Implement it. Confirm that for the same step size h this version gives a better approximation."
      ]
    },
    {
      "cell_type": "code",
      "execution_count": 5,
      "metadata": {
        "id": "BUqsGb5o_h2P"
      },
      "outputs": [
        {
          "name": "stdout",
          "output_type": "stream",
          "text": [
            "OK for dim 0: expected -12.353553390593273, yours returns -12.353553291433172\n",
            "OK for dim 1: expected 10.25699027111255, yours returns 10.256990368162633\n",
            "OK for dim 2: expected 0.0625, yours returns 0.0624999607623522\n"
          ]
        }
      ],
      "source": [
        "h = 1e-8\n",
        "\n",
        "dfda_approx = (f(2 + h, 3, 4) - f(2 - h, 3, 4)) / (2 * h)\n",
        "dfdb_approx = (f(2, 3 + h, 4) - f(2, 3 - h, 4)) / (2 * h)\n",
        "dfdc_approx = (f(2, 3, 4 + h) - f(2, 3, 4 - h)) / (2 * h)\n",
        "\n",
        "numerical_grad2 = [dfda_approx, dfdb_approx, dfdc_approx]\n",
        "\n",
        "for dim in range(3):\n",
        "    ok = \"OK\" if abs(numerical_grad2[dim] - ans[dim]) < 1e-5 else \"WRONG!\"\n",
        "    print(\n",
        "        f\"{ok} for dim {dim}: expected {ans[dim]}, yours returns {numerical_grad2[dim]}\"\n",
        "    )\n"
      ]
    },
    {
      "cell_type": "code",
      "execution_count": 6,
      "metadata": {},
      "outputs": [
        {
          "name": "stdout",
          "output_type": "stream",
          "text": [
            "Dim 0\n",
            "One-sided approximation: 1.0342258605078314e-08\n",
            "Symmetric approximation: 9.916010057509084e-08\n",
            "Symmetric - one-sided:  8.881784197001252e-08\n",
            "Dim 1\n",
            "One-sided approximation: 9.705008352511868e-08\n",
            "Symmetric approximation: 9.705008352511868e-08\n",
            "Symmetric - one-sided:  0.0\n",
            "Dim 2\n",
            "One-sided approximation: 3.923764779756311e-08\n",
            "Symmetric approximation: 3.923764779756311e-08\n",
            "Symmetric - one-sided:  0.0\n"
          ]
        }
      ],
      "source": [
        "# Comparison of the two approximations\n",
        "for dim in range(3):\n",
        "    one_sided = abs(numerical_grad[dim] - ans[dim])\n",
        "    symmetric = abs(numerical_grad2[dim] - ans[dim])\n",
        "    print(\"Dim\", dim)\n",
        "    print(\"One-sided approximation:\", one_sided)\n",
        "    print(\"Symmetric approximation:\", symmetric)\n",
        "    print(\"Symmetric - one-sided: \", symmetric - one_sided)\n"
      ]
    },
    {
      "attachments": {},
      "cell_type": "markdown",
      "metadata": {},
      "source": [
        "It actually seems worse here. :) But it is generally a better approximation."
      ]
    },
    {
      "attachments": {},
      "cell_type": "markdown",
      "metadata": {
        "id": "tklF9s_4AtlI"
      },
      "source": [
        "# Section 2: support for softmax"
      ]
    },
    {
      "cell_type": "code",
      "execution_count": 7,
      "metadata": {
        "id": "nAPe_RVrCTeO"
      },
      "outputs": [],
      "source": [
        "# Value class starter code, with many functions taken out\n",
        "class Value:\n",
        "    def __init__(\n",
        "        self, data: float | int, label: str = \"\", _prev: tuple = (), _op: str = \"\"\n",
        "    ) -> None:\n",
        "        self.data = data\n",
        "        self.grad = 0.0\n",
        "        self.label = label\n",
        "        self._backward = lambda: None\n",
        "        self._prev = set(_prev)\n",
        "        self._op = _op\n",
        "\n",
        "    def __repr__(self):\n",
        "        return f\"Value(data={self.data})\"\n",
        "\n",
        "    def __add__(self, other: Value | float | int) -> Value:  # Exactly as in the video\n",
        "        other = other if isinstance(other, Value) else Value(data=other)\n",
        "        out = Value(data=self.data + other.data, _prev=(self, other), _op=\"+\")\n",
        "\n",
        "        def _backward():\n",
        "            self.grad += 1.0 * out.grad\n",
        "            other.grad += 1.0 * out.grad\n",
        "\n",
        "        out._backward = _backward\n",
        "\n",
        "        return out\n",
        "\n",
        "    # Re-implement all the other functions needed for the exercises below\n",
        "\n",
        "    def __radd__(self, other: Value | float | int) -> Value:\n",
        "        return self + other\n",
        "\n",
        "    def __mul__(self, other: Value | float | int) -> Value:\n",
        "        other = other if isinstance(other, Value) else Value(data=other)\n",
        "        out = Value(data=self.data * other.data, _prev=(self, other), _op=\"*\")\n",
        "\n",
        "        def _backward():\n",
        "            self.grad += other.data * out.grad\n",
        "            other.grad += self.data * out.grad\n",
        "\n",
        "        out._backward = _backward\n",
        "\n",
        "        return out\n",
        "\n",
        "    def __rmul__(self, other: Value | float | int) -> Value:\n",
        "        return self * other\n",
        "\n",
        "    def __neg__(self) -> Value:\n",
        "        return self * -1\n",
        "\n",
        "    def __truediv__(self, other: Value | float | int) -> Value:\n",
        "        return self * other**-1\n",
        "\n",
        "    def __pow__(self, other: float | int) -> Value:\n",
        "        if not isinstance(other, (float, int)):\n",
        "            raise ValueError(\"Only float or int exponents are supported.\")\n",
        "\n",
        "        def _backward():\n",
        "            self.grad += other * self.data ** (other - 1) * out.grad\n",
        "\n",
        "        out = Value(data=self.data**other, _prev=(self,), _op=f\"**{other}\")\n",
        "        out._backward = _backward\n",
        "\n",
        "        return out\n",
        "\n",
        "    def exp(self) -> Value:\n",
        "        def _backward():\n",
        "            self.grad += out.data * out.grad\n",
        "\n",
        "        out = Value(data=exp(self.data), _prev=(self,), _op=\"exp\")\n",
        "        out._backward = _backward\n",
        "\n",
        "        return out\n",
        "\n",
        "    def log(self) -> Value:\n",
        "        def _backward():\n",
        "            self.grad += 1 / self.data * out.grad\n",
        "\n",
        "        out = Value(data=log(self.data), _prev=(self,), _op=\"log\")\n",
        "        out._backward = _backward\n",
        "\n",
        "        return out\n",
        "\n",
        "    def backward(self) -> None:\n",
        "        topo = []\n",
        "        visited = set()\n",
        "\n",
        "        def build_topo(node: Value) -> None:\n",
        "            if node not in visited:\n",
        "                visited.add(node)\n",
        "                for child in node._prev:\n",
        "                    build_topo(child)\n",
        "                topo.append(node)\n",
        "\n",
        "        build_topo(self)\n",
        "\n",
        "        self.grad = 1.0\n",
        "        for node in reversed(topo):\n",
        "            node._backward()\n"
      ]
    },
    {
      "attachments": {},
      "cell_type": "markdown",
      "metadata": {},
      "source": [
        "Without referencing our code/video __too__ much, make this cell work. You'll have to implement (in some cases re-implement) a number of functions of the Value object, similar to what we've seen in the video. Instead of the squared error loss, this implements the negative log-likelihood loss, which is very often used in classification."
      ]
    },
    {
      "cell_type": "code",
      "execution_count": 8,
      "metadata": {
        "id": "VgWvwVQNAvnI"
      },
      "outputs": [
        {
          "name": "stdout",
          "output_type": "stream",
          "text": [
            "2.1755153626167147\n",
            "OK for dim 0: expected 0.041772570515350445, yours returns 0.041772570515350445\n",
            "OK for dim 1: expected 0.8390245074625319, yours returns 0.8390245074625319\n",
            "OK for dim 2: expected 0.005653302662216329, yours returns 0.005653302662216329\n",
            "OK for dim 3: expected -0.8864503806400986, yours returns -0.8864503806400986\n"
          ]
        }
      ],
      "source": [
        "# This is the softmax function\n",
        "# https://en.wikipedia.org/wiki/Softmax_function\n",
        "def softmax(logits):  # Numerically very unstable version\n",
        "    counts = [logit.exp() for logit in logits]\n",
        "    denominator = sum(counts)\n",
        "    out = [count / denominator for count in counts]\n",
        "    return out\n",
        "\n",
        "\n",
        "# This is the negative log likelihood loss function, pervasive in classification\n",
        "logits = [Value(0.0), Value(3.0), Value(-2.0), Value(1.0)]\n",
        "probs = softmax(logits)\n",
        "loss = -probs[3].log()  # dim 3 acts as the label for this input example\n",
        "loss.backward()\n",
        "print(loss.data)\n",
        "\n",
        "ans = [\n",
        "    0.041772570515350445,\n",
        "    0.8390245074625319,\n",
        "    0.005653302662216329,\n",
        "    -0.8864503806400986,\n",
        "]\n",
        "for dim in range(4):\n",
        "    ok = \"OK\" if abs(logits[dim].grad - ans[dim]) < 1e-5 else \"WRONG!\"\n",
        "    print(f\"{ok} for dim {dim}: expected {ans[dim]}, yours returns {logits[dim].grad}\")\n"
      ]
    },
    {
      "attachments": {},
      "cell_type": "markdown",
      "metadata": {},
      "source": [
        "Verify the gradient using the ``torch`` library. ``torch` should give you the exact same gradient."
      ]
    },
    {
      "cell_type": "code",
      "execution_count": 9,
      "metadata": {
        "id": "q7ca1SVAGG1S"
      },
      "outputs": [
        {
          "name": "stdout",
          "output_type": "stream",
          "text": [
            "tensor([ 0.041772571,  0.839024507,  0.005653303, -0.886450381],\n",
            "       dtype=torch.float64)\n"
          ]
        }
      ],
      "source": [
        "logits = torch.tensor([0.0, 3.0, -2.0, 1.0], dtype=torch.double, requires_grad=True)\n",
        "probs = F.softmax(logits, dim=0)\n",
        "loss = -probs[3].log()\n",
        "loss.backward()\n",
        "torch.set_printoptions(precision=9)\n",
        "print(logits.grad)\n"
      ]
    }
  ],
  "metadata": {
    "colab": {
      "provenance": []
    },
    "kernelspec": {
      "display_name": "karpathy-nn-L00z48Da-py3.10",
      "language": "python",
      "name": "python3"
    },
    "language_info": {
      "codemirror_mode": {
        "name": "ipython",
        "version": 3
      },
      "file_extension": ".py",
      "mimetype": "text/x-python",
      "name": "python",
      "nbconvert_exporter": "python",
      "pygments_lexer": "ipython3",
      "version": "3.10.10"
    },
    "vscode": {
      "interpreter": {
        "hash": "1777287656d261b264802db79277cf28c62daaee414facac31cc4d9617e447f5"
      }
    }
  },
  "nbformat": 4,
  "nbformat_minor": 0
}
