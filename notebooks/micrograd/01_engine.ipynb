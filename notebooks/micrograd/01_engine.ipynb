{
 "cells": [
  {
   "cell_type": "code",
   "execution_count": 1,
   "metadata": {},
   "outputs": [],
   "source": [
    "import matplotlib.pyplot as plt\n",
    "import numpy as np\n",
    "import torch\n",
    "\n",
    "from karpathy_nn.micrograd.engine import Value\n",
    "from karpathy_nn.micrograd.utils import draw_graph\n"
   ]
  },
  {
   "attachments": {},
   "cell_type": "markdown",
   "metadata": {},
   "source": [
    "### Gradients"
   ]
  },
  {
   "cell_type": "code",
   "execution_count": 2,
   "metadata": {},
   "outputs": [],
   "source": [
    "def f(x: float | int | np.ndarray) -> float | np.ndarray:\n",
    "    return 3 * x**2 - 4 * x + 5\n"
   ]
  },
  {
   "cell_type": "code",
   "execution_count": 3,
   "metadata": {},
   "outputs": [
    {
     "data": {
      "text/plain": [
       "20.0"
      ]
     },
     "execution_count": 3,
     "metadata": {},
     "output_type": "execute_result"
    }
   ],
   "source": [
    "f(3.0)\n"
   ]
  },
  {
   "cell_type": "code",
   "execution_count": 4,
   "metadata": {},
   "outputs": [
    {
     "data": {
      "image/png": "[encoded data removed]",
      "text/plain": [
       "<Figure size 640x480 with 1 Axes>"
      ]
     },
     "metadata": {},
     "output_type": "display_data"
    }
   ],
   "source": [
    "xs = np.arange(-5, 5, 0.25)\n",
    "ys = f(xs)  # Elementwise transformations\n",
    "\n",
    "_ = plt.plot(xs, ys)\n"
   ]
  },
  {
   "attachments": {},
   "cell_type": "markdown",
   "metadata": {},
   "source": [
    "We will not take the symbolic approach to actually calculate derivatives. (It would be infeasible anyways for today's neural networks.) Instead, we take the intuitive approach to see what the derivative of a function is measuring.\n",
    "\n",
    "For a differentiable function $f: \\mathbb{R} \\rightarrow \\mathbb{R}$ (i.e., the limit below exists),\n",
    "$$\n",
    "f'(x) = \\lim_{h \\rightarrow 0} \\frac{f(a + h) - f(a)}{h}.\n",
    "$$\n",
    "\n",
    "- The derivative of $f$ at point $x$ tells us the relative change in the function value if we perturb $x$ by an infinitesimal amount.\n",
    "- \"Perturb\" means either increase or decrease. For the derivative to exist, the relative change in the function value if we increase $x$ by a bit must agree with the change if we decrease $x$ by a bit.\n",
    "\n",
    "Below we take a numerical approximation of the gradient at $x = 3$."
   ]
  },
  {
   "cell_type": "code",
   "execution_count": 5,
   "metadata": {},
   "outputs": [
    {
     "name": "stdout",
     "output_type": "stream",
     "text": [
      "Positive change: 14.00300000000243\n",
      "Negative change: 13.996999999996262\n"
     ]
    }
   ],
   "source": [
    "h_pos = 0.001\n",
    "h_neg = -h_pos\n",
    "x = 3\n",
    "\n",
    "print(\"Positive change:\", (f(x + h_pos) - f(x)) / h_pos)  # Rise over run\n",
    "print(\"Negative change:\", (f(x + h_neg) - f(x)) / h_neg)\n"
   ]
  },
  {
   "attachments": {},
   "cell_type": "markdown",
   "metadata": {},
   "source": [
    "$f$ is differentiable, and the true value of $f'(x)$, $x \\in \\mathbb{R}$ is\n",
    "$$f'(x) = 6x - 4.$$\n",
    "Plugging in $x = 3$, we obtain $f'(3) = 14$, which is quite close to both approximations above. As we decrease ``h_pos`` or increase ``h_neg`` towards 0, we get a better and better estimate. However, as we use floating point arithmetic (the representation of floating point numbers in computer memory is finite and binary-based), this fails after a certain point, which can be seen below."
   ]
  },
  {
   "cell_type": "code",
   "execution_count": 6,
   "metadata": {},
   "outputs": [
    {
     "name": "stdout",
     "output_type": "stream",
     "text": [
      "Positive change: 0.0\n"
     ]
    }
   ],
   "source": [
    "h_pos = 0.0000000000000001\n",
    "print(\"Positive change:\", (f(x + h_pos) - f(x)) / h_pos)\n"
   ]
  },
  {
   "attachments": {},
   "cell_type": "markdown",
   "metadata": {},
   "source": [
    "At the vertex, the parabola obtains its global minimum, therefore we expect a derivative of $0$. $f$ is a parabola with the $x$ coordinate of the vertex being $2/3$, and the $y$ coordinate being the global minimum value of the function, $11/3$."
   ]
  },
  {
   "cell_type": "code",
   "execution_count": 7,
   "metadata": {},
   "outputs": [
    {
     "name": "stdout",
     "output_type": "stream",
     "text": [
      "Positive change: 2.999378523327323e-06\n"
     ]
    }
   ],
   "source": [
    "x = 2 / 3\n",
    "h_pos = 0.000001\n",
    "print(\"Positive change:\", (f(x + h_pos) - f(x)) / h_pos)\n"
   ]
  },
  {
   "attachments": {},
   "cell_type": "markdown",
   "metadata": {},
   "source": [
    "Let's get more complex."
   ]
  },
  {
   "attachments": {},
   "cell_type": "markdown",
   "metadata": {},
   "source": [
    "We consider a function represented by output variable $d$ that is a function of three variables $a, b,$ and $c$:\n",
    "$$d = ab + c.$$\n",
    "We want to obtain the partial derivatives of the function with respect to $a, b,$ and $c$."
   ]
  },
  {
   "cell_type": "code",
   "execution_count": 8,
   "metadata": {},
   "outputs": [],
   "source": [
    "h = 0.0001\n",
    "\n",
    "# Inputs\n",
    "a = 2.0\n",
    "b = -3.0\n",
    "c = 10.0\n",
    "\n",
    "d1 = a * b + c\n",
    "a += h\n",
    "d2 = a * b + c\n"
   ]
  },
  {
   "attachments": {},
   "cell_type": "markdown",
   "metadata": {},
   "source": [
    "Note: We explicitly write 2.0 instead of 2 throughout this notebook, because the weights will always be floats in a network, and even if we initialize a ``Value`` with an int in our ``micrograd`` framework, if we want to perform a gradient update it will be converted to a float anyway.\n",
    "\n",
    "Is ``d2`` larger or smaller than ``d1``? This determines the sign of the derivative. We can see that $ab$ is negative, so increasing $a$ will result in a decrease of $d$. Therefore, ``d2`` is smaller than ``d1``, and the derivative must be negative."
   ]
  },
  {
   "cell_type": "code",
   "execution_count": 9,
   "metadata": {},
   "outputs": [
    {
     "name": "stdout",
     "output_type": "stream",
     "text": [
      "d1 4.0\n",
      "d2 3.999699999999999\n",
      "slope wrt. a -3.000000000010772\n"
     ]
    }
   ],
   "source": [
    "print(\"d1\", d1)\n",
    "print(\"d2\", d2)\n",
    "print(\n",
    "    \"slope wrt. a\", (d2 - d1) / h\n",
    ")  # We divide by h because the derivative is a normalized change.\n"
   ]
  },
  {
   "attachments": {},
   "cell_type": "markdown",
   "metadata": {},
   "source": [
    "This coincides with the analytical solution:\n",
    "$$\\frac{dd}{da} = b = -3.$$\n",
    "\n",
    "We can calculate the influence of the other variables on $d$ similarly:"
   ]
  },
  {
   "cell_type": "code",
   "execution_count": 10,
   "metadata": {},
   "outputs": [
    {
     "name": "stdout",
     "output_type": "stream",
     "text": [
      "slope wrt. b 2.0000000000042206\n",
      "slope wrt. c 0.9999999999976694\n"
     ]
    }
   ],
   "source": [
    "# Influence of b:\n",
    "# Inputs\n",
    "a = 2.0\n",
    "b = -3.0\n",
    "c = 10.0\n",
    "\n",
    "d1 = a * b + c\n",
    "b += h\n",
    "d2 = a * b + c\n",
    "print(\"slope wrt. b\", (d2 - d1) / h)\n",
    "\n",
    "# Influence of c:\n",
    "# Inputs\n",
    "a = 2.0\n",
    "b = -3.0\n",
    "c = 10.0\n",
    "\n",
    "d1 = a * b + c\n",
    "c += h\n",
    "d2 = a * b + c\n",
    "print(\"slope wrt. c\", (d2 - d1) / h)\n"
   ]
  },
  {
   "attachments": {},
   "cell_type": "markdown",
   "metadata": {},
   "source": [
    "This is correct, as\n",
    "$$\\frac{dd}{db} = a = 2$$\n",
    "and\n",
    "$$\\frac{dd}{dc} = 1.$$"
   ]
  },
  {
   "attachments": {},
   "cell_type": "markdown",
   "metadata": {},
   "source": [
    "### Visualization"
   ]
  },
  {
   "attachments": {},
   "cell_type": "markdown",
   "metadata": {},
   "source": [
    "Now we can build any computational graph of scalar expressions containing only $+,$ and $*$."
   ]
  },
  {
   "cell_type": "code",
   "execution_count": 11,
   "metadata": {},
   "outputs": [
    {
     "data": {
      "image/svg+xml": "<?xml version=\"1.0\" encoding=\"UTF-8\" standalone=\"no\"?>\n<!DOCTYPE svg PUBLIC \"-//W3C//DTD SVG 1.1//EN\"\n \"http://www.w3.org/Graphics/SVG/1.1/DTD/svg11.dtd\">\n<!-- Generated by graphviz version 7.1.0 (20230121.1956)\n -->\n<!-- Pages: 1 -->\n<svg width=\"1148pt\" height=\"154pt\"\n viewBox=\"0.00 0.00 1148.00 154.00\" xmlns=\"http://www.w3.org/2000/svg\" xmlns:xlink=\"http://www.w3.org/1999/xlink\">\n<g id=\"graph0\" class=\"graph\" transform=\"scale(1 1) rotate(0) translate(4 150)\">\n<polygon fill=\"white\" stroke=\"none\" points=\"-4,4 -4,-150 1144,-150 1144,4 -4,4\"/>\n<!-- 5382728736 -->\n<g id=\"node1\" class=\"node\">\n<title>5382728736</title>\n<polygon fill=\"none\" stroke=\"black\" points=\"317,-27.5 317,-63.5 507,-63.5 507,-27.5 317,-27.5\"/>\n<text text-anchor=\"middle\" x=\"328.5\" y=\"-41.8\" font-family=\"Times,serif\" font-size=\"14.00\">d</text>\n<polyline fill=\"none\" stroke=\"black\" points=\"340,-27.5 340,-63.5\"/>\n<text text-anchor=\"middle\" x=\"382.5\" y=\"-41.8\" font-family=\"Times,serif\" font-size=\"14.00\">data &#45;6.0000</text>\n<polyline fill=\"none\" stroke=\"black\" points=\"425,-27.5 425,-63.5\"/>\n<text text-anchor=\"middle\" x=\"466\" y=\"-41.8\" font-family=\"Times,serif\" font-size=\"14.00\">grad 0.0000</text>\n</g>\n<!-- 5382726480+ -->\n<g id=\"node8\" class=\"node\">\n<title>5382726480+</title>\n<ellipse fill=\"none\" stroke=\"black\" cx=\"571\" cy=\"-72.5\" rx=\"27\" ry=\"18\"/>\n<text text-anchor=\"middle\" x=\"571\" y=\"-68.8\" font-family=\"Times,serif\" font-size=\"14.00\">+</text>\n</g>\n<!-- 5382728736&#45;&gt;5382726480+ -->\n<g id=\"edge6\" class=\"edge\">\n<title>5382728736&#45;&gt;5382726480+</title>\n<path fill=\"none\" stroke=\"black\" d=\"M506.59,-61.6C515.95,-63.2 525,-64.76 533.21,-66.17\"/>\n<polygon fill=\"black\" stroke=\"black\" points=\"532.6,-69.62 543.05,-67.87 533.79,-62.72 532.6,-69.62\"/>\n</g>\n<!-- 5382728736* -->\n<g id=\"node2\" class=\"node\">\n<title>5382728736*</title>\n<ellipse fill=\"none\" stroke=\"black\" cx=\"253\" cy=\"-45.5\" rx=\"27\" ry=\"18\"/>\n<text text-anchor=\"middle\" x=\"253\" y=\"-41.8\" font-family=\"Times,serif\" font-size=\"14.00\">*</text>\n</g>\n<!-- 5382728736*&#45;&gt;5382728736 -->\n<g id=\"edge1\" class=\"edge\">\n<title>5382728736*&#45;&gt;5382728736</title>\n<path fill=\"none\" stroke=\"black\" d=\"M280.28,-45.5C287.79,-45.5 296.46,-45.5 305.7,-45.5\"/>\n<polygon fill=\"black\" stroke=\"black\" points=\"305.7,-49 315.7,-45.5 305.7,-42 305.7,-49\"/>\n</g>\n<!-- 5382726624 -->\n<g id=\"node3\" class=\"node\">\n<title>5382726624</title>\n<polygon fill=\"none\" stroke=\"black\" points=\"634,-109.5 634,-145.5 822,-145.5 822,-109.5 634,-109.5\"/>\n<text text-anchor=\"middle\" x=\"644.5\" y=\"-123.8\" font-family=\"Times,serif\" font-size=\"14.00\">f</text>\n<polyline fill=\"none\" stroke=\"black\" points=\"655,-109.5 655,-145.5\"/>\n<text text-anchor=\"middle\" x=\"697.5\" y=\"-123.8\" font-family=\"Times,serif\" font-size=\"14.00\">data &#45;2.0000</text>\n<polyline fill=\"none\" stroke=\"black\" points=\"740,-109.5 740,-145.5\"/>\n<text text-anchor=\"middle\" x=\"781\" y=\"-123.8\" font-family=\"Times,serif\" font-size=\"14.00\">grad 0.0000</text>\n</g>\n<!-- 5382726384* -->\n<g id=\"node5\" class=\"node\">\n<title>5382726384*</title>\n<ellipse fill=\"none\" stroke=\"black\" cx=\"885\" cy=\"-99.5\" rx=\"27\" ry=\"18\"/>\n<text text-anchor=\"middle\" x=\"885\" y=\"-95.8\" font-family=\"Times,serif\" font-size=\"14.00\">*</text>\n</g>\n<!-- 5382726624&#45;&gt;5382726384* -->\n<g id=\"edge9\" class=\"edge\">\n<title>5382726624&#45;&gt;5382726384*</title>\n<path fill=\"none\" stroke=\"black\" d=\"M821.85,-110.73C830.75,-109.12 839.38,-107.56 847.22,-106.14\"/>\n<polygon fill=\"black\" stroke=\"black\" points=\"847.76,-109.6 856.98,-104.38 846.52,-102.71 847.76,-109.6\"/>\n</g>\n<!-- 5382726384 -->\n<g id=\"node4\" class=\"node\">\n<title>5382726384</title>\n<polygon fill=\"none\" stroke=\"black\" points=\"948,-81.5 948,-117.5 1140,-117.5 1140,-81.5 948,-81.5\"/>\n<text text-anchor=\"middle\" x=\"960.5\" y=\"-95.8\" font-family=\"Times,serif\" font-size=\"14.00\">L</text>\n<polyline fill=\"none\" stroke=\"black\" points=\"973,-81.5 973,-117.5\"/>\n<text text-anchor=\"middle\" x=\"1015.5\" y=\"-95.8\" font-family=\"Times,serif\" font-size=\"14.00\">data &#45;8.0000</text>\n<polyline fill=\"none\" stroke=\"black\" points=\"1058,-81.5 1058,-117.5\"/>\n<text text-anchor=\"middle\" x=\"1099\" y=\"-95.8\" font-family=\"Times,serif\" font-size=\"14.00\">grad 0.0000</text>\n</g>\n<!-- 5382726384*&#45;&gt;5382726384 -->\n<g id=\"edge2\" class=\"edge\">\n<title>5382726384*&#45;&gt;5382726384</title>\n<path fill=\"none\" stroke=\"black\" d=\"M912.28,-99.5C919.52,-99.5 927.85,-99.5 936.72,-99.5\"/>\n<polygon fill=\"black\" stroke=\"black\" points=\"936.69,-103 946.69,-99.5 936.69,-96 936.69,-103\"/>\n</g>\n<!-- 5382322976 -->\n<g id=\"node6\" class=\"node\">\n<title>5382322976</title>\n<polygon fill=\"none\" stroke=\"black\" points=\"2.5,-55.5 2.5,-91.5 187.5,-91.5 187.5,-55.5 2.5,-55.5\"/>\n<text text-anchor=\"middle\" x=\"14\" y=\"-69.8\" font-family=\"Times,serif\" font-size=\"14.00\">a</text>\n<polyline fill=\"none\" stroke=\"black\" points=\"25.5,-55.5 25.5,-91.5\"/>\n<text text-anchor=\"middle\" x=\"65.5\" y=\"-69.8\" font-family=\"Times,serif\" font-size=\"14.00\">data 2.0000</text>\n<polyline fill=\"none\" stroke=\"black\" points=\"105.5,-55.5 105.5,-91.5\"/>\n<text text-anchor=\"middle\" x=\"146.5\" y=\"-69.8\" font-family=\"Times,serif\" font-size=\"14.00\">grad 0.0000</text>\n</g>\n<!-- 5382322976&#45;&gt;5382728736* -->\n<g id=\"edge4\" class=\"edge\">\n<title>5382322976&#45;&gt;5382728736*</title>\n<path fill=\"none\" stroke=\"black\" d=\"M187.2,-57.13C197.1,-55.35 206.71,-53.63 215.36,-52.08\"/>\n<polygon fill=\"black\" stroke=\"black\" points=\"215.79,-55.55 225.02,-50.34 214.56,-48.66 215.79,-55.55\"/>\n</g>\n<!-- 5382726480 -->\n<g id=\"node7\" class=\"node\">\n<title>5382726480</title>\n<polygon fill=\"none\" stroke=\"black\" points=\"635.5,-54.5 635.5,-90.5 820.5,-90.5 820.5,-54.5 635.5,-54.5\"/>\n<text text-anchor=\"middle\" x=\"647\" y=\"-68.8\" font-family=\"Times,serif\" font-size=\"14.00\">e</text>\n<polyline fill=\"none\" stroke=\"black\" points=\"658.5,-54.5 658.5,-90.5\"/>\n<text text-anchor=\"middle\" x=\"698.5\" y=\"-68.8\" font-family=\"Times,serif\" font-size=\"14.00\">data 4.0000</text>\n<polyline fill=\"none\" stroke=\"black\" points=\"738.5,-54.5 738.5,-90.5\"/>\n<text text-anchor=\"middle\" x=\"779.5\" y=\"-68.8\" font-family=\"Times,serif\" font-size=\"14.00\">grad 0.0000</text>\n</g>\n<!-- 5382726480&#45;&gt;5382726384* -->\n<g id=\"edge5\" class=\"edge\">\n<title>5382726480&#45;&gt;5382726384*</title>\n<path fill=\"none\" stroke=\"black\" d=\"M820.06,-88.36C829.65,-90.03 838.94,-91.65 847.35,-93.12\"/>\n<polygon fill=\"black\" stroke=\"black\" points=\"846.62,-96.54 857.07,-94.81 847.82,-89.65 846.62,-96.54\"/>\n</g>\n<!-- 5382726480+&#45;&gt;5382726480 -->\n<g id=\"edge3\" class=\"edge\">\n<title>5382726480+&#45;&gt;5382726480</title>\n<path fill=\"none\" stroke=\"black\" d=\"M598.29,-72.5C605.99,-72.5 614.91,-72.5 624.39,-72.5\"/>\n<polygon fill=\"black\" stroke=\"black\" points=\"624.22,-76 634.22,-72.5 624.22,-69 624.22,-76\"/>\n</g>\n<!-- 5381389712 -->\n<g id=\"node9\" class=\"node\">\n<title>5381389712</title>\n<polygon fill=\"none\" stroke=\"black\" points=\"0,-0.5 0,-36.5 190,-36.5 190,-0.5 0,-0.5\"/>\n<text text-anchor=\"middle\" x=\"11.5\" y=\"-14.8\" font-family=\"Times,serif\" font-size=\"14.00\">b</text>\n<polyline fill=\"none\" stroke=\"black\" points=\"23,-0.5 23,-36.5\"/>\n<text text-anchor=\"middle\" x=\"65.5\" y=\"-14.8\" font-family=\"Times,serif\" font-size=\"14.00\">data &#45;3.0000</text>\n<polyline fill=\"none\" stroke=\"black\" points=\"108,-0.5 108,-36.5\"/>\n<text text-anchor=\"middle\" x=\"149\" y=\"-14.8\" font-family=\"Times,serif\" font-size=\"14.00\">grad 0.0000</text>\n</g>\n<!-- 5381389712&#45;&gt;5382728736* -->\n<g id=\"edge8\" class=\"edge\">\n<title>5381389712&#45;&gt;5382728736*</title>\n<path fill=\"none\" stroke=\"black\" d=\"M189.9,-34.75C198.81,-36.29 207.43,-37.79 215.28,-39.14\"/>\n<polygon fill=\"black\" stroke=\"black\" points=\"214.57,-42.57 225.02,-40.83 215.76,-35.68 214.57,-42.57\"/>\n</g>\n<!-- 5381389280 -->\n<g id=\"node10\" class=\"node\">\n<title>5381389280</title>\n<polygon fill=\"none\" stroke=\"black\" points=\"316,-82.5 316,-118.5 508,-118.5 508,-82.5 316,-82.5\"/>\n<text text-anchor=\"middle\" x=\"327.5\" y=\"-96.8\" font-family=\"Times,serif\" font-size=\"14.00\">c</text>\n<polyline fill=\"none\" stroke=\"black\" points=\"339,-82.5 339,-118.5\"/>\n<text text-anchor=\"middle\" x=\"382.5\" y=\"-96.8\" font-family=\"Times,serif\" font-size=\"14.00\">data 10.0000</text>\n<polyline fill=\"none\" stroke=\"black\" points=\"426,-82.5 426,-118.5\"/>\n<text text-anchor=\"middle\" x=\"467\" y=\"-96.8\" font-family=\"Times,serif\" font-size=\"14.00\">grad 0.0000</text>\n</g>\n<!-- 5381389280&#45;&gt;5382726480+ -->\n<g id=\"edge7\" class=\"edge\">\n<title>5381389280&#45;&gt;5382726480+</title>\n<path fill=\"none\" stroke=\"black\" d=\"M507.95,-83.57C516.87,-81.98 525.49,-80.44 533.33,-79.04\"/>\n<polygon fill=\"black\" stroke=\"black\" points=\"533.84,-82.5 543.07,-77.3 532.61,-75.61 533.84,-82.5\"/>\n</g>\n</g>\n</svg>\n",
      "text/plain": [
       "<graphviz.graphs.Digraph at 0x140c17d30>"
      ]
     },
     "execution_count": 11,
     "metadata": {},
     "output_type": "execute_result"
    }
   ],
   "source": [
    "a = Value(2.0, label=\"a\")\n",
    "b = Value(-3.0, label=\"b\")\n",
    "c = Value(10.0, label=\"c\")\n",
    "d = a * b\n",
    "d.label = \"d\"\n",
    "e = d + c\n",
    "e.label = \"e\"\n",
    "f = Value(-2.0, label=\"f\")\n",
    "L = e * f\n",
    "L.label = \"L\"\n",
    "\n",
    "draw_graph(L)\n"
   ]
  },
  {
   "attachments": {},
   "cell_type": "markdown",
   "metadata": {},
   "source": [
    "Note: the provided gradient values are obviously incorrect, because we have not yet used backpropagation to populate them."
   ]
  },
  {
   "cell_type": "code",
   "execution_count": 12,
   "metadata": {},
   "outputs": [
    {
     "name": "stdout",
     "output_type": "stream",
     "text": [
      "dL/de: -2.000000000000668\n"
     ]
    }
   ],
   "source": [
    "def numerical_dLde(h: float = 0.001) -> None:\n",
    "    \"\"\"Calculates a numerical approximation of the partial derivative of L wrt. e,\n",
    "    which can be used as a gradient check.\n",
    "\n",
    "    Args:\n",
    "        h: Determines how good our approximation is. For very small h, we run into\n",
    "            numerical issues.\n",
    "\n",
    "    Returns:\n",
    "        dL/da.\n",
    "    \"\"\"\n",
    "    a = Value(2.0, label=\"a\")\n",
    "    b = Value(-3.0, label=\"b\")\n",
    "    c = Value(10.0, label=\"c\")\n",
    "    d = a * b\n",
    "    d.label = \"d\"\n",
    "    e = d + c\n",
    "    e.label = \"e\"\n",
    "    f = Value(-2.0, label=\"f\")\n",
    "    L = e * f\n",
    "    L.label = \"L\"\n",
    "    L1 = L.data\n",
    "\n",
    "    a = Value(2.0, label=\"a\")\n",
    "    b = Value(-3.0, label=\"b\")\n",
    "    c = Value(10.0, label=\"c\")\n",
    "    d = a * b\n",
    "    d.label = \"d\"\n",
    "    e = d + c\n",
    "    e.label = \"e\"\n",
    "    e.data += h\n",
    "    f = Value(-2.0, label=\"f\")\n",
    "    L = e * f\n",
    "    L.label = \"L2\"\n",
    "    L2 = L.data\n",
    "\n",
    "    print(\"dL/de:\", (L2 - L1) / h)\n",
    "\n",
    "\n",
    "numerical_dLde()\n"
   ]
  },
  {
   "attachments": {},
   "cell_type": "markdown",
   "metadata": {},
   "source": [
    "Note: Deriving the derivative of a linear function is remarkably easy:\n",
    "$$L = ef \\implies \\frac{dL}{de} = \\lim_{h \\rightarrow 0} \\frac{(e+h)f - ef}{h} = f.$$\n",
    "This also shows that for linear functions of a variable (like above), calculating any partial via a finite-difference approximation gives exact results. In a computer, real numbers are represented by floating point arithmetics, leading to small errors (the interpreter is not smart enough to make the simplification we just did above and will introduce errors).\n",
    "\n",
    "For partials of $L$ wrt. variables that are not direct predecessors of it, we can use the chain rule. E.g.:\n",
    "$$\\frac{dL}{db} = \\frac{dL}{de}\\frac{de}{dd}\\frac{dd}{db}.$$\n",
    "\n",
    "Whenever we have a plus node, it only *distributes* the gradient at an \"intersection\" of a computational graph to both children nodes, as it keeps the gradient value unchanged (as given by the chain rule).\n",
    "\n",
    "Whenever we have a times node, it only multiplies the incoming gradient by the other operand.\n",
    "\n",
    "Backpropagation is just a recursive application of the chain rule, backwards through the computational graph."
   ]
  },
  {
   "attachments": {},
   "cell_type": "markdown",
   "metadata": {},
   "source": [
    "### Backpropagating Through a Neuron"
   ]
  },
  {
   "attachments": {},
   "cell_type": "markdown",
   "metadata": {},
   "source": [
    "Biologically, neurons are very complicated biological devices. However, we can build very simple mathematical models of them, which leads us to the perceptron, and also the multi-layer perceptron (MLP).\n",
    "- We have simple inputs $x_i$ to the artificial neuron. \n",
    "- The artificial neuron has **synapses** that have weights $w_i$ on them.\n",
    "- The synapse interacts with the corresponding input to the neuron through its weights multiplicatively. The value that flows to the cell body through the synapse is $w_ix_i$.\n",
    "- There are many synapses, as many as there are inputs. The **cell body** sums up the values that flow towards it ($\\sum_i w_i x_i$) and also adds a bias term.\n",
    "    - The **bias term** controls the innate trigger-happiness of the neuron. Increasing the bias can make it more trigger-happy (decreasing it does the opposite) *regardless of the input*.\n",
    "- Finally, an **activation function** transforms this affine transformation of the inputs as\n",
    "$$f\\left(\\sum_i w_i x_i + b\\right)$$\n",
    "which is the value that flows through the neuron's **output axon**. The activation function used to be often a squashing function (e.g. sigmoid, tanh), but nowadays the ReLU function or variations thereof are used.\n",
    "\n",
    "Let's write out an example perceptron with a 2D input."
   ]
  },
  {
   "cell_type": "code",
   "execution_count": 13,
   "metadata": {},
   "outputs": [
    {
     "data": {
      "image/svg+xml": "<?xml version=\"1.0\" encoding=\"UTF-8\" standalone=\"no\"?>\n<!DOCTYPE svg PUBLIC \"-//W3C//DTD SVG 1.1//EN\"\n \"http://www.w3.org/Graphics/SVG/1.1/DTD/svg11.dtd\">\n<!-- Generated by graphviz version 7.1.0 (20230121.1956)\n -->\n<!-- Pages: 1 -->\n<svg width=\"1671pt\" height=\"210pt\"\n viewBox=\"0.00 0.00 1671.00 210.00\" xmlns=\"http://www.w3.org/2000/svg\" xmlns:xlink=\"http://www.w3.org/1999/xlink\">\n<g id=\"graph0\" class=\"graph\" transform=\"scale(1 1) rotate(0) translate(4 206)\">\n<polygon fill=\"white\" stroke=\"none\" points=\"-4,4 -4,-206 1667,-206 1667,4 -4,4\"/>\n<!-- 4396925952 -->\n<g id=\"node1\" class=\"node\">\n<title>4396925952</title>\n<polygon fill=\"none\" stroke=\"black\" points=\"4,-165.5 4,-201.5 196,-201.5 196,-165.5 4,-165.5\"/>\n<text text-anchor=\"middle\" x=\"19\" y=\"-179.8\" font-family=\"Times,serif\" font-size=\"14.00\">x2</text>\n<polyline fill=\"none\" stroke=\"black\" points=\"34,-165.5 34,-201.5\"/>\n<text text-anchor=\"middle\" x=\"74\" y=\"-179.8\" font-family=\"Times,serif\" font-size=\"14.00\">data 0.0000</text>\n<polyline fill=\"none\" stroke=\"black\" points=\"114,-165.5 114,-201.5\"/>\n<text text-anchor=\"middle\" x=\"155\" y=\"-179.8\" font-family=\"Times,serif\" font-size=\"14.00\">grad 0.0000</text>\n</g>\n<!-- 5382725808* -->\n<g id=\"node8\" class=\"node\">\n<title>5382725808*</title>\n<ellipse fill=\"none\" stroke=\"black\" cx=\"263\" cy=\"-128.5\" rx=\"27\" ry=\"18\"/>\n<text text-anchor=\"middle\" x=\"263\" y=\"-124.8\" font-family=\"Times,serif\" font-size=\"14.00\">*</text>\n</g>\n<!-- 4396925952&#45;&gt;5382725808* -->\n<g id=\"edge9\" class=\"edge\">\n<title>4396925952&#45;&gt;5382725808*</title>\n<path fill=\"none\" stroke=\"black\" d=\"M172.27,-165.52C181.67,-162.72 191.12,-159.7 200,-156.5 210.09,-152.87 220.83,-148.29 230.48,-143.89\"/>\n<polygon fill=\"black\" stroke=\"black\" points=\"231.87,-147.11 239.45,-139.71 228.91,-140.76 231.87,-147.11\"/>\n</g>\n<!-- 4396929024 -->\n<g id=\"node2\" class=\"node\">\n<title>4396929024</title>\n<polygon fill=\"none\" stroke=\"black\" points=\"703,-27.5 703,-63.5 888,-63.5 888,-27.5 703,-27.5\"/>\n<text text-anchor=\"middle\" x=\"714.5\" y=\"-41.8\" font-family=\"Times,serif\" font-size=\"14.00\">b</text>\n<polyline fill=\"none\" stroke=\"black\" points=\"726,-27.5 726,-63.5\"/>\n<text text-anchor=\"middle\" x=\"766\" y=\"-41.8\" font-family=\"Times,serif\" font-size=\"14.00\">data 6.8814</text>\n<polyline fill=\"none\" stroke=\"black\" points=\"806,-27.5 806,-63.5\"/>\n<text text-anchor=\"middle\" x=\"847\" y=\"-41.8\" font-family=\"Times,serif\" font-size=\"14.00\">grad 0.0000</text>\n</g>\n<!-- 5382732960+ -->\n<g id=\"node6\" class=\"node\">\n<title>5382732960+</title>\n<ellipse fill=\"none\" stroke=\"black\" cx=\"988\" cy=\"-72.5\" rx=\"27\" ry=\"18\"/>\n<text text-anchor=\"middle\" x=\"988\" y=\"-68.8\" font-family=\"Times,serif\" font-size=\"14.00\">+</text>\n</g>\n<!-- 4396929024&#45;&gt;5382732960+ -->\n<g id=\"edge10\" class=\"edge\">\n<title>4396929024&#45;&gt;5382732960+</title>\n<path fill=\"none\" stroke=\"black\" d=\"M887.84,-58.45C909.83,-61.56 932.09,-64.72 949.94,-67.25\"/>\n<polygon fill=\"black\" stroke=\"black\" points=\"949.36,-70.7 959.75,-68.64 950.34,-63.77 949.36,-70.7\"/>\n</g>\n<!-- 5382733440 -->\n<g id=\"node3\" class=\"node\">\n<title>5382733440</title>\n<polygon fill=\"none\" stroke=\"black\" points=\"666,-82.5 666,-118.5 925,-118.5 925,-82.5 666,-82.5\"/>\n<text text-anchor=\"middle\" x=\"712\" y=\"-96.8\" font-family=\"Times,serif\" font-size=\"14.00\">x1w1 + x2w2</text>\n<polyline fill=\"none\" stroke=\"black\" points=\"758,-82.5 758,-118.5\"/>\n<text text-anchor=\"middle\" x=\"800.5\" y=\"-96.8\" font-family=\"Times,serif\" font-size=\"14.00\">data &#45;6.0000</text>\n<polyline fill=\"none\" stroke=\"black\" points=\"843,-82.5 843,-118.5\"/>\n<text text-anchor=\"middle\" x=\"884\" y=\"-96.8\" font-family=\"Times,serif\" font-size=\"14.00\">grad 0.0000</text>\n</g>\n<!-- 5382733440&#45;&gt;5382732960+ -->\n<g id=\"edge14\" class=\"edge\">\n<title>5382733440&#45;&gt;5382732960+</title>\n<path fill=\"none\" stroke=\"black\" d=\"M918.76,-82.53C929.97,-80.88 940.64,-79.31 950.06,-77.93\"/>\n<polygon fill=\"black\" stroke=\"black\" points=\"950.4,-81.42 959.79,-76.5 949.39,-74.49 950.4,-81.42\"/>\n</g>\n<!-- 5382733440+ -->\n<g id=\"node4\" class=\"node\">\n<title>5382733440+</title>\n<ellipse fill=\"none\" stroke=\"black\" cx=\"603\" cy=\"-100.5\" rx=\"27\" ry=\"18\"/>\n<text text-anchor=\"middle\" x=\"603\" y=\"-96.8\" font-family=\"Times,serif\" font-size=\"14.00\">+</text>\n</g>\n<!-- 5382733440+&#45;&gt;5382733440 -->\n<g id=\"edge1\" class=\"edge\">\n<title>5382733440+&#45;&gt;5382733440</title>\n<path fill=\"none\" stroke=\"black\" d=\"M630.49,-100.5C637.68,-100.5 646,-100.5 654.99,-100.5\"/>\n<polygon fill=\"black\" stroke=\"black\" points=\"654.76,-104 664.76,-100.5 654.76,-97 654.76,-104\"/>\n</g>\n<!-- 5382732960 -->\n<g id=\"node5\" class=\"node\">\n<title>5382732960</title>\n<polygon fill=\"none\" stroke=\"black\" points=\"1051,-54.5 1051,-90.5 1305,-90.5 1305,-54.5 1051,-54.5\"/>\n<text text-anchor=\"middle\" x=\"1097\" y=\"-68.8\" font-family=\"Times,serif\" font-size=\"14.00\">pre&#45;activation</text>\n<polyline fill=\"none\" stroke=\"black\" points=\"1143,-54.5 1143,-90.5\"/>\n<text text-anchor=\"middle\" x=\"1183\" y=\"-68.8\" font-family=\"Times,serif\" font-size=\"14.00\">data 0.8814</text>\n<polyline fill=\"none\" stroke=\"black\" points=\"1223,-54.5 1223,-90.5\"/>\n<text text-anchor=\"middle\" x=\"1264\" y=\"-68.8\" font-family=\"Times,serif\" font-size=\"14.00\">grad 0.0000</text>\n</g>\n<!-- 5382732720tanh -->\n<g id=\"node13\" class=\"node\">\n<title>5382732720tanh</title>\n<ellipse fill=\"none\" stroke=\"black\" cx=\"1368\" cy=\"-72.5\" rx=\"27\" ry=\"18\"/>\n<text text-anchor=\"middle\" x=\"1368\" y=\"-68.8\" font-family=\"Times,serif\" font-size=\"14.00\">tanh</text>\n</g>\n<!-- 5382732960&#45;&gt;5382732720tanh -->\n<g id=\"edge11\" class=\"edge\">\n<title>5382732960&#45;&gt;5382732720tanh</title>\n<path fill=\"none\" stroke=\"black\" d=\"M1304.92,-72.5C1313.51,-72.5 1321.69,-72.5 1329.14,-72.5\"/>\n<polygon fill=\"black\" stroke=\"black\" points=\"1329.02,-76 1339.02,-72.5 1329.02,-69 1329.02,-76\"/>\n</g>\n<!-- 5382732960+&#45;&gt;5382732960 -->\n<g id=\"edge2\" class=\"edge\">\n<title>5382732960+&#45;&gt;5382732960</title>\n<path fill=\"none\" stroke=\"black\" d=\"M1015.14,-72.5C1022.39,-72.5 1030.78,-72.5 1039.86,-72.5\"/>\n<polygon fill=\"black\" stroke=\"black\" points=\"1039.74,-76 1049.74,-72.5 1039.74,-69 1039.74,-76\"/>\n</g>\n<!-- 5382725808 -->\n<g id=\"node7\" class=\"node\">\n<title>5382725808</title>\n<polygon fill=\"none\" stroke=\"black\" points=\"328.5,-110.5 328.5,-146.5 537.5,-146.5 537.5,-110.5 328.5,-110.5\"/>\n<text text-anchor=\"middle\" x=\"352\" y=\"-124.8\" font-family=\"Times,serif\" font-size=\"14.00\">x2w2</text>\n<polyline fill=\"none\" stroke=\"black\" points=\"375.5,-110.5 375.5,-146.5\"/>\n<text text-anchor=\"middle\" x=\"415.5\" y=\"-124.8\" font-family=\"Times,serif\" font-size=\"14.00\">data 0.0000</text>\n<polyline fill=\"none\" stroke=\"black\" points=\"455.5,-110.5 455.5,-146.5\"/>\n<text text-anchor=\"middle\" x=\"496.5\" y=\"-124.8\" font-family=\"Times,serif\" font-size=\"14.00\">grad 0.0000</text>\n</g>\n<!-- 5382725808&#45;&gt;5382733440+ -->\n<g id=\"edge6\" class=\"edge\">\n<title>5382725808&#45;&gt;5382733440+</title>\n<path fill=\"none\" stroke=\"black\" d=\"M537.05,-111.33C547.04,-109.66 556.65,-108.06 565.28,-106.62\"/>\n<polygon fill=\"black\" stroke=\"black\" points=\"565.59,-110.12 574.88,-105.02 564.44,-103.21 565.59,-110.12\"/>\n</g>\n<!-- 5382725808*&#45;&gt;5382725808 -->\n<g id=\"edge3\" class=\"edge\">\n<title>5382725808*&#45;&gt;5382725808</title>\n<path fill=\"none\" stroke=\"black\" d=\"M290.25,-128.5C298.16,-128.5 307.4,-128.5 317.3,-128.5\"/>\n<polygon fill=\"black\" stroke=\"black\" points=\"317.2,-132 327.2,-128.5 317.2,-125 317.2,-132\"/>\n</g>\n<!-- 4396940448 -->\n<g id=\"node9\" class=\"node\">\n<title>4396940448</title>\n<polygon fill=\"none\" stroke=\"black\" points=\"0,-55.5 0,-91.5 200,-91.5 200,-55.5 0,-55.5\"/>\n<text text-anchor=\"middle\" x=\"16.5\" y=\"-69.8\" font-family=\"Times,serif\" font-size=\"14.00\">w1</text>\n<polyline fill=\"none\" stroke=\"black\" points=\"33,-55.5 33,-91.5\"/>\n<text text-anchor=\"middle\" x=\"75.5\" y=\"-69.8\" font-family=\"Times,serif\" font-size=\"14.00\">data &#45;3.0000</text>\n<polyline fill=\"none\" stroke=\"black\" points=\"118,-55.5 118,-91.5\"/>\n<text text-anchor=\"middle\" x=\"159\" y=\"-69.8\" font-family=\"Times,serif\" font-size=\"14.00\">grad 0.0000</text>\n</g>\n<!-- 4396925424* -->\n<g id=\"node15\" class=\"node\">\n<title>4396925424*</title>\n<ellipse fill=\"none\" stroke=\"black\" cx=\"263\" cy=\"-73.5\" rx=\"27\" ry=\"18\"/>\n<text text-anchor=\"middle\" x=\"263\" y=\"-69.8\" font-family=\"Times,serif\" font-size=\"14.00\">*</text>\n</g>\n<!-- 4396940448&#45;&gt;4396925424* -->\n<g id=\"edge8\" class=\"edge\">\n<title>4396940448&#45;&gt;4396925424*</title>\n<path fill=\"none\" stroke=\"black\" d=\"M199.75,-73.5C208.38,-73.5 216.71,-73.5 224.33,-73.5\"/>\n<polygon fill=\"black\" stroke=\"black\" points=\"224.12,-77 234.12,-73.5 224.12,-70 224.12,-77\"/>\n</g>\n<!-- 4396925760 -->\n<g id=\"node10\" class=\"node\">\n<title>4396925760</title>\n<polygon fill=\"none\" stroke=\"black\" points=\"4,-0.5 4,-36.5 196,-36.5 196,-0.5 4,-0.5\"/>\n<text text-anchor=\"middle\" x=\"19\" y=\"-14.8\" font-family=\"Times,serif\" font-size=\"14.00\">x1</text>\n<polyline fill=\"none\" stroke=\"black\" points=\"34,-0.5 34,-36.5\"/>\n<text text-anchor=\"middle\" x=\"74\" y=\"-14.8\" font-family=\"Times,serif\" font-size=\"14.00\">data 2.0000</text>\n<polyline fill=\"none\" stroke=\"black\" points=\"114,-0.5 114,-36.5\"/>\n<text text-anchor=\"middle\" x=\"155\" y=\"-14.8\" font-family=\"Times,serif\" font-size=\"14.00\">grad 0.0000</text>\n</g>\n<!-- 4396925760&#45;&gt;4396925424* -->\n<g id=\"edge7\" class=\"edge\">\n<title>4396925760&#45;&gt;4396925424*</title>\n<path fill=\"none\" stroke=\"black\" d=\"M169.02,-36.42C179.47,-39.56 190.08,-42.95 200,-46.5 209.96,-50.06 220.59,-54.46 230.18,-58.66\"/>\n<polygon fill=\"black\" stroke=\"black\" points=\"228.54,-61.76 239.1,-62.66 231.4,-55.37 228.54,-61.76\"/>\n</g>\n<!-- 4396941216 -->\n<g id=\"node11\" class=\"node\">\n<title>4396941216</title>\n<polygon fill=\"none\" stroke=\"black\" points=\"2.5,-110.5 2.5,-146.5 197.5,-146.5 197.5,-110.5 2.5,-110.5\"/>\n<text text-anchor=\"middle\" x=\"19\" y=\"-124.8\" font-family=\"Times,serif\" font-size=\"14.00\">w2</text>\n<polyline fill=\"none\" stroke=\"black\" points=\"35.5,-110.5 35.5,-146.5\"/>\n<text text-anchor=\"middle\" x=\"75.5\" y=\"-124.8\" font-family=\"Times,serif\" font-size=\"14.00\">data 1.0000</text>\n<polyline fill=\"none\" stroke=\"black\" points=\"115.5,-110.5 115.5,-146.5\"/>\n<text text-anchor=\"middle\" x=\"156.5\" y=\"-124.8\" font-family=\"Times,serif\" font-size=\"14.00\">grad 0.0000</text>\n</g>\n<!-- 4396941216&#45;&gt;5382725808* -->\n<g id=\"edge12\" class=\"edge\">\n<title>4396941216&#45;&gt;5382725808*</title>\n<path fill=\"none\" stroke=\"black\" d=\"M197.44,-128.5C206.89,-128.5 216.04,-128.5 224.32,-128.5\"/>\n<polygon fill=\"black\" stroke=\"black\" points=\"224.28,-132 234.28,-128.5 224.28,-125 224.28,-132\"/>\n</g>\n<!-- 5382732720 -->\n<g id=\"node12\" class=\"node\">\n<title>5382732720</title>\n<polygon fill=\"none\" stroke=\"black\" points=\"1431,-54.5 1431,-90.5 1663,-90.5 1663,-54.5 1431,-54.5\"/>\n<text text-anchor=\"middle\" x=\"1466\" y=\"-68.8\" font-family=\"Times,serif\" font-size=\"14.00\">activation</text>\n<polyline fill=\"none\" stroke=\"black\" points=\"1501,-54.5 1501,-90.5\"/>\n<text text-anchor=\"middle\" x=\"1541\" y=\"-68.8\" font-family=\"Times,serif\" font-size=\"14.00\">data 0.7071</text>\n<polyline fill=\"none\" stroke=\"black\" points=\"1581,-54.5 1581,-90.5\"/>\n<text text-anchor=\"middle\" x=\"1622\" y=\"-68.8\" font-family=\"Times,serif\" font-size=\"14.00\">grad 0.0000</text>\n</g>\n<!-- 5382732720tanh&#45;&gt;5382732720 -->\n<g id=\"edge4\" class=\"edge\">\n<title>5382732720tanh&#45;&gt;5382732720</title>\n<path fill=\"none\" stroke=\"black\" d=\"M1395.5,-72.5C1402.62,-72.5 1410.81,-72.5 1419.63,-72.5\"/>\n<polygon fill=\"black\" stroke=\"black\" points=\"1419.57,-76 1429.57,-72.5 1419.57,-69 1419.57,-76\"/>\n</g>\n<!-- 4396925424 -->\n<g id=\"node14\" class=\"node\">\n<title>4396925424</title>\n<polygon fill=\"none\" stroke=\"black\" points=\"326,-55.5 326,-91.5 540,-91.5 540,-55.5 326,-55.5\"/>\n<text text-anchor=\"middle\" x=\"349.5\" y=\"-69.8\" font-family=\"Times,serif\" font-size=\"14.00\">x1w1</text>\n<polyline fill=\"none\" stroke=\"black\" points=\"373,-55.5 373,-91.5\"/>\n<text text-anchor=\"middle\" x=\"415.5\" y=\"-69.8\" font-family=\"Times,serif\" font-size=\"14.00\">data &#45;6.0000</text>\n<polyline fill=\"none\" stroke=\"black\" points=\"458,-55.5 458,-91.5\"/>\n<text text-anchor=\"middle\" x=\"499\" y=\"-69.8\" font-family=\"Times,serif\" font-size=\"14.00\">grad 0.0000</text>\n</g>\n<!-- 4396925424&#45;&gt;5382733440+ -->\n<g id=\"edge13\" class=\"edge\">\n<title>4396925424&#45;&gt;5382733440+</title>\n<path fill=\"none\" stroke=\"black\" d=\"M539.92,-90.52C548.88,-91.96 557.49,-93.35 565.29,-94.6\"/>\n<polygon fill=\"black\" stroke=\"black\" points=\"564.52,-98.02 574.95,-96.15 565.63,-91.11 564.52,-98.02\"/>\n</g>\n<!-- 4396925424*&#45;&gt;4396925424 -->\n<g id=\"edge5\" class=\"edge\">\n<title>4396925424*&#45;&gt;4396925424</title>\n<path fill=\"none\" stroke=\"black\" d=\"M290.25,-73.5C297.53,-73.5 305.94,-73.5 314.95,-73.5\"/>\n<polygon fill=\"black\" stroke=\"black\" points=\"314.69,-77 324.69,-73.5 314.69,-70 314.69,-77\"/>\n</g>\n</g>\n</svg>\n",
      "text/plain": [
       "<graphviz.graphs.Digraph at 0x140d5ebf0>"
      ]
     },
     "execution_count": 13,
     "metadata": {},
     "output_type": "execute_result"
    }
   ],
   "source": [
    "# Inputs: x1, x2.\n",
    "x1 = Value(2.0, label=\"x1\")\n",
    "x2 = Value(0.0, label=\"x2\")\n",
    "\n",
    "# Weights (synaptic strengths for each input):\n",
    "w1 = Value(-3.0, label=\"w1\")\n",
    "w2 = Value(1.0, label=\"w2\")\n",
    "\n",
    "# Bias of the neuron:\n",
    "b = Value(6.8813735870195432, label=\"b\")  # To have nice numbers later on.\n",
    "\n",
    "x1w1 = x1 * w1\n",
    "x1w1.label = \"x1w1\"\n",
    "x2w2 = x2 * w2\n",
    "x2w2.label = \"x2w2\"\n",
    "x1w1plusx2w2 = x1w1 + x2w2\n",
    "x1w1plusx2w2.label = \"x1w1 + x2w2\"\n",
    "pre_activation = x1w1plusx2w2 + b\n",
    "pre_activation.label = \"pre-activation\"\n",
    "activation = pre_activation.tanh()\n",
    "activation.label = \"activation\"\n",
    "\n",
    "draw_graph(activation)\n"
   ]
  },
  {
   "attachments": {},
   "cell_type": "markdown",
   "metadata": {},
   "source": [
    "We are doing everything in tiny steps, such that we have pointers to all intermediate computations and our computational graph is pretty. It *is* pretty, but the ``grad`` values are incorrect, because we have not yet run backpropagation. Let's quickly do that."
   ]
  },
  {
   "cell_type": "code",
   "execution_count": 14,
   "metadata": {},
   "outputs": [
    {
     "data": {
      "image/svg+xml": "<?xml version=\"1.0\" encoding=\"UTF-8\" standalone=\"no\"?>\n<!DOCTYPE svg PUBLIC \"-//W3C//DTD SVG 1.1//EN\"\n \"http://www.w3.org/Graphics/SVG/1.1/DTD/svg11.dtd\">\n<!-- Generated by graphviz version 7.1.0 (20230121.1956)\n -->\n<!-- Pages: 1 -->\n<svg width=\"1671pt\" height=\"210pt\"\n viewBox=\"0.00 0.00 1671.00 210.00\" xmlns=\"http://www.w3.org/2000/svg\" xmlns:xlink=\"http://www.w3.org/1999/xlink\">\n<g id=\"graph0\" class=\"graph\" transform=\"scale(1 1) rotate(0) translate(4 206)\">\n<polygon fill=\"white\" stroke=\"none\" points=\"-4,4 -4,-206 1667,-206 1667,4 -4,4\"/>\n<!-- 4396925952 -->\n<g id=\"node1\" class=\"node\">\n<title>4396925952</title>\n<polygon fill=\"none\" stroke=\"black\" points=\"4,-165.5 4,-201.5 196,-201.5 196,-165.5 4,-165.5\"/>\n<text text-anchor=\"middle\" x=\"19\" y=\"-179.8\" font-family=\"Times,serif\" font-size=\"14.00\">x2</text>\n<polyline fill=\"none\" stroke=\"black\" points=\"34,-165.5 34,-201.5\"/>\n<text text-anchor=\"middle\" x=\"74\" y=\"-179.8\" font-family=\"Times,serif\" font-size=\"14.00\">data 0.0000</text>\n<polyline fill=\"none\" stroke=\"black\" points=\"114,-165.5 114,-201.5\"/>\n<text text-anchor=\"middle\" x=\"155\" y=\"-179.8\" font-family=\"Times,serif\" font-size=\"14.00\">grad 0.5000</text>\n</g>\n<!-- 5382725808* -->\n<g id=\"node8\" class=\"node\">\n<title>5382725808*</title>\n<ellipse fill=\"none\" stroke=\"black\" cx=\"263\" cy=\"-128.5\" rx=\"27\" ry=\"18\"/>\n<text text-anchor=\"middle\" x=\"263\" y=\"-124.8\" font-family=\"Times,serif\" font-size=\"14.00\">*</text>\n</g>\n<!-- 4396925952&#45;&gt;5382725808* -->\n<g id=\"edge9\" class=\"edge\">\n<title>4396925952&#45;&gt;5382725808*</title>\n<path fill=\"none\" stroke=\"black\" d=\"M172.27,-165.52C181.67,-162.72 191.12,-159.7 200,-156.5 210.09,-152.87 220.83,-148.29 230.48,-143.89\"/>\n<polygon fill=\"black\" stroke=\"black\" points=\"231.87,-147.11 239.45,-139.71 228.91,-140.76 231.87,-147.11\"/>\n</g>\n<!-- 4396929024 -->\n<g id=\"node2\" class=\"node\">\n<title>4396929024</title>\n<polygon fill=\"none\" stroke=\"black\" points=\"703,-27.5 703,-63.5 888,-63.5 888,-27.5 703,-27.5\"/>\n<text text-anchor=\"middle\" x=\"714.5\" y=\"-41.8\" font-family=\"Times,serif\" font-size=\"14.00\">b</text>\n<polyline fill=\"none\" stroke=\"black\" points=\"726,-27.5 726,-63.5\"/>\n<text text-anchor=\"middle\" x=\"766\" y=\"-41.8\" font-family=\"Times,serif\" font-size=\"14.00\">data 6.8814</text>\n<polyline fill=\"none\" stroke=\"black\" points=\"806,-27.5 806,-63.5\"/>\n<text text-anchor=\"middle\" x=\"847\" y=\"-41.8\" font-family=\"Times,serif\" font-size=\"14.00\">grad 0.5000</text>\n</g>\n<!-- 5382732960+ -->\n<g id=\"node6\" class=\"node\">\n<title>5382732960+</title>\n<ellipse fill=\"none\" stroke=\"black\" cx=\"988\" cy=\"-72.5\" rx=\"27\" ry=\"18\"/>\n<text text-anchor=\"middle\" x=\"988\" y=\"-68.8\" font-family=\"Times,serif\" font-size=\"14.00\">+</text>\n</g>\n<!-- 4396929024&#45;&gt;5382732960+ -->\n<g id=\"edge10\" class=\"edge\">\n<title>4396929024&#45;&gt;5382732960+</title>\n<path fill=\"none\" stroke=\"black\" d=\"M887.84,-58.45C909.83,-61.56 932.09,-64.72 949.94,-67.25\"/>\n<polygon fill=\"black\" stroke=\"black\" points=\"949.36,-70.7 959.75,-68.64 950.34,-63.77 949.36,-70.7\"/>\n</g>\n<!-- 5382733440 -->\n<g id=\"node3\" class=\"node\">\n<title>5382733440</title>\n<polygon fill=\"none\" stroke=\"black\" points=\"666,-82.5 666,-118.5 925,-118.5 925,-82.5 666,-82.5\"/>\n<text text-anchor=\"middle\" x=\"712\" y=\"-96.8\" font-family=\"Times,serif\" font-size=\"14.00\">x1w1 + x2w2</text>\n<polyline fill=\"none\" stroke=\"black\" points=\"758,-82.5 758,-118.5\"/>\n<text text-anchor=\"middle\" x=\"800.5\" y=\"-96.8\" font-family=\"Times,serif\" font-size=\"14.00\">data &#45;6.0000</text>\n<polyline fill=\"none\" stroke=\"black\" points=\"843,-82.5 843,-118.5\"/>\n<text text-anchor=\"middle\" x=\"884\" y=\"-96.8\" font-family=\"Times,serif\" font-size=\"14.00\">grad 0.5000</text>\n</g>\n<!-- 5382733440&#45;&gt;5382732960+ -->\n<g id=\"edge14\" class=\"edge\">\n<title>5382733440&#45;&gt;5382732960+</title>\n<path fill=\"none\" stroke=\"black\" d=\"M918.76,-82.53C929.97,-80.88 940.64,-79.31 950.06,-77.93\"/>\n<polygon fill=\"black\" stroke=\"black\" points=\"950.4,-81.42 959.79,-76.5 949.39,-74.49 950.4,-81.42\"/>\n</g>\n<!-- 5382733440+ -->\n<g id=\"node4\" class=\"node\">\n<title>5382733440+</title>\n<ellipse fill=\"none\" stroke=\"black\" cx=\"603\" cy=\"-100.5\" rx=\"27\" ry=\"18\"/>\n<text text-anchor=\"middle\" x=\"603\" y=\"-96.8\" font-family=\"Times,serif\" font-size=\"14.00\">+</text>\n</g>\n<!-- 5382733440+&#45;&gt;5382733440 -->\n<g id=\"edge1\" class=\"edge\">\n<title>5382733440+&#45;&gt;5382733440</title>\n<path fill=\"none\" stroke=\"black\" d=\"M630.49,-100.5C637.68,-100.5 646,-100.5 654.99,-100.5\"/>\n<polygon fill=\"black\" stroke=\"black\" points=\"654.76,-104 664.76,-100.5 654.76,-97 654.76,-104\"/>\n</g>\n<!-- 5382732960 -->\n<g id=\"node5\" class=\"node\">\n<title>5382732960</title>\n<polygon fill=\"none\" stroke=\"black\" points=\"1051,-54.5 1051,-90.5 1305,-90.5 1305,-54.5 1051,-54.5\"/>\n<text text-anchor=\"middle\" x=\"1097\" y=\"-68.8\" font-family=\"Times,serif\" font-size=\"14.00\">pre&#45;activation</text>\n<polyline fill=\"none\" stroke=\"black\" points=\"1143,-54.5 1143,-90.5\"/>\n<text text-anchor=\"middle\" x=\"1183\" y=\"-68.8\" font-family=\"Times,serif\" font-size=\"14.00\">data 0.8814</text>\n<polyline fill=\"none\" stroke=\"black\" points=\"1223,-54.5 1223,-90.5\"/>\n<text text-anchor=\"middle\" x=\"1264\" y=\"-68.8\" font-family=\"Times,serif\" font-size=\"14.00\">grad 0.5000</text>\n</g>\n<!-- 5382732720tanh -->\n<g id=\"node13\" class=\"node\">\n<title>5382732720tanh</title>\n<ellipse fill=\"none\" stroke=\"black\" cx=\"1368\" cy=\"-72.5\" rx=\"27\" ry=\"18\"/>\n<text text-anchor=\"middle\" x=\"1368\" y=\"-68.8\" font-family=\"Times,serif\" font-size=\"14.00\">tanh</text>\n</g>\n<!-- 5382732960&#45;&gt;5382732720tanh -->\n<g id=\"edge11\" class=\"edge\">\n<title>5382732960&#45;&gt;5382732720tanh</title>\n<path fill=\"none\" stroke=\"black\" d=\"M1304.92,-72.5C1313.51,-72.5 1321.69,-72.5 1329.14,-72.5\"/>\n<polygon fill=\"black\" stroke=\"black\" points=\"1329.02,-76 1339.02,-72.5 1329.02,-69 1329.02,-76\"/>\n</g>\n<!-- 5382732960+&#45;&gt;5382732960 -->\n<g id=\"edge2\" class=\"edge\">\n<title>5382732960+&#45;&gt;5382732960</title>\n<path fill=\"none\" stroke=\"black\" d=\"M1015.14,-72.5C1022.39,-72.5 1030.78,-72.5 1039.86,-72.5\"/>\n<polygon fill=\"black\" stroke=\"black\" points=\"1039.74,-76 1049.74,-72.5 1039.74,-69 1039.74,-76\"/>\n</g>\n<!-- 5382725808 -->\n<g id=\"node7\" class=\"node\">\n<title>5382725808</title>\n<polygon fill=\"none\" stroke=\"black\" points=\"328.5,-110.5 328.5,-146.5 537.5,-146.5 537.5,-110.5 328.5,-110.5\"/>\n<text text-anchor=\"middle\" x=\"352\" y=\"-124.8\" font-family=\"Times,serif\" font-size=\"14.00\">x2w2</text>\n<polyline fill=\"none\" stroke=\"black\" points=\"375.5,-110.5 375.5,-146.5\"/>\n<text text-anchor=\"middle\" x=\"415.5\" y=\"-124.8\" font-family=\"Times,serif\" font-size=\"14.00\">data 0.0000</text>\n<polyline fill=\"none\" stroke=\"black\" points=\"455.5,-110.5 455.5,-146.5\"/>\n<text text-anchor=\"middle\" x=\"496.5\" y=\"-124.8\" font-family=\"Times,serif\" font-size=\"14.00\">grad 0.5000</text>\n</g>\n<!-- 5382725808&#45;&gt;5382733440+ -->\n<g id=\"edge6\" class=\"edge\">\n<title>5382725808&#45;&gt;5382733440+</title>\n<path fill=\"none\" stroke=\"black\" d=\"M537.05,-111.33C547.04,-109.66 556.65,-108.06 565.28,-106.62\"/>\n<polygon fill=\"black\" stroke=\"black\" points=\"565.59,-110.12 574.88,-105.02 564.44,-103.21 565.59,-110.12\"/>\n</g>\n<!-- 5382725808*&#45;&gt;5382725808 -->\n<g id=\"edge3\" class=\"edge\">\n<title>5382725808*&#45;&gt;5382725808</title>\n<path fill=\"none\" stroke=\"black\" d=\"M290.25,-128.5C298.16,-128.5 307.4,-128.5 317.3,-128.5\"/>\n<polygon fill=\"black\" stroke=\"black\" points=\"317.2,-132 327.2,-128.5 317.2,-125 317.2,-132\"/>\n</g>\n<!-- 4396940448 -->\n<g id=\"node9\" class=\"node\">\n<title>4396940448</title>\n<polygon fill=\"none\" stroke=\"black\" points=\"0,-55.5 0,-91.5 200,-91.5 200,-55.5 0,-55.5\"/>\n<text text-anchor=\"middle\" x=\"16.5\" y=\"-69.8\" font-family=\"Times,serif\" font-size=\"14.00\">w1</text>\n<polyline fill=\"none\" stroke=\"black\" points=\"33,-55.5 33,-91.5\"/>\n<text text-anchor=\"middle\" x=\"75.5\" y=\"-69.8\" font-family=\"Times,serif\" font-size=\"14.00\">data &#45;3.0000</text>\n<polyline fill=\"none\" stroke=\"black\" points=\"118,-55.5 118,-91.5\"/>\n<text text-anchor=\"middle\" x=\"159\" y=\"-69.8\" font-family=\"Times,serif\" font-size=\"14.00\">grad 1.0000</text>\n</g>\n<!-- 4396925424* -->\n<g id=\"node15\" class=\"node\">\n<title>4396925424*</title>\n<ellipse fill=\"none\" stroke=\"black\" cx=\"263\" cy=\"-73.5\" rx=\"27\" ry=\"18\"/>\n<text text-anchor=\"middle\" x=\"263\" y=\"-69.8\" font-family=\"Times,serif\" font-size=\"14.00\">*</text>\n</g>\n<!-- 4396940448&#45;&gt;4396925424* -->\n<g id=\"edge8\" class=\"edge\">\n<title>4396940448&#45;&gt;4396925424*</title>\n<path fill=\"none\" stroke=\"black\" d=\"M199.75,-73.5C208.38,-73.5 216.71,-73.5 224.33,-73.5\"/>\n<polygon fill=\"black\" stroke=\"black\" points=\"224.12,-77 234.12,-73.5 224.12,-70 224.12,-77\"/>\n</g>\n<!-- 4396925760 -->\n<g id=\"node10\" class=\"node\">\n<title>4396925760</title>\n<polygon fill=\"none\" stroke=\"black\" points=\"2,-0.5 2,-36.5 198,-36.5 198,-0.5 2,-0.5\"/>\n<text text-anchor=\"middle\" x=\"17\" y=\"-14.8\" font-family=\"Times,serif\" font-size=\"14.00\">x1</text>\n<polyline fill=\"none\" stroke=\"black\" points=\"32,-0.5 32,-36.5\"/>\n<text text-anchor=\"middle\" x=\"72\" y=\"-14.8\" font-family=\"Times,serif\" font-size=\"14.00\">data 2.0000</text>\n<polyline fill=\"none\" stroke=\"black\" points=\"112,-0.5 112,-36.5\"/>\n<text text-anchor=\"middle\" x=\"155\" y=\"-14.8\" font-family=\"Times,serif\" font-size=\"14.00\">grad &#45;1.5000</text>\n</g>\n<!-- 4396925760&#45;&gt;4396925424* -->\n<g id=\"edge7\" class=\"edge\">\n<title>4396925760&#45;&gt;4396925424*</title>\n<path fill=\"none\" stroke=\"black\" d=\"M169.02,-36.42C179.47,-39.56 190.08,-42.95 200,-46.5 209.96,-50.06 220.59,-54.46 230.18,-58.66\"/>\n<polygon fill=\"black\" stroke=\"black\" points=\"228.54,-61.76 239.1,-62.66 231.4,-55.37 228.54,-61.76\"/>\n</g>\n<!-- 4396941216 -->\n<g id=\"node11\" class=\"node\">\n<title>4396941216</title>\n<polygon fill=\"none\" stroke=\"black\" points=\"2.5,-110.5 2.5,-146.5 197.5,-146.5 197.5,-110.5 2.5,-110.5\"/>\n<text text-anchor=\"middle\" x=\"19\" y=\"-124.8\" font-family=\"Times,serif\" font-size=\"14.00\">w2</text>\n<polyline fill=\"none\" stroke=\"black\" points=\"35.5,-110.5 35.5,-146.5\"/>\n<text text-anchor=\"middle\" x=\"75.5\" y=\"-124.8\" font-family=\"Times,serif\" font-size=\"14.00\">data 1.0000</text>\n<polyline fill=\"none\" stroke=\"black\" points=\"115.5,-110.5 115.5,-146.5\"/>\n<text text-anchor=\"middle\" x=\"156.5\" y=\"-124.8\" font-family=\"Times,serif\" font-size=\"14.00\">grad 0.0000</text>\n</g>\n<!-- 4396941216&#45;&gt;5382725808* -->\n<g id=\"edge12\" class=\"edge\">\n<title>4396941216&#45;&gt;5382725808*</title>\n<path fill=\"none\" stroke=\"black\" d=\"M197.44,-128.5C206.89,-128.5 216.04,-128.5 224.32,-128.5\"/>\n<polygon fill=\"black\" stroke=\"black\" points=\"224.28,-132 234.28,-128.5 224.28,-125 224.28,-132\"/>\n</g>\n<!-- 5382732720 -->\n<g id=\"node12\" class=\"node\">\n<title>5382732720</title>\n<polygon fill=\"none\" stroke=\"black\" points=\"1431,-54.5 1431,-90.5 1663,-90.5 1663,-54.5 1431,-54.5\"/>\n<text text-anchor=\"middle\" x=\"1466\" y=\"-68.8\" font-family=\"Times,serif\" font-size=\"14.00\">activation</text>\n<polyline fill=\"none\" stroke=\"black\" points=\"1501,-54.5 1501,-90.5\"/>\n<text text-anchor=\"middle\" x=\"1541\" y=\"-68.8\" font-family=\"Times,serif\" font-size=\"14.00\">data 0.7071</text>\n<polyline fill=\"none\" stroke=\"black\" points=\"1581,-54.5 1581,-90.5\"/>\n<text text-anchor=\"middle\" x=\"1622\" y=\"-68.8\" font-family=\"Times,serif\" font-size=\"14.00\">grad 1.0000</text>\n</g>\n<!-- 5382732720tanh&#45;&gt;5382732720 -->\n<g id=\"edge4\" class=\"edge\">\n<title>5382732720tanh&#45;&gt;5382732720</title>\n<path fill=\"none\" stroke=\"black\" d=\"M1395.5,-72.5C1402.62,-72.5 1410.81,-72.5 1419.63,-72.5\"/>\n<polygon fill=\"black\" stroke=\"black\" points=\"1419.57,-76 1429.57,-72.5 1419.57,-69 1419.57,-76\"/>\n</g>\n<!-- 4396925424 -->\n<g id=\"node14\" class=\"node\">\n<title>4396925424</title>\n<polygon fill=\"none\" stroke=\"black\" points=\"326,-55.5 326,-91.5 540,-91.5 540,-55.5 326,-55.5\"/>\n<text text-anchor=\"middle\" x=\"349.5\" y=\"-69.8\" font-family=\"Times,serif\" font-size=\"14.00\">x1w1</text>\n<polyline fill=\"none\" stroke=\"black\" points=\"373,-55.5 373,-91.5\"/>\n<text text-anchor=\"middle\" x=\"415.5\" y=\"-69.8\" font-family=\"Times,serif\" font-size=\"14.00\">data &#45;6.0000</text>\n<polyline fill=\"none\" stroke=\"black\" points=\"458,-55.5 458,-91.5\"/>\n<text text-anchor=\"middle\" x=\"499\" y=\"-69.8\" font-family=\"Times,serif\" font-size=\"14.00\">grad 0.5000</text>\n</g>\n<!-- 4396925424&#45;&gt;5382733440+ -->\n<g id=\"edge13\" class=\"edge\">\n<title>4396925424&#45;&gt;5382733440+</title>\n<path fill=\"none\" stroke=\"black\" d=\"M539.92,-90.52C548.88,-91.96 557.49,-93.35 565.29,-94.6\"/>\n<polygon fill=\"black\" stroke=\"black\" points=\"564.52,-98.02 574.95,-96.15 565.63,-91.11 564.52,-98.02\"/>\n</g>\n<!-- 4396925424*&#45;&gt;4396925424 -->\n<g id=\"edge5\" class=\"edge\">\n<title>4396925424*&#45;&gt;4396925424</title>\n<path fill=\"none\" stroke=\"black\" d=\"M290.25,-73.5C297.53,-73.5 305.94,-73.5 314.95,-73.5\"/>\n<polygon fill=\"black\" stroke=\"black\" points=\"314.69,-77 324.69,-73.5 314.69,-70 314.69,-77\"/>\n</g>\n</g>\n</svg>\n",
      "text/plain": [
       "<graphviz.graphs.Digraph at 0x140d5f910>"
      ]
     },
     "execution_count": 14,
     "metadata": {},
     "output_type": "execute_result"
    }
   ],
   "source": [
    "activation.backward()\n",
    "draw_graph(activation)\n"
   ]
  },
  {
   "attachments": {},
   "cell_type": "markdown",
   "metadata": {},
   "source": [
    "Now everything seems correct. Let's now try to decrease the value of $L$. To this end, we can simply nudge each of the leaf variables in the direction of their gradient manually."
   ]
  },
  {
   "cell_type": "code",
   "execution_count": 15,
   "metadata": {},
   "outputs": [
    {
     "data": {
      "image/svg+xml": "<?xml version=\"1.0\" encoding=\"UTF-8\" standalone=\"no\"?>\n<!DOCTYPE svg PUBLIC \"-//W3C//DTD SVG 1.1//EN\"\n \"http://www.w3.org/Graphics/SVG/1.1/DTD/svg11.dtd\">\n<!-- Generated by graphviz version 7.1.0 (20230121.1956)\n -->\n<!-- Pages: 1 -->\n<svg width=\"1671pt\" height=\"210pt\"\n viewBox=\"0.00 0.00 1671.00 210.00\" xmlns=\"http://www.w3.org/2000/svg\" xmlns:xlink=\"http://www.w3.org/1999/xlink\">\n<g id=\"graph0\" class=\"graph\" transform=\"scale(1 1) rotate(0) translate(4 206)\">\n<polygon fill=\"white\" stroke=\"none\" points=\"-4,4 -4,-206 1667,-206 1667,4 -4,4\"/>\n<!-- 4396929024 -->\n<g id=\"node1\" class=\"node\">\n<title>4396929024</title>\n<polygon fill=\"none\" stroke=\"black\" points=\"703,-137.5 703,-173.5 888,-173.5 888,-137.5 703,-137.5\"/>\n<text text-anchor=\"middle\" x=\"714.5\" y=\"-151.8\" font-family=\"Times,serif\" font-size=\"14.00\">b</text>\n<polyline fill=\"none\" stroke=\"black\" points=\"726,-137.5 726,-173.5\"/>\n<text text-anchor=\"middle\" x=\"766\" y=\"-151.8\" font-family=\"Times,serif\" font-size=\"14.00\">data 6.8314</text>\n<polyline fill=\"none\" stroke=\"black\" points=\"806,-137.5 806,-173.5\"/>\n<text text-anchor=\"middle\" x=\"847\" y=\"-151.8\" font-family=\"Times,serif\" font-size=\"14.00\">grad 0.0000</text>\n</g>\n<!-- 5382731760+ -->\n<g id=\"node15\" class=\"node\">\n<title>5382731760+</title>\n<ellipse fill=\"none\" stroke=\"black\" cx=\"988\" cy=\"-127.5\" rx=\"27\" ry=\"18\"/>\n<text text-anchor=\"middle\" x=\"988\" y=\"-123.8\" font-family=\"Times,serif\" font-size=\"14.00\">+</text>\n</g>\n<!-- 4396929024&#45;&gt;5382731760+ -->\n<g id=\"edge10\" class=\"edge\">\n<title>4396929024&#45;&gt;5382731760+</title>\n<path fill=\"none\" stroke=\"black\" d=\"M887.84,-142.07C909.83,-138.84 932.09,-135.57 949.94,-132.95\"/>\n<polygon fill=\"black\" stroke=\"black\" points=\"950.37,-136.42 959.75,-131.5 949.35,-129.5 950.37,-136.42\"/>\n</g>\n<!-- 5382729744 -->\n<g id=\"node2\" class=\"node\">\n<title>5382729744</title>\n<polygon fill=\"none\" stroke=\"black\" points=\"1431,-109.5 1431,-145.5 1663,-145.5 1663,-109.5 1431,-109.5\"/>\n<text text-anchor=\"middle\" x=\"1466\" y=\"-123.8\" font-family=\"Times,serif\" font-size=\"14.00\">activation</text>\n<polyline fill=\"none\" stroke=\"black\" points=\"1501,-109.5 1501,-145.5\"/>\n<text text-anchor=\"middle\" x=\"1541\" y=\"-123.8\" font-family=\"Times,serif\" font-size=\"14.00\">data 0.5590</text>\n<polyline fill=\"none\" stroke=\"black\" points=\"1581,-109.5 1581,-145.5\"/>\n<text text-anchor=\"middle\" x=\"1622\" y=\"-123.8\" font-family=\"Times,serif\" font-size=\"14.00\">grad 0.0000</text>\n</g>\n<!-- 5382729744tanh -->\n<g id=\"node3\" class=\"node\">\n<title>5382729744tanh</title>\n<ellipse fill=\"none\" stroke=\"black\" cx=\"1368\" cy=\"-127.5\" rx=\"27\" ry=\"18\"/>\n<text text-anchor=\"middle\" x=\"1368\" y=\"-123.8\" font-family=\"Times,serif\" font-size=\"14.00\">tanh</text>\n</g>\n<!-- 5382729744tanh&#45;&gt;5382729744 -->\n<g id=\"edge1\" class=\"edge\">\n<title>5382729744tanh&#45;&gt;5382729744</title>\n<path fill=\"none\" stroke=\"black\" d=\"M1395.5,-127.5C1402.62,-127.5 1410.81,-127.5 1419.63,-127.5\"/>\n<polygon fill=\"black\" stroke=\"black\" points=\"1419.57,-131 1429.57,-127.5 1419.57,-124 1419.57,-131\"/>\n</g>\n<!-- 5382726672 -->\n<g id=\"node4\" class=\"node\">\n<title>5382726672</title>\n<polygon fill=\"none\" stroke=\"black\" points=\"326,-110.5 326,-146.5 540,-146.5 540,-110.5 326,-110.5\"/>\n<text text-anchor=\"middle\" x=\"349.5\" y=\"-124.8\" font-family=\"Times,serif\" font-size=\"14.00\">x1w1</text>\n<polyline fill=\"none\" stroke=\"black\" points=\"373,-110.5 373,-146.5\"/>\n<text text-anchor=\"middle\" x=\"415.5\" y=\"-124.8\" font-family=\"Times,serif\" font-size=\"14.00\">data &#45;6.2000</text>\n<polyline fill=\"none\" stroke=\"black\" points=\"458,-110.5 458,-146.5\"/>\n<text text-anchor=\"middle\" x=\"499\" y=\"-124.8\" font-family=\"Times,serif\" font-size=\"14.00\">grad 0.0000</text>\n</g>\n<!-- 5382725136+ -->\n<g id=\"node7\" class=\"node\">\n<title>5382725136+</title>\n<ellipse fill=\"none\" stroke=\"black\" cx=\"603\" cy=\"-100.5\" rx=\"27\" ry=\"18\"/>\n<text text-anchor=\"middle\" x=\"603\" y=\"-96.8\" font-family=\"Times,serif\" font-size=\"14.00\">+</text>\n</g>\n<!-- 5382726672&#45;&gt;5382725136+ -->\n<g id=\"edge11\" class=\"edge\">\n<title>5382726672&#45;&gt;5382725136+</title>\n<path fill=\"none\" stroke=\"black\" d=\"M539.92,-110.85C548.88,-109.35 557.49,-107.92 565.29,-106.62\"/>\n<polygon fill=\"black\" stroke=\"black\" points=\"565.66,-110.1 574.95,-105.01 564.51,-103.2 565.66,-110.1\"/>\n</g>\n<!-- 5382726672* -->\n<g id=\"node5\" class=\"node\">\n<title>5382726672*</title>\n<ellipse fill=\"none\" stroke=\"black\" cx=\"263\" cy=\"-128.5\" rx=\"27\" ry=\"18\"/>\n<text text-anchor=\"middle\" x=\"263\" y=\"-124.8\" font-family=\"Times,serif\" font-size=\"14.00\">*</text>\n</g>\n<!-- 5382726672*&#45;&gt;5382726672 -->\n<g id=\"edge2\" class=\"edge\">\n<title>5382726672*&#45;&gt;5382726672</title>\n<path fill=\"none\" stroke=\"black\" d=\"M290.25,-128.5C297.53,-128.5 305.94,-128.5 314.95,-128.5\"/>\n<polygon fill=\"black\" stroke=\"black\" points=\"314.69,-132 324.69,-128.5 314.69,-125 314.69,-132\"/>\n</g>\n<!-- 5382725136 -->\n<g id=\"node6\" class=\"node\">\n<title>5382725136</title>\n<polygon fill=\"none\" stroke=\"black\" points=\"666,-82.5 666,-118.5 925,-118.5 925,-82.5 666,-82.5\"/>\n<text text-anchor=\"middle\" x=\"712\" y=\"-96.8\" font-family=\"Times,serif\" font-size=\"14.00\">x1w1 + x2w2</text>\n<polyline fill=\"none\" stroke=\"black\" points=\"758,-82.5 758,-118.5\"/>\n<text text-anchor=\"middle\" x=\"800.5\" y=\"-96.8\" font-family=\"Times,serif\" font-size=\"14.00\">data &#45;6.2000</text>\n<polyline fill=\"none\" stroke=\"black\" points=\"843,-82.5 843,-118.5\"/>\n<text text-anchor=\"middle\" x=\"884\" y=\"-96.8\" font-family=\"Times,serif\" font-size=\"14.00\">grad 0.0000</text>\n</g>\n<!-- 5382725136&#45;&gt;5382731760+ -->\n<g id=\"edge8\" class=\"edge\">\n<title>5382725136&#45;&gt;5382731760+</title>\n<path fill=\"none\" stroke=\"black\" d=\"M923.3,-118.47C932.78,-119.82 941.79,-121.09 949.89,-122.24\"/>\n<polygon fill=\"black\" stroke=\"black\" points=\"949.17,-125.67 959.56,-123.61 950.15,-118.74 949.17,-125.67\"/>\n</g>\n<!-- 5382725136+&#45;&gt;5382725136 -->\n<g id=\"edge3\" class=\"edge\">\n<title>5382725136+&#45;&gt;5382725136</title>\n<path fill=\"none\" stroke=\"black\" d=\"M630.49,-100.5C637.68,-100.5 646,-100.5 654.99,-100.5\"/>\n<polygon fill=\"black\" stroke=\"black\" points=\"654.76,-104 664.76,-100.5 654.76,-97 654.76,-104\"/>\n</g>\n<!-- 4396925952 -->\n<g id=\"node8\" class=\"node\">\n<title>4396925952</title>\n<polygon fill=\"none\" stroke=\"black\" points=\"4,-55.5 4,-91.5 196,-91.5 196,-55.5 4,-55.5\"/>\n<text text-anchor=\"middle\" x=\"19\" y=\"-69.8\" font-family=\"Times,serif\" font-size=\"14.00\">x2</text>\n<polyline fill=\"none\" stroke=\"black\" points=\"34,-55.5 34,-91.5\"/>\n<text text-anchor=\"middle\" x=\"74\" y=\"-69.8\" font-family=\"Times,serif\" font-size=\"14.00\">data 0.0000</text>\n<polyline fill=\"none\" stroke=\"black\" points=\"114,-55.5 114,-91.5\"/>\n<text text-anchor=\"middle\" x=\"155\" y=\"-69.8\" font-family=\"Times,serif\" font-size=\"14.00\">grad 0.0000</text>\n</g>\n<!-- 5382729312* -->\n<g id=\"node10\" class=\"node\">\n<title>5382729312*</title>\n<ellipse fill=\"none\" stroke=\"black\" cx=\"263\" cy=\"-73.5\" rx=\"27\" ry=\"18\"/>\n<text text-anchor=\"middle\" x=\"263\" y=\"-69.8\" font-family=\"Times,serif\" font-size=\"14.00\">*</text>\n</g>\n<!-- 4396925952&#45;&gt;5382729312* -->\n<g id=\"edge6\" class=\"edge\">\n<title>4396925952&#45;&gt;5382729312*</title>\n<path fill=\"none\" stroke=\"black\" d=\"M195.59,-73.5C205.66,-73.5 215.42,-73.5 224.23,-73.5\"/>\n<polygon fill=\"black\" stroke=\"black\" points=\"224.07,-77 234.07,-73.5 224.07,-70 224.07,-77\"/>\n</g>\n<!-- 5382729312 -->\n<g id=\"node9\" class=\"node\">\n<title>5382729312</title>\n<polygon fill=\"none\" stroke=\"black\" points=\"328.5,-55.5 328.5,-91.5 537.5,-91.5 537.5,-55.5 328.5,-55.5\"/>\n<text text-anchor=\"middle\" x=\"352\" y=\"-69.8\" font-family=\"Times,serif\" font-size=\"14.00\">x2w2</text>\n<polyline fill=\"none\" stroke=\"black\" points=\"375.5,-55.5 375.5,-91.5\"/>\n<text text-anchor=\"middle\" x=\"415.5\" y=\"-69.8\" font-family=\"Times,serif\" font-size=\"14.00\">data 0.0000</text>\n<polyline fill=\"none\" stroke=\"black\" points=\"455.5,-55.5 455.5,-91.5\"/>\n<text text-anchor=\"middle\" x=\"496.5\" y=\"-69.8\" font-family=\"Times,serif\" font-size=\"14.00\">grad 0.0000</text>\n</g>\n<!-- 5382729312&#45;&gt;5382725136+ -->\n<g id=\"edge14\" class=\"edge\">\n<title>5382729312&#45;&gt;5382725136+</title>\n<path fill=\"none\" stroke=\"black\" d=\"M537.05,-90.06C547.04,-91.67 556.65,-93.21 565.28,-94.6\"/>\n<polygon fill=\"black\" stroke=\"black\" points=\"564.45,-98.01 574.88,-96.14 565.56,-91.1 564.45,-98.01\"/>\n</g>\n<!-- 5382729312*&#45;&gt;5382729312 -->\n<g id=\"edge4\" class=\"edge\">\n<title>5382729312*&#45;&gt;5382729312</title>\n<path fill=\"none\" stroke=\"black\" d=\"M290.25,-73.5C298.16,-73.5 307.4,-73.5 317.3,-73.5\"/>\n<polygon fill=\"black\" stroke=\"black\" points=\"317.2,-77 327.2,-73.5 317.2,-70 317.2,-77\"/>\n</g>\n<!-- 4396940448 -->\n<g id=\"node11\" class=\"node\">\n<title>4396940448</title>\n<polygon fill=\"none\" stroke=\"black\" points=\"0,-165.5 0,-201.5 200,-201.5 200,-165.5 0,-165.5\"/>\n<text text-anchor=\"middle\" x=\"16.5\" y=\"-179.8\" font-family=\"Times,serif\" font-size=\"14.00\">w1</text>\n<polyline fill=\"none\" stroke=\"black\" points=\"33,-165.5 33,-201.5\"/>\n<text text-anchor=\"middle\" x=\"75.5\" y=\"-179.8\" font-family=\"Times,serif\" font-size=\"14.00\">data &#45;3.1000</text>\n<polyline fill=\"none\" stroke=\"black\" points=\"118,-165.5 118,-201.5\"/>\n<text text-anchor=\"middle\" x=\"159\" y=\"-179.8\" font-family=\"Times,serif\" font-size=\"14.00\">grad 0.0000</text>\n</g>\n<!-- 4396940448&#45;&gt;5382726672* -->\n<g id=\"edge12\" class=\"edge\">\n<title>4396940448&#45;&gt;5382726672*</title>\n<path fill=\"none\" stroke=\"black\" d=\"M172.27,-165.52C181.67,-162.72 191.12,-159.7 200,-156.5 210.09,-152.87 220.83,-148.29 230.48,-143.89\"/>\n<polygon fill=\"black\" stroke=\"black\" points=\"231.87,-147.11 239.45,-139.71 228.91,-140.76 231.87,-147.11\"/>\n</g>\n<!-- 4396925760 -->\n<g id=\"node12\" class=\"node\">\n<title>4396925760</title>\n<polygon fill=\"none\" stroke=\"black\" points=\"4,-110.5 4,-146.5 196,-146.5 196,-110.5 4,-110.5\"/>\n<text text-anchor=\"middle\" x=\"19\" y=\"-124.8\" font-family=\"Times,serif\" font-size=\"14.00\">x1</text>\n<polyline fill=\"none\" stroke=\"black\" points=\"34,-110.5 34,-146.5\"/>\n<text text-anchor=\"middle\" x=\"74\" y=\"-124.8\" font-family=\"Times,serif\" font-size=\"14.00\">data 2.0000</text>\n<polyline fill=\"none\" stroke=\"black\" points=\"114,-110.5 114,-146.5\"/>\n<text text-anchor=\"middle\" x=\"155\" y=\"-124.8\" font-family=\"Times,serif\" font-size=\"14.00\">grad 0.0000</text>\n</g>\n<!-- 4396925760&#45;&gt;5382726672* -->\n<g id=\"edge7\" class=\"edge\">\n<title>4396925760&#45;&gt;5382726672*</title>\n<path fill=\"none\" stroke=\"black\" d=\"M195.59,-128.5C205.66,-128.5 215.42,-128.5 224.23,-128.5\"/>\n<polygon fill=\"black\" stroke=\"black\" points=\"224.07,-132 234.07,-128.5 224.07,-125 224.07,-132\"/>\n</g>\n<!-- 4396941216 -->\n<g id=\"node13\" class=\"node\">\n<title>4396941216</title>\n<polygon fill=\"none\" stroke=\"black\" points=\"2.5,-0.5 2.5,-36.5 197.5,-36.5 197.5,-0.5 2.5,-0.5\"/>\n<text text-anchor=\"middle\" x=\"19\" y=\"-14.8\" font-family=\"Times,serif\" font-size=\"14.00\">w2</text>\n<polyline fill=\"none\" stroke=\"black\" points=\"35.5,-0.5 35.5,-36.5\"/>\n<text text-anchor=\"middle\" x=\"75.5\" y=\"-14.8\" font-family=\"Times,serif\" font-size=\"14.00\">data 1.0000</text>\n<polyline fill=\"none\" stroke=\"black\" points=\"115.5,-0.5 115.5,-36.5\"/>\n<text text-anchor=\"middle\" x=\"156.5\" y=\"-14.8\" font-family=\"Times,serif\" font-size=\"14.00\">grad 0.0000</text>\n</g>\n<!-- 4396941216&#45;&gt;5382729312* -->\n<g id=\"edge13\" class=\"edge\">\n<title>4396941216&#45;&gt;5382729312*</title>\n<path fill=\"none\" stroke=\"black\" d=\"M169.02,-36.42C179.47,-39.56 190.08,-42.95 200,-46.5 209.96,-50.06 220.59,-54.46 230.18,-58.66\"/>\n<polygon fill=\"black\" stroke=\"black\" points=\"228.54,-61.76 239.1,-62.66 231.4,-55.37 228.54,-61.76\"/>\n</g>\n<!-- 5382731760 -->\n<g id=\"node14\" class=\"node\">\n<title>5382731760</title>\n<polygon fill=\"none\" stroke=\"black\" points=\"1051,-109.5 1051,-145.5 1305,-145.5 1305,-109.5 1051,-109.5\"/>\n<text text-anchor=\"middle\" x=\"1097\" y=\"-123.8\" font-family=\"Times,serif\" font-size=\"14.00\">pre&#45;activation</text>\n<polyline fill=\"none\" stroke=\"black\" points=\"1143,-109.5 1143,-145.5\"/>\n<text text-anchor=\"middle\" x=\"1183\" y=\"-123.8\" font-family=\"Times,serif\" font-size=\"14.00\">data 0.6314</text>\n<polyline fill=\"none\" stroke=\"black\" points=\"1223,-109.5 1223,-145.5\"/>\n<text text-anchor=\"middle\" x=\"1264\" y=\"-123.8\" font-family=\"Times,serif\" font-size=\"14.00\">grad 0.0000</text>\n</g>\n<!-- 5382731760&#45;&gt;5382729744tanh -->\n<g id=\"edge9\" class=\"edge\">\n<title>5382731760&#45;&gt;5382729744tanh</title>\n<path fill=\"none\" stroke=\"black\" d=\"M1304.92,-127.5C1313.51,-127.5 1321.69,-127.5 1329.14,-127.5\"/>\n<polygon fill=\"black\" stroke=\"black\" points=\"1329.02,-131 1339.02,-127.5 1329.02,-124 1329.02,-131\"/>\n</g>\n<!-- 5382731760+&#45;&gt;5382731760 -->\n<g id=\"edge5\" class=\"edge\">\n<title>5382731760+&#45;&gt;5382731760</title>\n<path fill=\"none\" stroke=\"black\" d=\"M1015.14,-127.5C1022.39,-127.5 1030.78,-127.5 1039.86,-127.5\"/>\n<polygon fill=\"black\" stroke=\"black\" points=\"1039.74,-131 1049.74,-127.5 1039.74,-124 1039.74,-131\"/>\n</g>\n</g>\n</svg>\n",
      "text/plain": [
       "<graphviz.graphs.Digraph at 0x140c4a320>"
      ]
     },
     "execution_count": 15,
     "metadata": {},
     "output_type": "execute_result"
    }
   ],
   "source": [
    "learning_rate = 0.1\n",
    "w1.data = w1.data - learning_rate * w1.grad\n",
    "w2.data = w2.data - learning_rate * w2.grad\n",
    "b.data = b.data - learning_rate * b.grad\n",
    "\n",
    "# Run forward propagation again.\n",
    "x1w1 = x1 * w1\n",
    "x1w1.label = \"x1w1\"\n",
    "x2w2 = x2 * w2\n",
    "x2w2.label = \"x2w2\"\n",
    "x1w1plusx2w2 = x1w1 + x2w2\n",
    "x1w1plusx2w2.label = \"x1w1 + x2w2\"\n",
    "pre_activation = x1w1plusx2w2 + b\n",
    "pre_activation.label = \"pre-activation\"\n",
    "activation = pre_activation.tanh()\n",
    "activation.label = \"activation\"\n",
    "\n",
    "# We do not need the gradients anymore.\n",
    "w1.grad = 0\n",
    "w2.grad = 0\n",
    "b.grad = 0\n",
    "x1.grad = 0\n",
    "x2.grad = 0\n",
    "\n",
    "draw_graph(activation)\n"
   ]
  },
  {
   "attachments": {},
   "cell_type": "markdown",
   "metadata": {},
   "source": [
    "The loss value decreased as expected. This is one step of the optimization of the parameters. As this linearization only works for small steps, we always have to re-linearize at each step.\n",
    "\n",
    "As we correctly accumulate the gradients in the ``.backward()`` code, we also obtain the correct results in the trickier cases below."
   ]
  },
  {
   "cell_type": "code",
   "execution_count": 16,
   "metadata": {},
   "outputs": [
    {
     "data": {
      "image/svg+xml": "<?xml version=\"1.0\" encoding=\"UTF-8\" standalone=\"no\"?>\n<!DOCTYPE svg PUBLIC \"-//W3C//DTD SVG 1.1//EN\"\n \"http://www.w3.org/Graphics/SVG/1.1/DTD/svg11.dtd\">\n<!-- Generated by graphviz version 7.1.0 (20230121.1956)\n -->\n<!-- Pages: 1 -->\n<svg width=\"504pt\" height=\"45pt\"\n viewBox=\"0.00 0.00 504.00 45.00\" xmlns=\"http://www.w3.org/2000/svg\" xmlns:xlink=\"http://www.w3.org/1999/xlink\">\n<g id=\"graph0\" class=\"graph\" transform=\"scale(1 1) rotate(0) translate(4 41)\">\n<polygon fill=\"white\" stroke=\"none\" points=\"-4,4 -4,-41 500,-41 500,4 -4,4\"/>\n<!-- 5382727584 -->\n<g id=\"node1\" class=\"node\">\n<title>5382727584</title>\n<polygon fill=\"none\" stroke=\"black\" points=\"0,-0.5 0,-36.5 185,-36.5 185,-0.5 0,-0.5\"/>\n<text text-anchor=\"middle\" x=\"11.5\" y=\"-14.8\" font-family=\"Times,serif\" font-size=\"14.00\">a</text>\n<polyline fill=\"none\" stroke=\"black\" points=\"23,-0.5 23,-36.5\"/>\n<text text-anchor=\"middle\" x=\"63\" y=\"-14.8\" font-family=\"Times,serif\" font-size=\"14.00\">data 3.0000</text>\n<polyline fill=\"none\" stroke=\"black\" points=\"103,-0.5 103,-36.5\"/>\n<text text-anchor=\"middle\" x=\"144\" y=\"-14.8\" font-family=\"Times,serif\" font-size=\"14.00\">grad 2.0000</text>\n</g>\n<!-- 5382725712+ -->\n<g id=\"node3\" class=\"node\">\n<title>5382725712+</title>\n<ellipse fill=\"none\" stroke=\"black\" cx=\"248\" cy=\"-18.5\" rx=\"27\" ry=\"18\"/>\n<text text-anchor=\"middle\" x=\"248\" y=\"-14.8\" font-family=\"Times,serif\" font-size=\"14.00\">+</text>\n</g>\n<!-- 5382727584&#45;&gt;5382725712+ -->\n<g id=\"edge2\" class=\"edge\">\n<title>5382727584&#45;&gt;5382725712+</title>\n<path fill=\"none\" stroke=\"black\" d=\"M184.57,-18.5C193.21,-18.5 201.6,-18.5 209.28,-18.5\"/>\n<polygon fill=\"black\" stroke=\"black\" points=\"209.19,-22 219.19,-18.5 209.19,-15 209.19,-22\"/>\n</g>\n<!-- 5382725712 -->\n<g id=\"node2\" class=\"node\">\n<title>5382725712</title>\n<polygon fill=\"none\" stroke=\"black\" points=\"311,-0.5 311,-36.5 496,-36.5 496,-0.5 311,-0.5\"/>\n<text text-anchor=\"middle\" x=\"322.5\" y=\"-14.8\" font-family=\"Times,serif\" font-size=\"14.00\">b</text>\n<polyline fill=\"none\" stroke=\"black\" points=\"334,-0.5 334,-36.5\"/>\n<text text-anchor=\"middle\" x=\"374\" y=\"-14.8\" font-family=\"Times,serif\" font-size=\"14.00\">data 6.0000</text>\n<polyline fill=\"none\" stroke=\"black\" points=\"414,-0.5 414,-36.5\"/>\n<text text-anchor=\"middle\" x=\"455\" y=\"-14.8\" font-family=\"Times,serif\" font-size=\"14.00\">grad 1.0000</text>\n</g>\n<!-- 5382725712+&#45;&gt;5382725712 -->\n<g id=\"edge1\" class=\"edge\">\n<title>5382725712+&#45;&gt;5382725712</title>\n<path fill=\"none\" stroke=\"black\" d=\"M275.39,-18.5C282.62,-18.5 290.92,-18.5 299.74,-18.5\"/>\n<polygon fill=\"black\" stroke=\"black\" points=\"299.64,-22 309.64,-18.5 299.64,-15 299.64,-22\"/>\n</g>\n</g>\n</svg>\n",
      "text/plain": [
       "<graphviz.graphs.Digraph at 0x140cfbfd0>"
      ]
     },
     "execution_count": 16,
     "metadata": {},
     "output_type": "execute_result"
    }
   ],
   "source": [
    "a = Value(3.0, label=\"a\")\n",
    "b = a + a\n",
    "b.label = \"b\"\n",
    "b.backward()\n",
    "draw_graph(b)\n"
   ]
  },
  {
   "cell_type": "code",
   "execution_count": 17,
   "metadata": {},
   "outputs": [
    {
     "data": {
      "image/svg+xml": "<?xml version=\"1.0\" encoding=\"UTF-8\" standalone=\"no\"?>\n<!DOCTYPE svg PUBLIC \"-//W3C//DTD SVG 1.1//EN\"\n \"http://www.w3.org/Graphics/SVG/1.1/DTD/svg11.dtd\">\n<!-- Generated by graphviz version 7.1.0 (20230121.1956)\n -->\n<!-- Pages: 1 -->\n<svg width=\"832pt\" height=\"100pt\"\n viewBox=\"0.00 0.00 832.00 100.00\" xmlns=\"http://www.w3.org/2000/svg\" xmlns:xlink=\"http://www.w3.org/1999/xlink\">\n<g id=\"graph0\" class=\"graph\" transform=\"scale(1 1) rotate(0) translate(4 96)\">\n<polygon fill=\"white\" stroke=\"none\" points=\"-4,4 -4,-96 828,-96 828,4 -4,4\"/>\n<!-- 5382726192 -->\n<g id=\"node1\" class=\"node\">\n<title>5382726192</title>\n<polygon fill=\"none\" stroke=\"black\" points=\"0,-55.5 0,-91.5 194,-91.5 194,-55.5 0,-55.5\"/>\n<text text-anchor=\"middle\" x=\"11.5\" y=\"-69.8\" font-family=\"Times,serif\" font-size=\"14.00\">a</text>\n<polyline fill=\"none\" stroke=\"black\" points=\"23,-55.5 23,-91.5\"/>\n<text text-anchor=\"middle\" x=\"65.5\" y=\"-69.8\" font-family=\"Times,serif\" font-size=\"14.00\">data &#45;2.0000</text>\n<polyline fill=\"none\" stroke=\"black\" points=\"108,-55.5 108,-91.5\"/>\n<text text-anchor=\"middle\" x=\"151\" y=\"-69.8\" font-family=\"Times,serif\" font-size=\"14.00\">grad &#45;3.0000</text>\n</g>\n<!-- 5382724752* -->\n<g id=\"node3\" class=\"node\">\n<title>5382724752*</title>\n<ellipse fill=\"none\" stroke=\"black\" cx=\"257\" cy=\"-73.5\" rx=\"27\" ry=\"18\"/>\n<text text-anchor=\"middle\" x=\"257\" y=\"-69.8\" font-family=\"Times,serif\" font-size=\"14.00\">*</text>\n</g>\n<!-- 5382726192&#45;&gt;5382724752* -->\n<g id=\"edge5\" class=\"edge\">\n<title>5382726192&#45;&gt;5382724752*</title>\n<path fill=\"none\" stroke=\"black\" d=\"M193.55,-73.5C202.25,-73.5 210.67,-73.5 218.37,-73.5\"/>\n<polygon fill=\"black\" stroke=\"black\" points=\"218.27,-77 228.27,-73.5 218.27,-70 218.27,-77\"/>\n</g>\n<!-- 5382726816+ -->\n<g id=\"node5\" class=\"node\">\n<title>5382726816+</title>\n<ellipse fill=\"none\" stroke=\"black\" cx=\"257\" cy=\"-18.5\" rx=\"27\" ry=\"18\"/>\n<text text-anchor=\"middle\" x=\"257\" y=\"-14.8\" font-family=\"Times,serif\" font-size=\"14.00\">+</text>\n</g>\n<!-- 5382726192&#45;&gt;5382726816+ -->\n<g id=\"edge4\" class=\"edge\">\n<title>5382726192&#45;&gt;5382726816+</title>\n<path fill=\"none\" stroke=\"black\" d=\"M166.58,-55.57C175.86,-52.75 185.22,-49.7 194,-46.5 204.08,-42.83 214.81,-38.24 224.46,-33.84\"/>\n<polygon fill=\"black\" stroke=\"black\" points=\"225.85,-37.06 233.44,-29.66 222.89,-30.71 225.85,-37.06\"/>\n</g>\n<!-- 5382724752 -->\n<g id=\"node2\" class=\"node\">\n<title>5382724752</title>\n<polygon fill=\"none\" stroke=\"black\" points=\"320,-55.5 320,-91.5 510,-91.5 510,-55.5 320,-55.5\"/>\n<text text-anchor=\"middle\" x=\"331.5\" y=\"-69.8\" font-family=\"Times,serif\" font-size=\"14.00\">d</text>\n<polyline fill=\"none\" stroke=\"black\" points=\"343,-55.5 343,-91.5\"/>\n<text text-anchor=\"middle\" x=\"385.5\" y=\"-69.8\" font-family=\"Times,serif\" font-size=\"14.00\">data &#45;6.0000</text>\n<polyline fill=\"none\" stroke=\"black\" points=\"428,-55.5 428,-91.5\"/>\n<text text-anchor=\"middle\" x=\"469\" y=\"-69.8\" font-family=\"Times,serif\" font-size=\"14.00\">grad 1.0000</text>\n</g>\n<!-- 5382726048* -->\n<g id=\"node7\" class=\"node\">\n<title>5382726048*</title>\n<ellipse fill=\"none\" stroke=\"black\" cx=\"573\" cy=\"-45.5\" rx=\"27\" ry=\"18\"/>\n<text text-anchor=\"middle\" x=\"573\" y=\"-41.8\" font-family=\"Times,serif\" font-size=\"14.00\">*</text>\n</g>\n<!-- 5382724752&#45;&gt;5382726048* -->\n<g id=\"edge6\" class=\"edge\">\n<title>5382724752&#45;&gt;5382726048*</title>\n<path fill=\"none\" stroke=\"black\" d=\"M509.9,-56.65C518.81,-55.05 527.43,-53.5 535.28,-52.09\"/>\n<polygon fill=\"black\" stroke=\"black\" points=\"535.8,-55.55 545.02,-50.34 534.56,-48.66 535.8,-55.55\"/>\n</g>\n<!-- 5382724752*&#45;&gt;5382724752 -->\n<g id=\"edge1\" class=\"edge\">\n<title>5382724752*&#45;&gt;5382724752</title>\n<path fill=\"none\" stroke=\"black\" d=\"M284.46,-73.5C291.68,-73.5 299.95,-73.5 308.76,-73.5\"/>\n<polygon fill=\"black\" stroke=\"black\" points=\"308.64,-77 318.64,-73.5 308.64,-70 308.64,-77\"/>\n</g>\n<!-- 5382726816 -->\n<g id=\"node4\" class=\"node\">\n<title>5382726816</title>\n<polygon fill=\"none\" stroke=\"black\" points=\"320.5,-0.5 320.5,-36.5 509.5,-36.5 509.5,-0.5 320.5,-0.5\"/>\n<text text-anchor=\"middle\" x=\"332\" y=\"-14.8\" font-family=\"Times,serif\" font-size=\"14.00\">e</text>\n<polyline fill=\"none\" stroke=\"black\" points=\"343.5,-0.5 343.5,-36.5\"/>\n<text text-anchor=\"middle\" x=\"383.5\" y=\"-14.8\" font-family=\"Times,serif\" font-size=\"14.00\">data 1.0000</text>\n<polyline fill=\"none\" stroke=\"black\" points=\"423.5,-0.5 423.5,-36.5\"/>\n<text text-anchor=\"middle\" x=\"466.5\" y=\"-14.8\" font-family=\"Times,serif\" font-size=\"14.00\">grad &#45;6.0000</text>\n</g>\n<!-- 5382726816&#45;&gt;5382726048* -->\n<g id=\"edge9\" class=\"edge\">\n<title>5382726816&#45;&gt;5382726048*</title>\n<path fill=\"none\" stroke=\"black\" d=\"M509.45,-34.67C518.6,-36.26 527.46,-37.79 535.49,-39.18\"/>\n<polygon fill=\"black\" stroke=\"black\" points=\"534.67,-42.59 545.12,-40.85 535.86,-35.69 534.67,-42.59\"/>\n</g>\n<!-- 5382726816+&#45;&gt;5382726816 -->\n<g id=\"edge2\" class=\"edge\">\n<title>5382726816+&#45;&gt;5382726816</title>\n<path fill=\"none\" stroke=\"black\" d=\"M284.46,-18.5C291.88,-18.5 300.42,-18.5 309.51,-18.5\"/>\n<polygon fill=\"black\" stroke=\"black\" points=\"309.31,-22 319.31,-18.5 309.31,-15 309.31,-22\"/>\n</g>\n<!-- 5382726048 -->\n<g id=\"node6\" class=\"node\">\n<title>5382726048</title>\n<polygon fill=\"none\" stroke=\"black\" points=\"636,-27.5 636,-63.5 824,-63.5 824,-27.5 636,-27.5\"/>\n<text text-anchor=\"middle\" x=\"646.5\" y=\"-41.8\" font-family=\"Times,serif\" font-size=\"14.00\">f</text>\n<polyline fill=\"none\" stroke=\"black\" points=\"657,-27.5 657,-63.5\"/>\n<text text-anchor=\"middle\" x=\"699.5\" y=\"-41.8\" font-family=\"Times,serif\" font-size=\"14.00\">data &#45;6.0000</text>\n<polyline fill=\"none\" stroke=\"black\" points=\"742,-27.5 742,-63.5\"/>\n<text text-anchor=\"middle\" x=\"783\" y=\"-41.8\" font-family=\"Times,serif\" font-size=\"14.00\">grad 1.0000</text>\n</g>\n<!-- 5382726048*&#45;&gt;5382726048 -->\n<g id=\"edge3\" class=\"edge\">\n<title>5382726048*&#45;&gt;5382726048</title>\n<path fill=\"none\" stroke=\"black\" d=\"M600.29,-45.5C607.52,-45.5 615.82,-45.5 624.66,-45.5\"/>\n<polygon fill=\"black\" stroke=\"black\" points=\"624.57,-49 634.57,-45.5 624.57,-42 624.57,-49\"/>\n</g>\n<!-- 5382724032 -->\n<g id=\"node8\" class=\"node\">\n<title>5382724032</title>\n<polygon fill=\"none\" stroke=\"black\" points=\"2.5,-0.5 2.5,-36.5 191.5,-36.5 191.5,-0.5 2.5,-0.5\"/>\n<text text-anchor=\"middle\" x=\"14\" y=\"-14.8\" font-family=\"Times,serif\" font-size=\"14.00\">b</text>\n<polyline fill=\"none\" stroke=\"black\" points=\"25.5,-0.5 25.5,-36.5\"/>\n<text text-anchor=\"middle\" x=\"65.5\" y=\"-14.8\" font-family=\"Times,serif\" font-size=\"14.00\">data 3.0000</text>\n<polyline fill=\"none\" stroke=\"black\" points=\"105.5,-0.5 105.5,-36.5\"/>\n<text text-anchor=\"middle\" x=\"148.5\" y=\"-14.8\" font-family=\"Times,serif\" font-size=\"14.00\">grad &#45;8.0000</text>\n</g>\n<!-- 5382724032&#45;&gt;5382724752* -->\n<g id=\"edge8\" class=\"edge\">\n<title>5382724032&#45;&gt;5382724752*</title>\n<path fill=\"none\" stroke=\"black\" d=\"M163.68,-36.45C173.9,-39.59 184.29,-42.98 194,-46.5 203.87,-50.07 214.4,-54.44 223.93,-58.61\"/>\n<polygon fill=\"black\" stroke=\"black\" points=\"222.24,-61.69 232.8,-62.57 225.09,-55.3 222.24,-61.69\"/>\n</g>\n<!-- 5382724032&#45;&gt;5382726816+ -->\n<g id=\"edge7\" class=\"edge\">\n<title>5382724032&#45;&gt;5382726816+</title>\n<path fill=\"none\" stroke=\"black\" d=\"M191.28,-18.5C200.71,-18.5 209.85,-18.5 218.16,-18.5\"/>\n<polygon fill=\"black\" stroke=\"black\" points=\"218.14,-22 228.14,-18.5 218.14,-15 218.14,-22\"/>\n</g>\n</g>\n</svg>\n",
      "text/plain": [
       "<graphviz.graphs.Digraph at 0x140d5eb90>"
      ]
     },
     "execution_count": 17,
     "metadata": {},
     "output_type": "execute_result"
    }
   ],
   "source": [
    "a = Value(-2.0, label=\"a\")\n",
    "b = Value(3.0, label=\"b\")\n",
    "d = a * b\n",
    "d.label = \"d\"\n",
    "e = a + b  # Second use of a and b.\n",
    "e.label = \"e\"\n",
    "f = d * e\n",
    "f.label = \"f\"\n",
    "f.backward()\n",
    "draw_graph(f)\n"
   ]
  },
  {
   "attachments": {},
   "cell_type": "markdown",
   "metadata": {},
   "source": [
    "Let's break up the ``tanh`` into its actual definition in our neuron to see that we get exactly the same gradients by doing so."
   ]
  },
  {
   "cell_type": "code",
   "execution_count": 18,
   "metadata": {},
   "outputs": [
    {
     "data": {
      "image/svg+xml": "<?xml version=\"1.0\" encoding=\"UTF-8\" standalone=\"no\"?>\n<!DOCTYPE svg PUBLIC \"-//W3C//DTD SVG 1.1//EN\"\n \"http://www.w3.org/Graphics/SVG/1.1/DTD/svg11.dtd\">\n<!-- Generated by graphviz version 7.1.0 (20230121.1956)\n -->\n<!-- Pages: 1 -->\n<svg width=\"3041pt\" height=\"239pt\"\n viewBox=\"0.00 0.00 3041.00 239.00\" xmlns=\"http://www.w3.org/2000/svg\" xmlns:xlink=\"http://www.w3.org/1999/xlink\">\n<g id=\"graph0\" class=\"graph\" transform=\"scale(1 1) rotate(0) translate(4 235)\">\n<polygon fill=\"white\" stroke=\"none\" points=\"-4,4 -4,-235 3037,-235 3037,4 -4,4\"/>\n<!-- 5382727680 -->\n<g id=\"node1\" class=\"node\">\n<title>5382727680</title>\n<polygon fill=\"none\" stroke=\"black\" points=\"2,-194.5 2,-230.5 198,-230.5 198,-194.5 2,-194.5\"/>\n<text text-anchor=\"middle\" x=\"17\" y=\"-208.8\" font-family=\"Times,serif\" font-size=\"14.00\">x1</text>\n<polyline fill=\"none\" stroke=\"black\" points=\"32,-194.5 32,-230.5\"/>\n<text text-anchor=\"middle\" x=\"72\" y=\"-208.8\" font-family=\"Times,serif\" font-size=\"14.00\">data 2.0000</text>\n<polyline fill=\"none\" stroke=\"black\" points=\"112,-194.5 112,-230.5\"/>\n<text text-anchor=\"middle\" x=\"155\" y=\"-208.8\" font-family=\"Times,serif\" font-size=\"14.00\">grad &#45;1.5000</text>\n</g>\n<!-- 5382724992* -->\n<g id=\"node20\" class=\"node\">\n<title>5382724992*</title>\n<ellipse fill=\"none\" stroke=\"black\" cx=\"263\" cy=\"-157.5\" rx=\"27\" ry=\"18\"/>\n<text text-anchor=\"middle\" x=\"263\" y=\"-153.8\" font-family=\"Times,serif\" font-size=\"14.00\">*</text>\n</g>\n<!-- 5382727680&#45;&gt;5382724992* -->\n<g id=\"edge24\" class=\"edge\">\n<title>5382727680&#45;&gt;5382724992*</title>\n<path fill=\"none\" stroke=\"black\" d=\"M172.27,-194.52C181.67,-191.72 191.12,-188.7 200,-185.5 210.09,-181.87 220.83,-177.29 230.48,-172.89\"/>\n<polygon fill=\"black\" stroke=\"black\" points=\"231.87,-176.11 239.45,-168.71 228.91,-169.76 231.87,-176.11\"/>\n</g>\n<!-- 5382731904 -->\n<g id=\"node2\" class=\"node\">\n<title>5382731904</title>\n<polygon fill=\"none\" stroke=\"black\" points=\"1051,-83.5 1051,-119.5 1305,-119.5 1305,-83.5 1051,-83.5\"/>\n<text text-anchor=\"middle\" x=\"1097\" y=\"-97.8\" font-family=\"Times,serif\" font-size=\"14.00\">pre&#45;activation</text>\n<polyline fill=\"none\" stroke=\"black\" points=\"1143,-83.5 1143,-119.5\"/>\n<text text-anchor=\"middle\" x=\"1183\" y=\"-97.8\" font-family=\"Times,serif\" font-size=\"14.00\">data 0.8814</text>\n<polyline fill=\"none\" stroke=\"black\" points=\"1223,-83.5 1223,-119.5\"/>\n<text text-anchor=\"middle\" x=\"1264\" y=\"-97.8\" font-family=\"Times,serif\" font-size=\"14.00\">grad 0.5000</text>\n</g>\n<!-- 5383102784* -->\n<g id=\"node9\" class=\"node\">\n<title>5383102784*</title>\n<ellipse fill=\"none\" stroke=\"black\" cx=\"1368\" cy=\"-73.5\" rx=\"27\" ry=\"18\"/>\n<text text-anchor=\"middle\" x=\"1368\" y=\"-69.8\" font-family=\"Times,serif\" font-size=\"14.00\">*</text>\n</g>\n<!-- 5382731904&#45;&gt;5383102784* -->\n<g id=\"edge14\" class=\"edge\">\n<title>5382731904&#45;&gt;5383102784*</title>\n<path fill=\"none\" stroke=\"black\" d=\"M1299.66,-83.53C1310.5,-81.92 1320.82,-80.38 1329.98,-79.01\"/>\n<polygon fill=\"black\" stroke=\"black\" points=\"1330.43,-82.48 1339.81,-77.55 1329.4,-75.56 1330.43,-82.48\"/>\n</g>\n<!-- 5382731904+ -->\n<g id=\"node3\" class=\"node\">\n<title>5382731904+</title>\n<ellipse fill=\"none\" stroke=\"black\" cx=\"988\" cy=\"-101.5\" rx=\"27\" ry=\"18\"/>\n<text text-anchor=\"middle\" x=\"988\" y=\"-97.8\" font-family=\"Times,serif\" font-size=\"14.00\">+</text>\n</g>\n<!-- 5382731904+&#45;&gt;5382731904 -->\n<g id=\"edge1\" class=\"edge\">\n<title>5382731904+&#45;&gt;5382731904</title>\n<path fill=\"none\" stroke=\"black\" d=\"M1015.14,-101.5C1022.39,-101.5 1030.78,-101.5 1039.86,-101.5\"/>\n<polygon fill=\"black\" stroke=\"black\" points=\"1039.74,-105 1049.74,-101.5 1039.74,-98 1039.74,-105\"/>\n</g>\n<!-- 5383094432 -->\n<g id=\"node4\" class=\"node\">\n<title>5383094432</title>\n<polygon fill=\"none\" stroke=\"black\" points=\"2801,-31.5 2801,-67.5 3033,-67.5 3033,-31.5 2801,-31.5\"/>\n<text text-anchor=\"middle\" x=\"2836\" y=\"-45.8\" font-family=\"Times,serif\" font-size=\"14.00\">activation</text>\n<polyline fill=\"none\" stroke=\"black\" points=\"2871,-31.5 2871,-67.5\"/>\n<text text-anchor=\"middle\" x=\"2911\" y=\"-45.8\" font-family=\"Times,serif\" font-size=\"14.00\">data 0.7071</text>\n<polyline fill=\"none\" stroke=\"black\" points=\"2951,-31.5 2951,-67.5\"/>\n<text text-anchor=\"middle\" x=\"2992\" y=\"-45.8\" font-family=\"Times,serif\" font-size=\"14.00\">grad 1.0000</text>\n</g>\n<!-- 5383094432* -->\n<g id=\"node5\" class=\"node\">\n<title>5383094432*</title>\n<ellipse fill=\"none\" stroke=\"black\" cx=\"2738\" cy=\"-49.5\" rx=\"27\" ry=\"18\"/>\n<text text-anchor=\"middle\" x=\"2738\" y=\"-45.8\" font-family=\"Times,serif\" font-size=\"14.00\">*</text>\n</g>\n<!-- 5383094432*&#45;&gt;5383094432 -->\n<g id=\"edge2\" class=\"edge\">\n<title>5383094432*&#45;&gt;5383094432</title>\n<path fill=\"none\" stroke=\"black\" d=\"M2765.5,-49.5C2772.62,-49.5 2780.81,-49.5 2789.63,-49.5\"/>\n<polygon fill=\"black\" stroke=\"black\" points=\"2789.57,-53 2799.57,-49.5 2789.57,-46 2789.57,-53\"/>\n</g>\n<!-- 5383102640 -->\n<g id=\"node6\" class=\"node\">\n<title>5383102640</title>\n<polygon fill=\"none\" stroke=\"black\" points=\"1741.5,-55.5 1741.5,-91.5 1923.5,-91.5 1923.5,-55.5 1741.5,-55.5\"/>\n<text text-anchor=\"middle\" x=\"1751.5\" y=\"-69.8\" font-family=\"Times,serif\" font-size=\"14.00\"> </text>\n<polyline fill=\"none\" stroke=\"black\" points=\"1761.5,-55.5 1761.5,-91.5\"/>\n<text text-anchor=\"middle\" x=\"1801.5\" y=\"-69.8\" font-family=\"Times,serif\" font-size=\"14.00\">data 5.8284</text>\n<polyline fill=\"none\" stroke=\"black\" points=\"1841.5,-55.5 1841.5,-91.5\"/>\n<text text-anchor=\"middle\" x=\"1882.5\" y=\"-69.8\" font-family=\"Times,serif\" font-size=\"14.00\">grad 0.0429</text>\n</g>\n<!-- 5383102160+ -->\n<g id=\"node25\" class=\"node\">\n<title>5383102160+</title>\n<ellipse fill=\"none\" stroke=\"black\" cx=\"1989\" cy=\"-126.5\" rx=\"27\" ry=\"18\"/>\n<text text-anchor=\"middle\" x=\"1989\" y=\"-122.8\" font-family=\"Times,serif\" font-size=\"14.00\">+</text>\n</g>\n<!-- 5383102640&#45;&gt;5383102160+ -->\n<g id=\"edge11\" class=\"edge\">\n<title>5383102640&#45;&gt;5383102160+</title>\n<path fill=\"none\" stroke=\"black\" d=\"M1895.45,-91.42C1905.7,-94.62 1916.19,-98.04 1926,-101.5 1935.6,-104.88 1945.9,-108.88 1955.29,-112.67\"/>\n<polygon fill=\"black\" stroke=\"black\" points=\"1953.82,-115.85 1964.4,-116.41 1956.48,-109.38 1953.82,-115.85\"/>\n</g>\n<!-- 5383102400+ -->\n<g id=\"node28\" class=\"node\">\n<title>5383102400+</title>\n<ellipse fill=\"none\" stroke=\"black\" cx=\"1989\" cy=\"-22.5\" rx=\"27\" ry=\"18\"/>\n<text text-anchor=\"middle\" x=\"1989\" y=\"-18.8\" font-family=\"Times,serif\" font-size=\"14.00\">+</text>\n</g>\n<!-- 5383102640&#45;&gt;5383102400+ -->\n<g id=\"edge13\" class=\"edge\">\n<title>5383102640&#45;&gt;5383102400+</title>\n<path fill=\"none\" stroke=\"black\" d=\"M1897.42,-55.62C1907.04,-52.7 1916.81,-49.61 1926,-46.5 1935.51,-43.28 1945.71,-39.48 1955.04,-35.86\"/>\n<polygon fill=\"black\" stroke=\"black\" points=\"1956.06,-39.22 1964.09,-32.3 1953.5,-32.7 1956.06,-39.22\"/>\n</g>\n<!-- 5383102640exp -->\n<g id=\"node7\" class=\"node\">\n<title>5383102640exp</title>\n<ellipse fill=\"none\" stroke=\"black\" cx=\"1676\" cy=\"-73.5\" rx=\"27\" ry=\"18\"/>\n<text text-anchor=\"middle\" x=\"1676\" y=\"-69.8\" font-family=\"Times,serif\" font-size=\"14.00\">exp</text>\n</g>\n<!-- 5383102640exp&#45;&gt;5383102640 -->\n<g id=\"edge3\" class=\"edge\">\n<title>5383102640exp&#45;&gt;5383102640</title>\n<path fill=\"none\" stroke=\"black\" d=\"M1703.21,-73.5C1711.15,-73.5 1720.4,-73.5 1730.22,-73.5\"/>\n<polygon fill=\"black\" stroke=\"black\" points=\"1730.01,-77 1740.01,-73.5 1730.01,-70 1730.01,-77\"/>\n</g>\n<!-- 5383102784 -->\n<g id=\"node8\" class=\"node\">\n<title>5383102784</title>\n<polygon fill=\"none\" stroke=\"black\" points=\"1431,-55.5 1431,-91.5 1613,-91.5 1613,-55.5 1431,-55.5\"/>\n<text text-anchor=\"middle\" x=\"1441\" y=\"-69.8\" font-family=\"Times,serif\" font-size=\"14.00\"> </text>\n<polyline fill=\"none\" stroke=\"black\" points=\"1451,-55.5 1451,-91.5\"/>\n<text text-anchor=\"middle\" x=\"1491\" y=\"-69.8\" font-family=\"Times,serif\" font-size=\"14.00\">data 1.7627</text>\n<polyline fill=\"none\" stroke=\"black\" points=\"1531,-55.5 1531,-91.5\"/>\n<text text-anchor=\"middle\" x=\"1572\" y=\"-69.8\" font-family=\"Times,serif\" font-size=\"14.00\">grad 0.2500</text>\n</g>\n<!-- 5383102784&#45;&gt;5383102640exp -->\n<g id=\"edge16\" class=\"edge\">\n<title>5383102784&#45;&gt;5383102640exp</title>\n<path fill=\"none\" stroke=\"black\" d=\"M1612.74,-73.5C1621.34,-73.5 1629.7,-73.5 1637.36,-73.5\"/>\n<polygon fill=\"black\" stroke=\"black\" points=\"1637.24,-77 1647.24,-73.5 1637.24,-70 1637.24,-77\"/>\n</g>\n<!-- 5383102784*&#45;&gt;5383102784 -->\n<g id=\"edge4\" class=\"edge\">\n<title>5383102784*&#45;&gt;5383102784</title>\n<path fill=\"none\" stroke=\"black\" d=\"M1395.48,-73.5C1402.71,-73.5 1411.01,-73.5 1419.82,-73.5\"/>\n<polygon fill=\"black\" stroke=\"black\" points=\"1419.69,-77 1429.69,-73.5 1419.69,-70 1419.69,-77\"/>\n</g>\n<!-- 5383102880 -->\n<g id=\"node10\" class=\"node\">\n<title>5383102880</title>\n<polygon fill=\"none\" stroke=\"black\" points=\"1087,-28.5 1087,-64.5 1269,-64.5 1269,-28.5 1087,-28.5\"/>\n<text text-anchor=\"middle\" x=\"1097\" y=\"-42.8\" font-family=\"Times,serif\" font-size=\"14.00\"> </text>\n<polyline fill=\"none\" stroke=\"black\" points=\"1107,-28.5 1107,-64.5\"/>\n<text text-anchor=\"middle\" x=\"1147\" y=\"-42.8\" font-family=\"Times,serif\" font-size=\"14.00\">data 2.0000</text>\n<polyline fill=\"none\" stroke=\"black\" points=\"1187,-28.5 1187,-64.5\"/>\n<text text-anchor=\"middle\" x=\"1228\" y=\"-42.8\" font-family=\"Times,serif\" font-size=\"14.00\">grad 0.2203</text>\n</g>\n<!-- 5383102880&#45;&gt;5383102784* -->\n<g id=\"edge26\" class=\"edge\">\n<title>5383102880&#45;&gt;5383102784*</title>\n<path fill=\"none\" stroke=\"black\" d=\"M1268.87,-59.41C1290.45,-62.51 1312.32,-65.65 1329.92,-68.18\"/>\n<polygon fill=\"black\" stroke=\"black\" points=\"1329.2,-71.61 1339.6,-69.56 1330.2,-64.68 1329.2,-71.61\"/>\n</g>\n<!-- 5382726096 -->\n<g id=\"node11\" class=\"node\">\n<title>5382726096</title>\n<polygon fill=\"none\" stroke=\"black\" points=\"328.5,-84.5 328.5,-120.5 537.5,-120.5 537.5,-84.5 328.5,-84.5\"/>\n<text text-anchor=\"middle\" x=\"352\" y=\"-98.8\" font-family=\"Times,serif\" font-size=\"14.00\">x2w2</text>\n<polyline fill=\"none\" stroke=\"black\" points=\"375.5,-84.5 375.5,-120.5\"/>\n<text text-anchor=\"middle\" x=\"415.5\" y=\"-98.8\" font-family=\"Times,serif\" font-size=\"14.00\">data 0.0000</text>\n<polyline fill=\"none\" stroke=\"black\" points=\"455.5,-84.5 455.5,-120.5\"/>\n<text text-anchor=\"middle\" x=\"496.5\" y=\"-98.8\" font-family=\"Times,serif\" font-size=\"14.00\">grad 0.5000</text>\n</g>\n<!-- 5382732480+ -->\n<g id=\"node15\" class=\"node\">\n<title>5382732480+</title>\n<ellipse fill=\"none\" stroke=\"black\" cx=\"603\" cy=\"-129.5\" rx=\"27\" ry=\"18\"/>\n<text text-anchor=\"middle\" x=\"603\" y=\"-125.8\" font-family=\"Times,serif\" font-size=\"14.00\">+</text>\n</g>\n<!-- 5382726096&#45;&gt;5382732480+ -->\n<g id=\"edge17\" class=\"edge\">\n<title>5382726096&#45;&gt;5382732480+</title>\n<path fill=\"none\" stroke=\"black\" d=\"M537.05,-119.06C547.04,-120.67 556.65,-122.21 565.28,-123.6\"/>\n<polygon fill=\"black\" stroke=\"black\" points=\"564.45,-127.01 574.88,-125.14 565.56,-120.1 564.45,-127.01\"/>\n</g>\n<!-- 5382726096* -->\n<g id=\"node12\" class=\"node\">\n<title>5382726096*</title>\n<ellipse fill=\"none\" stroke=\"black\" cx=\"263\" cy=\"-102.5\" rx=\"27\" ry=\"18\"/>\n<text text-anchor=\"middle\" x=\"263\" y=\"-98.8\" font-family=\"Times,serif\" font-size=\"14.00\">*</text>\n</g>\n<!-- 5382726096*&#45;&gt;5382726096 -->\n<g id=\"edge5\" class=\"edge\">\n<title>5382726096*&#45;&gt;5382726096</title>\n<path fill=\"none\" stroke=\"black\" d=\"M290.25,-102.5C298.16,-102.5 307.4,-102.5 317.3,-102.5\"/>\n<polygon fill=\"black\" stroke=\"black\" points=\"317.2,-106 327.2,-102.5 317.2,-99 317.2,-106\"/>\n</g>\n<!-- 5382732240 -->\n<g id=\"node13\" class=\"node\">\n<title>5382732240</title>\n<polygon fill=\"none\" stroke=\"black\" points=\"0,-139.5 0,-175.5 200,-175.5 200,-139.5 0,-139.5\"/>\n<text text-anchor=\"middle\" x=\"16.5\" y=\"-153.8\" font-family=\"Times,serif\" font-size=\"14.00\">w1</text>\n<polyline fill=\"none\" stroke=\"black\" points=\"33,-139.5 33,-175.5\"/>\n<text text-anchor=\"middle\" x=\"75.5\" y=\"-153.8\" font-family=\"Times,serif\" font-size=\"14.00\">data &#45;3.0000</text>\n<polyline fill=\"none\" stroke=\"black\" points=\"118,-139.5 118,-175.5\"/>\n<text text-anchor=\"middle\" x=\"159\" y=\"-153.8\" font-family=\"Times,serif\" font-size=\"14.00\">grad 1.0000</text>\n</g>\n<!-- 5382732240&#45;&gt;5382724992* -->\n<g id=\"edge12\" class=\"edge\">\n<title>5382732240&#45;&gt;5382724992*</title>\n<path fill=\"none\" stroke=\"black\" d=\"M199.75,-157.5C208.38,-157.5 216.71,-157.5 224.33,-157.5\"/>\n<polygon fill=\"black\" stroke=\"black\" points=\"224.12,-161 234.12,-157.5 224.12,-154 224.12,-161\"/>\n</g>\n<!-- 5382732480 -->\n<g id=\"node14\" class=\"node\">\n<title>5382732480</title>\n<polygon fill=\"none\" stroke=\"black\" points=\"666,-111.5 666,-147.5 925,-147.5 925,-111.5 666,-111.5\"/>\n<text text-anchor=\"middle\" x=\"712\" y=\"-125.8\" font-family=\"Times,serif\" font-size=\"14.00\">x1w1 + x2w2</text>\n<polyline fill=\"none\" stroke=\"black\" points=\"758,-111.5 758,-147.5\"/>\n<text text-anchor=\"middle\" x=\"800.5\" y=\"-125.8\" font-family=\"Times,serif\" font-size=\"14.00\">data &#45;6.0000</text>\n<polyline fill=\"none\" stroke=\"black\" points=\"843,-111.5 843,-147.5\"/>\n<text text-anchor=\"middle\" x=\"884\" y=\"-125.8\" font-family=\"Times,serif\" font-size=\"14.00\">grad 0.5000</text>\n</g>\n<!-- 5382732480&#45;&gt;5382731904+ -->\n<g id=\"edge27\" class=\"edge\">\n<title>5382732480&#45;&gt;5382731904+</title>\n<path fill=\"none\" stroke=\"black\" d=\"M918.76,-111.53C929.97,-109.88 940.64,-108.31 950.06,-106.93\"/>\n<polygon fill=\"black\" stroke=\"black\" points=\"950.4,-110.42 959.79,-105.5 949.39,-103.49 950.4,-110.42\"/>\n</g>\n<!-- 5382732480+&#45;&gt;5382732480 -->\n<g id=\"edge6\" class=\"edge\">\n<title>5382732480+&#45;&gt;5382732480</title>\n<path fill=\"none\" stroke=\"black\" d=\"M630.49,-129.5C637.68,-129.5 646,-129.5 654.99,-129.5\"/>\n<polygon fill=\"black\" stroke=\"black\" points=\"654.76,-133 664.76,-129.5 654.76,-126 654.76,-133\"/>\n</g>\n<!-- 5382732528 -->\n<g id=\"node16\" class=\"node\">\n<title>5382732528</title>\n<polygon fill=\"none\" stroke=\"black\" points=\"4,-84.5 4,-120.5 196,-120.5 196,-84.5 4,-84.5\"/>\n<text text-anchor=\"middle\" x=\"19\" y=\"-98.8\" font-family=\"Times,serif\" font-size=\"14.00\">x2</text>\n<polyline fill=\"none\" stroke=\"black\" points=\"34,-84.5 34,-120.5\"/>\n<text text-anchor=\"middle\" x=\"74\" y=\"-98.8\" font-family=\"Times,serif\" font-size=\"14.00\">data 0.0000</text>\n<polyline fill=\"none\" stroke=\"black\" points=\"114,-84.5 114,-120.5\"/>\n<text text-anchor=\"middle\" x=\"155\" y=\"-98.8\" font-family=\"Times,serif\" font-size=\"14.00\">grad 0.5000</text>\n</g>\n<!-- 5382732528&#45;&gt;5382726096* -->\n<g id=\"edge19\" class=\"edge\">\n<title>5382732528&#45;&gt;5382726096*</title>\n<path fill=\"none\" stroke=\"black\" d=\"M195.59,-102.5C205.66,-102.5 215.42,-102.5 224.23,-102.5\"/>\n<polygon fill=\"black\" stroke=\"black\" points=\"224.07,-106 234.07,-102.5 224.07,-99 224.07,-106\"/>\n</g>\n<!-- 5382726576 -->\n<g id=\"node17\" class=\"node\">\n<title>5382726576</title>\n<polygon fill=\"none\" stroke=\"black\" points=\"703,-56.5 703,-92.5 888,-92.5 888,-56.5 703,-56.5\"/>\n<text text-anchor=\"middle\" x=\"714.5\" y=\"-70.8\" font-family=\"Times,serif\" font-size=\"14.00\">b</text>\n<polyline fill=\"none\" stroke=\"black\" points=\"726,-56.5 726,-92.5\"/>\n<text text-anchor=\"middle\" x=\"766\" y=\"-70.8\" font-family=\"Times,serif\" font-size=\"14.00\">data 6.8814</text>\n<polyline fill=\"none\" stroke=\"black\" points=\"806,-56.5 806,-92.5\"/>\n<text text-anchor=\"middle\" x=\"847\" y=\"-70.8\" font-family=\"Times,serif\" font-size=\"14.00\">grad 0.5000</text>\n</g>\n<!-- 5382726576&#45;&gt;5382731904+ -->\n<g id=\"edge20\" class=\"edge\">\n<title>5382726576&#45;&gt;5382731904+</title>\n<path fill=\"none\" stroke=\"black\" d=\"M887.84,-87.45C909.83,-90.56 932.09,-93.72 949.94,-96.25\"/>\n<polygon fill=\"black\" stroke=\"black\" points=\"949.36,-99.7 959.75,-97.64 950.34,-92.77 949.36,-99.7\"/>\n</g>\n<!-- 5382732768 -->\n<g id=\"node18\" class=\"node\">\n<title>5382732768</title>\n<polygon fill=\"none\" stroke=\"black\" points=\"2.5,-29.5 2.5,-65.5 197.5,-65.5 197.5,-29.5 2.5,-29.5\"/>\n<text text-anchor=\"middle\" x=\"19\" y=\"-43.8\" font-family=\"Times,serif\" font-size=\"14.00\">w2</text>\n<polyline fill=\"none\" stroke=\"black\" points=\"35.5,-29.5 35.5,-65.5\"/>\n<text text-anchor=\"middle\" x=\"75.5\" y=\"-43.8\" font-family=\"Times,serif\" font-size=\"14.00\">data 1.0000</text>\n<polyline fill=\"none\" stroke=\"black\" points=\"115.5,-29.5 115.5,-65.5\"/>\n<text text-anchor=\"middle\" x=\"156.5\" y=\"-43.8\" font-family=\"Times,serif\" font-size=\"14.00\">grad 0.0000</text>\n</g>\n<!-- 5382732768&#45;&gt;5382726096* -->\n<g id=\"edge23\" class=\"edge\">\n<title>5382732768&#45;&gt;5382726096*</title>\n<path fill=\"none\" stroke=\"black\" d=\"M169.02,-65.42C179.47,-68.56 190.08,-71.95 200,-75.5 209.96,-79.06 220.59,-83.46 230.18,-87.66\"/>\n<polygon fill=\"black\" stroke=\"black\" points=\"228.54,-90.76 239.1,-91.66 231.4,-84.37 228.54,-90.76\"/>\n</g>\n<!-- 5382724992 -->\n<g id=\"node19\" class=\"node\">\n<title>5382724992</title>\n<polygon fill=\"none\" stroke=\"black\" points=\"326,-139.5 326,-175.5 540,-175.5 540,-139.5 326,-139.5\"/>\n<text text-anchor=\"middle\" x=\"349.5\" y=\"-153.8\" font-family=\"Times,serif\" font-size=\"14.00\">x1w1</text>\n<polyline fill=\"none\" stroke=\"black\" points=\"373,-139.5 373,-175.5\"/>\n<text text-anchor=\"middle\" x=\"415.5\" y=\"-153.8\" font-family=\"Times,serif\" font-size=\"14.00\">data &#45;6.0000</text>\n<polyline fill=\"none\" stroke=\"black\" points=\"458,-139.5 458,-175.5\"/>\n<text text-anchor=\"middle\" x=\"499\" y=\"-153.8\" font-family=\"Times,serif\" font-size=\"14.00\">grad 0.5000</text>\n</g>\n<!-- 5382724992&#45;&gt;5382732480+ -->\n<g id=\"edge22\" class=\"edge\">\n<title>5382724992&#45;&gt;5382732480+</title>\n<path fill=\"none\" stroke=\"black\" d=\"M539.92,-139.85C548.88,-138.35 557.49,-136.92 565.29,-135.62\"/>\n<polygon fill=\"black\" stroke=\"black\" points=\"565.66,-139.1 574.95,-134.01 564.51,-132.2 565.66,-139.1\"/>\n</g>\n<!-- 5382724992*&#45;&gt;5382724992 -->\n<g id=\"edge7\" class=\"edge\">\n<title>5382724992*&#45;&gt;5382724992</title>\n<path fill=\"none\" stroke=\"black\" d=\"M290.25,-157.5C297.53,-157.5 305.94,-157.5 314.95,-157.5\"/>\n<polygon fill=\"black\" stroke=\"black\" points=\"314.69,-161 324.69,-157.5 314.69,-154 314.69,-161\"/>\n</g>\n<!-- 5383101920 -->\n<g id=\"node21\" class=\"node\">\n<title>5383101920</title>\n<polygon fill=\"none\" stroke=\"black\" points=\"2493,-57.5 2493,-93.5 2675,-93.5 2675,-57.5 2493,-57.5\"/>\n<text text-anchor=\"middle\" x=\"2503\" y=\"-71.8\" font-family=\"Times,serif\" font-size=\"14.00\"> </text>\n<polyline fill=\"none\" stroke=\"black\" points=\"2513,-57.5 2513,-93.5\"/>\n<text text-anchor=\"middle\" x=\"2553\" y=\"-71.8\" font-family=\"Times,serif\" font-size=\"14.00\">data 0.1464</text>\n<polyline fill=\"none\" stroke=\"black\" points=\"2593,-57.5 2593,-93.5\"/>\n<text text-anchor=\"middle\" x=\"2634\" y=\"-71.8\" font-family=\"Times,serif\" font-size=\"14.00\">grad 4.8284</text>\n</g>\n<!-- 5383101920&#45;&gt;5383094432* -->\n<g id=\"edge29\" class=\"edge\">\n<title>5383101920&#45;&gt;5383094432*</title>\n<path fill=\"none\" stroke=\"black\" d=\"M2674.74,-60.15C2683.62,-58.63 2692.23,-57.16 2700.09,-55.81\"/>\n<polygon fill=\"black\" stroke=\"black\" points=\"2700.6,-59.28 2709.86,-54.14 2699.42,-52.38 2700.6,-59.28\"/>\n</g>\n<!-- 5383101920** -->\n<g id=\"node22\" class=\"node\">\n<title>5383101920**</title>\n<ellipse fill=\"none\" stroke=\"black\" cx=\"2366\" cy=\"-77.5\" rx=\"27\" ry=\"18\"/>\n<text text-anchor=\"middle\" x=\"2366\" y=\"-73.8\" font-family=\"Times,serif\" font-size=\"14.00\">**</text>\n</g>\n<!-- 5383101920**&#45;&gt;5383101920 -->\n<g id=\"edge8\" class=\"edge\">\n<title>5383101920**&#45;&gt;5383101920</title>\n<path fill=\"none\" stroke=\"black\" d=\"M2393.49,-77.25C2415.76,-77.05 2449.08,-76.74 2481.61,-76.44\"/>\n<polygon fill=\"black\" stroke=\"black\" points=\"2481.58,-79.94 2491.54,-76.35 2481.51,-72.94 2481.58,-79.94\"/>\n</g>\n<!-- 5383101968 -->\n<g id=\"node23\" class=\"node\">\n<title>5383101968</title>\n<polygon fill=\"none\" stroke=\"black\" points=\"2052,-53.5 2052,-89.5 2239,-89.5 2239,-53.5 2052,-53.5\"/>\n<text text-anchor=\"middle\" x=\"2062\" y=\"-67.8\" font-family=\"Times,serif\" font-size=\"14.00\"> </text>\n<polyline fill=\"none\" stroke=\"black\" points=\"2072,-53.5 2072,-89.5\"/>\n<text text-anchor=\"middle\" x=\"2114.5\" y=\"-67.8\" font-family=\"Times,serif\" font-size=\"14.00\">data &#45;1.0000</text>\n<polyline fill=\"none\" stroke=\"black\" points=\"2157,-53.5 2157,-89.5\"/>\n<text text-anchor=\"middle\" x=\"2198\" y=\"-67.8\" font-family=\"Times,serif\" font-size=\"14.00\">grad 1.3584</text>\n</g>\n<!-- 5383101968&#45;&gt;5383101920** -->\n<g id=\"edge15\" class=\"edge\">\n<title>5383101968&#45;&gt;5383101920**</title>\n<path fill=\"none\" stroke=\"black\" d=\"M2238.85,-74.04C2270.08,-74.89 2303.19,-75.8 2327.66,-76.47\"/>\n<polygon fill=\"black\" stroke=\"black\" points=\"2327.32,-79.97 2337.41,-76.74 2327.51,-72.97 2327.32,-79.97\"/>\n</g>\n<!-- 5383102160 -->\n<g id=\"node24\" class=\"node\">\n<title>5383102160</title>\n<polygon fill=\"none\" stroke=\"black\" points=\"2052.5,-108.5 2052.5,-144.5 2238.5,-144.5 2238.5,-108.5 2052.5,-108.5\"/>\n<text text-anchor=\"middle\" x=\"2062.5\" y=\"-122.8\" font-family=\"Times,serif\" font-size=\"14.00\"> </text>\n<polyline fill=\"none\" stroke=\"black\" points=\"2072.5,-108.5 2072.5,-144.5\"/>\n<text text-anchor=\"middle\" x=\"2112.5\" y=\"-122.8\" font-family=\"Times,serif\" font-size=\"14.00\">data 6.8284</text>\n<polyline fill=\"none\" stroke=\"black\" points=\"2152.5,-108.5 2152.5,-144.5\"/>\n<text text-anchor=\"middle\" x=\"2195.5\" y=\"-122.8\" font-family=\"Times,serif\" font-size=\"14.00\">grad &#45;0.1036</text>\n</g>\n<!-- 5383102160&#45;&gt;5383101920** -->\n<g id=\"edge28\" class=\"edge\">\n<title>5383102160&#45;&gt;5383101920**</title>\n<path fill=\"none\" stroke=\"black\" d=\"M2226.62,-108.53C2261.79,-100.65 2301.3,-91.78 2329.07,-85.56\"/>\n<polygon fill=\"black\" stroke=\"black\" points=\"2329.74,-88.99 2338.73,-83.39 2328.21,-82.16 2329.74,-88.99\"/>\n</g>\n<!-- 5383102160+&#45;&gt;5383102160 -->\n<g id=\"edge9\" class=\"edge\">\n<title>5383102160+&#45;&gt;5383102160</title>\n<path fill=\"none\" stroke=\"black\" d=\"M2016.21,-126.5C2023.61,-126.5 2032.15,-126.5 2041.24,-126.5\"/>\n<polygon fill=\"black\" stroke=\"black\" points=\"2041.03,-130 2051.03,-126.5 2041.03,-123 2041.03,-130\"/>\n</g>\n<!-- 5383102208 -->\n<g id=\"node26\" class=\"node\">\n<title>5383102208</title>\n<polygon fill=\"none\" stroke=\"black\" points=\"1739.5,-110.5 1739.5,-146.5 1925.5,-146.5 1925.5,-110.5 1739.5,-110.5\"/>\n<text text-anchor=\"middle\" x=\"1749.5\" y=\"-124.8\" font-family=\"Times,serif\" font-size=\"14.00\"> </text>\n<polyline fill=\"none\" stroke=\"black\" points=\"1759.5,-110.5 1759.5,-146.5\"/>\n<text text-anchor=\"middle\" x=\"1799.5\" y=\"-124.8\" font-family=\"Times,serif\" font-size=\"14.00\">data 1.0000</text>\n<polyline fill=\"none\" stroke=\"black\" points=\"1839.5,-110.5 1839.5,-146.5\"/>\n<text text-anchor=\"middle\" x=\"1882.5\" y=\"-124.8\" font-family=\"Times,serif\" font-size=\"14.00\">grad &#45;0.1036</text>\n</g>\n<!-- 5383102208&#45;&gt;5383102160+ -->\n<g id=\"edge21\" class=\"edge\">\n<title>5383102208&#45;&gt;5383102160+</title>\n<path fill=\"none\" stroke=\"black\" d=\"M1925.16,-127.31C1933.86,-127.2 1942.3,-127.09 1950.04,-126.99\"/>\n<polygon fill=\"black\" stroke=\"black\" points=\"1950.06,-130.49 1960.01,-126.86 1949.97,-123.49 1950.06,-130.49\"/>\n</g>\n<!-- 5383102400 -->\n<g id=\"node27\" class=\"node\">\n<title>5383102400</title>\n<polygon fill=\"none\" stroke=\"black\" points=\"2275,-4.5 2275,-40.5 2457,-40.5 2457,-4.5 2275,-4.5\"/>\n<text text-anchor=\"middle\" x=\"2285\" y=\"-18.8\" font-family=\"Times,serif\" font-size=\"14.00\"> </text>\n<polyline fill=\"none\" stroke=\"black\" points=\"2295,-4.5 2295,-40.5\"/>\n<text text-anchor=\"middle\" x=\"2335\" y=\"-18.8\" font-family=\"Times,serif\" font-size=\"14.00\">data 4.8284</text>\n<polyline fill=\"none\" stroke=\"black\" points=\"2375,-4.5 2375,-40.5\"/>\n<text text-anchor=\"middle\" x=\"2416\" y=\"-18.8\" font-family=\"Times,serif\" font-size=\"14.00\">grad 0.1464</text>\n</g>\n<!-- 5383102400&#45;&gt;5383094432* -->\n<g id=\"edge18\" class=\"edge\">\n<title>5383102400&#45;&gt;5383094432*</title>\n<path fill=\"none\" stroke=\"black\" d=\"M2456.57,-29.04C2534.44,-34.72 2643.37,-42.67 2699.81,-46.79\"/>\n<polygon fill=\"black\" stroke=\"black\" points=\"2699.29,-50.26 2709.52,-47.49 2699.8,-43.28 2699.29,-50.26\"/>\n</g>\n<!-- 5383102400+&#45;&gt;5383102400 -->\n<g id=\"edge10\" class=\"edge\">\n<title>5383102400+&#45;&gt;5383102400</title>\n<path fill=\"none\" stroke=\"black\" d=\"M2016.37,-22.5C2066.98,-22.5 2180.12,-22.5 2263.86,-22.5\"/>\n<polygon fill=\"black\" stroke=\"black\" points=\"2263.69,-26 2273.69,-22.5 2263.69,-19 2263.69,-26\"/>\n</g>\n<!-- 5383102448 -->\n<g id=\"node29\" class=\"node\">\n<title>5383102448</title>\n<polygon fill=\"none\" stroke=\"black\" points=\"1739,-0.5 1739,-36.5 1926,-36.5 1926,-0.5 1739,-0.5\"/>\n<text text-anchor=\"middle\" x=\"1749\" y=\"-14.8\" font-family=\"Times,serif\" font-size=\"14.00\"> </text>\n<polyline fill=\"none\" stroke=\"black\" points=\"1759,-0.5 1759,-36.5\"/>\n<text text-anchor=\"middle\" x=\"1801.5\" y=\"-14.8\" font-family=\"Times,serif\" font-size=\"14.00\">data &#45;1.0000</text>\n<polyline fill=\"none\" stroke=\"black\" points=\"1844,-0.5 1844,-36.5\"/>\n<text text-anchor=\"middle\" x=\"1885\" y=\"-14.8\" font-family=\"Times,serif\" font-size=\"14.00\">grad 0.1464</text>\n</g>\n<!-- 5383102448&#45;&gt;5383102400+ -->\n<g id=\"edge25\" class=\"edge\">\n<title>5383102448&#45;&gt;5383102400+</title>\n<path fill=\"none\" stroke=\"black\" d=\"M1925.6,-20.88C1934.26,-21.11 1942.65,-21.33 1950.33,-21.52\"/>\n<polygon fill=\"black\" stroke=\"black\" points=\"1950.14,-25.02 1960.23,-21.78 1950.32,-18.02 1950.14,-25.02\"/>\n</g>\n</g>\n</svg>\n",
      "text/plain": [
       "<graphviz.graphs.Digraph at 0x140d5fdf0>"
      ]
     },
     "execution_count": 18,
     "metadata": {},
     "output_type": "execute_result"
    }
   ],
   "source": [
    "# Inputs: x1, x2.\n",
    "x1 = Value(2.0, label=\"x1\")\n",
    "x2 = Value(0.0, label=\"x2\")\n",
    "\n",
    "# Weights (synaptic strengths for each input):\n",
    "w1 = Value(-3.0, label=\"w1\")\n",
    "w2 = Value(1.0, label=\"w2\")\n",
    "\n",
    "# Bias of the neuron:\n",
    "b = Value(6.8813735870195432, label=\"b\")  # To have nice numbers later on.\n",
    "\n",
    "x1w1 = x1 * w1\n",
    "x1w1.label = \"x1w1\"\n",
    "x2w2 = x2 * w2\n",
    "x2w2.label = \"x2w2\"\n",
    "x1w1plusx2w2 = x1w1 + x2w2\n",
    "x1w1plusx2w2.label = \"x1w1 + x2w2\"\n",
    "pre_activation = x1w1plusx2w2 + b\n",
    "pre_activation.label = \"pre-activation\"\n",
    "intermediate = (2 * pre_activation).exp()\n",
    "activation = (intermediate - 1) / (intermediate + 1)\n",
    "activation.label = \"activation\"\n",
    "activation.backward()\n",
    "\n",
    "draw_graph(activation)\n"
   ]
  },
  {
   "attachments": {},
   "cell_type": "markdown",
   "metadata": {},
   "source": [
    "We get exactly the same activations and gradients as before, but now we also have many more intermediate gradients. This means that the forward and backward implementations are coherent across mathematical equivalences.\n",
    "\n",
    "Now let's see how we could implement a neuron like this in PyTorch. As the Python float is double precision, if we want to get an equivalent method in PyTorch, we will have to use double precision as well."
   ]
  },
  {
   "cell_type": "code",
   "execution_count": 19,
   "metadata": {},
   "outputs": [
    {
     "name": "stdout",
     "output_type": "stream",
     "text": [
      "activation: 0.7071067811865476\n",
      "x2.grad: 0.4999999999999999\n",
      "w2.grad: 0.0\n",
      "x1.grad: -1.4999999999999996\n",
      "w1.grad: 0.9999999999999998\n"
     ]
    }
   ],
   "source": [
    "x1 = torch.tensor(2.0, dtype=torch.double, requires_grad=True)\n",
    "x2 = torch.tensor(0.0, dtype=torch.double, requires_grad=True)\n",
    "w1 = torch.tensor(-3.0, dtype=torch.double, requires_grad=True)\n",
    "w2 = torch.tensor(1.0, dtype=torch.double, requires_grad=True)\n",
    "b = torch.tensor(6.8813735870195432, dtype=torch.double, requires_grad=True)\n",
    "pre_activation = x1 * w1 + x2 * w2 + b\n",
    "activation = pre_activation.tanh()\n",
    "\n",
    "print(\"activation:\", activation.item())\n",
    "\n",
    "activation.backward()\n",
    "\n",
    "print(\"x2.grad:\", x2.grad.item())\n",
    "print(\"w2.grad:\", w2.grad.item())\n",
    "print(\"x1.grad:\", x1.grad.item())\n",
    "print(\"w1.grad:\", w1.grad.item())\n"
   ]
  },
  {
   "attachments": {},
   "cell_type": "markdown",
   "metadata": {},
   "source": [
    "We get exactly the same results, up to numerical precision. Of course, PyTorch is much more advanced than ``micrograd`` and works on tensors of arbitrary shape. PyTorch is significantly more efficient by design: by structuring scalars into tensors, we can do many operations in parallel (SIMD). Still, in essence, we can do everything with the micrograd design."
   ]
  }
 ],
 "metadata": {
  "kernelspec": {
   "display_name": "karpathy-nn-L00z48Da-py3.10",
   "language": "python",
   "name": "python3"
  },
  "language_info": {
   "codemirror_mode": {
    "name": "ipython",
    "version": 3
   },
   "file_extension": ".py",
   "mimetype": "text/x-python",
   "name": "python",
   "nbconvert_exporter": "python",
   "pygments_lexer": "ipython3",
   "version": "3.10.10"
  },
  "orig_nbformat": 4,
  "vscode": {
   "interpreter": {
    "hash": "1777287656d261b264802db79277cf28c62daaee414facac31cc4d9617e447f5"
   }
  }
 },
 "nbformat": 4,
 "nbformat_minor": 2
}
