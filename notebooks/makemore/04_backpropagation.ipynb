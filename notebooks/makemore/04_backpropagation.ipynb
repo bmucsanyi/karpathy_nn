{
 "cells": [
  {
   "attachments": {},
   "cell_type": "markdown",
   "metadata": {},
   "source": [
    "In ``micrograd``, we stayed on the level of individual scalars. Now we will thing about backprop on the level of tensors. Back in 2012-2014, most people used backpropagation to train networks (another possibility is, e.g., contrastive divergence), but everyone wrote their backward pass manually and used gradient checkers to verify the correctness of their gradients."
   ]
  },
  {
   "cell_type": "code",
   "execution_count": 143,
   "metadata": {},
   "outputs": [],
   "source": [
    "import torch\n",
    "from torch import Tensor\n",
    "import random\n",
    "import torch.nn.functional as F\n",
    "\n",
    "from karpathy_nn.makemore.data.load_data import load_names\n",
    "\n",
    "import matplotlib.pyplot as plt\n"
   ]
  },
  {
   "cell_type": "code",
   "execution_count": 144,
   "metadata": {},
   "outputs": [],
   "source": [
    "random.seed(42)\n"
   ]
  },
  {
   "cell_type": "code",
   "execution_count": 145,
   "metadata": {},
   "outputs": [
    {
     "data": {
      "text/plain": [
       "['emma', 'olivia', 'ava', 'isabella', 'sophia', 'charlotte', 'mia', 'amelia']"
      ]
     },
     "execution_count": 145,
     "metadata": {},
     "output_type": "execute_result"
    }
   ],
   "source": [
    "words = load_names()\n",
    "words[:8]\n"
   ]
  },
  {
   "cell_type": "code",
   "execution_count": 146,
   "metadata": {},
   "outputs": [
    {
     "data": {
      "text/plain": [
       "32033"
      ]
     },
     "execution_count": 146,
     "metadata": {},
     "output_type": "execute_result"
    }
   ],
   "source": [
    "len(words)\n"
   ]
  },
  {
   "cell_type": "code",
   "execution_count": 147,
   "metadata": {},
   "outputs": [
    {
     "name": "stdout",
     "output_type": "stream",
     "text": [
      "{1: 'a', 2: 'b', 3: 'c', 4: 'd', 5: 'e', 6: 'f', 7: 'g', 8: 'h', 9: 'i', 10: 'j', 11: 'k', 12: 'l', 13: 'm', 14: 'n', 15: 'o', 16: 'p', 17: 'q', 18: 'r', 19: 's', 20: 't', 21: 'u', 22: 'v', 23: 'w', 24: 'x', 25: 'y', 26: 'z', 0: '.'}\n",
      "27\n"
     ]
    }
   ],
   "source": [
    "# Build the vocabuilary of tokens and mappings to/from integers\n",
    "characters = sorted(list(set(\"\".join(words))))\n",
    "string_to_integer = {string: integer + 1 for integer, string in enumerate(characters)}\n",
    "string_to_integer[\".\"] = 0\n",
    "integer_to_string = {integer: string for string, integer in string_to_integer.items()}\n",
    "num_tokens = len(integer_to_string)\n",
    "print(integer_to_string)\n",
    "print(num_tokens)\n"
   ]
  },
  {
   "cell_type": "code",
   "execution_count": 148,
   "metadata": {},
   "outputs": [],
   "source": [
    "def build_dataset(words: list[str], block_size: int = 3) -> tuple[Tensor, Tensor]:\n",
    "    # Create the dataset\n",
    "    X, Y = [], []\n",
    "    for word in words:\n",
    "        context = [0] * block_size\n",
    "        for character in word + \".\":\n",
    "            idx = string_to_integer[character]\n",
    "            X.append(context)\n",
    "            Y.append(idx)\n",
    "            context = context[1:] + [idx]  # Crop and append\n",
    "\n",
    "    X = torch.tensor(X)\n",
    "    Y = torch.tensor(Y)\n",
    "\n",
    "    return X, Y\n",
    "\n",
    "\n",
    "random.shuffle(words)\n",
    "n1 = int(0.8 * len(words))\n",
    "n2 = int(0.9 * len(words))\n",
    "\n",
    "block_size = 3\n",
    "Xtr, Ytr = build_dataset(words[:n1], block_size)\n",
    "Xdev, Ydev = build_dataset(words[n1:n2], block_size)\n",
    "Xte, Yte = build_dataset(words[n2:], block_size)\n"
   ]
  },
  {
   "attachments": {},
   "cell_type": "markdown",
   "metadata": {},
   "source": [
    "The boilerplate is done. Now we get to the action."
   ]
  },
  {
   "cell_type": "code",
   "execution_count": 149,
   "metadata": {},
   "outputs": [],
   "source": [
    "# Utility function we will use later when comparing manual gradients to PyTorch gradients\n",
    "def cmp(string: str, dt: Tensor, t: Tensor) -> None:\n",
    "    exact_equality = torch.all(dt == t.grad).item()\n",
    "    approximate_equality = torch.allclose(dt, t.grad)\n",
    "    max_abs_diff = (dt - t.grad).abs().max().item()\n",
    "    print(\n",
    "        f\"{string:25s} | exact: {str(exact_equality):5s} | approximate: {str(approximate_equality):5s} | max_abs_diff: {max_abs_diff}\"\n",
    "    )\n"
   ]
  },
  {
   "cell_type": "code",
   "execution_count": 150,
   "metadata": {},
   "outputs": [
    {
     "name": "stdout",
     "output_type": "stream",
     "text": [
      "4137\n"
     ]
    }
   ],
   "source": [
    "dim_embedding = 10  # Dimensionality of the character embedding vectors\n",
    "dim_hidden = 64  # Number of neurons in the hidden layer of the MLP\n",
    "\n",
    "g = torch.Generator().manual_seed(2147483647)\n",
    "C = torch.randn(num_tokens, dim_embedding, generator=g)\n",
    "\n",
    "# Layer 1\n",
    "W1 = (\n",
    "    torch.randn(dim_embedding * block_size, dim_hidden, generator=g)\n",
    "    * (5 / 3)\n",
    "    / (dim_embedding * block_size) ** 0.5\n",
    ")\n",
    "b1 = (\n",
    "    torch.randn(dim_hidden, generator=g) * 0.1\n",
    ")  # Using b1 just for fun, it is useless because of batch norm\n",
    "\n",
    "# Layer 2\n",
    "W2 = torch.randn(dim_hidden, num_tokens, generator=g) * 0.1\n",
    "b2 = torch.randn(num_tokens, generator=g) * 0.1\n",
    "\n",
    "# BatchNorm parameters\n",
    "bn_gain = torch.randn(1, dim_hidden, generator=g) * 0.1 + 1.0\n",
    "bn_bias = torch.randn(1, dim_hidden) * 0.1\n",
    "\n",
    "# Note: We are initializing many of these parameters in non-standard ways\n",
    "# because sometimes initializing with, e.g., all zeros could mask an\n",
    "# incorrect implementation of the backward pass.\n",
    "# (When everything is zero, everything simplifies.)\n",
    "\n",
    "parameters = [C, W1, b1, W2, b2, bn_gain, bn_bias]\n",
    "print(\n",
    "    sum(parameter.nelement() for parameter in parameters)\n",
    ")  # Total number of parameters\n",
    "for parameter in parameters:\n",
    "    parameter.requires_grad = True\n"
   ]
  },
  {
   "cell_type": "code",
   "execution_count": 151,
   "metadata": {},
   "outputs": [],
   "source": [
    "batch_size = 32\n",
    "n = batch_size  # A shorter variable name for conveniance\n",
    "# Construct a minibatch\n",
    "idx = torch.randint(0, Xtr.shape[0], (batch_size,), generator=g)\n",
    "Xb, Yb = Xtr[idx], Ytr[idx]  # Batch X, Y\n"
   ]
  },
  {
   "cell_type": "code",
   "execution_count": 152,
   "metadata": {},
   "outputs": [
    {
     "data": {
      "text/plain": [
       "tensor(3.5975, grad_fn=<NegBackward0>)"
      ]
     },
     "execution_count": 152,
     "metadata": {},
     "output_type": "execute_result"
    }
   ],
   "source": [
    "# Forward pass, chunked into smaller steps that are possible to\n",
    "# backward through one at a time\n",
    "# Xb: (32, block_size)\n",
    "embedding = C[Xb]  # (32, block_size, dim_embedding)\n",
    "embedding_cat = embedding.flatten(start_dim=1)  # (32, block_size * dim_embedding)\n",
    "\n",
    "# Linear layer 1\n",
    "hidden_pre_bn = embedding_cat @ W1 + b1  # (32, dim_hidden)\n",
    "\n",
    "# BatchNorm layer\n",
    "bn_mean_i = 1 / n * hidden_pre_bn.sum(dim=0, keepdim=True)  # (1, dim_hidden)\n",
    "bn_diff = hidden_pre_bn - bn_mean_i  # (32, dim_hidden)\n",
    "bn_diff2 = bn_diff**2  # (32, dim_hidden)\n",
    "\n",
    "# Note: Bessel's correction (dividing by n - 1, not n).\n",
    "# The paper doesn't use Bessel's correction during training,\n",
    "# but uses it during inference (they multiply the running variance\n",
    "# by n / (n - 1)). I.e., before storing the variance in the running\n",
    "# buffer (to be later used in eval mode), the unbiased estimator\n",
    "# is used, as they multiply by the correction term.\n",
    "# This introduces a train-test mismatch, where in training they use\n",
    "# the bias version, but in testing they use the unbiased one.\n",
    "# Andrej finds this very confusing. One should use the corrected\n",
    "# version during training as well, as the uncorrected one almost\n",
    "# always underestimates the true variance. He considers this a bug,\n",
    "# and the paper doesn't justify this discrepancy. As PyTorch doesn't\n",
    "# have a flag for that, everyone using BatchNorm has a bug in their code\n",
    "# in Andrej's opinion. This turns out to be much less of a problem\n",
    "# when the batch size is larger, but usually it's quite small.\n",
    "# The PyTorch docs mention that they use the biased estimate, but\n",
    "# it's actually not true! They do it just as described in the paper.\n",
    "bn_var = 1 / (n - 1) * bn_diff2.sum(dim=0, keepdim=True)  # (1, dim_hidden)\n",
    "bn_std_inv = (bn_var + 1e-5) ** -0.5  # (1, dim_hidden)\n",
    "bn_raw = bn_diff * bn_std_inv  # (32, dim_hidden)\n",
    "hidden_pre_activation = bn_gain * bn_raw + bn_bias  # (32, dim_hidden)\n",
    "\n",
    "# Non-linearity\n",
    "hidden_activation = torch.tanh(hidden_pre_activation)  # Hidden layer\n",
    "\n",
    "# Linear layer 2\n",
    "logits = hidden_activation @ W2 + b2  # Output layer\n",
    "\n",
    "# Cross-entropy loss (same as F.cross_entropy(logits, Yb))\n",
    "logit_maxes = logits.max(dim=1, keepdim=True)[0]\n",
    "norm_logits = logits - logit_maxes  # Subtract max for numerical stability\n",
    "counts = norm_logits.exp()\n",
    "counts_sum = counts.sum(dim=1, keepdim=True)  # (32, 1)\n",
    "\n",
    "# We use this formulation because something is wrong with the backward\n",
    "# pass implementation of 1 / x in PyTorch... it gives a weird result\n",
    "counts_sum_inv = counts_sum**-1  # (32, 1)\n",
    "probs = counts * counts_sum_inv  # (32, 27) * (32, 1)\n",
    "log_probs = probs.log()\n",
    "loss = -log_probs[range(n), Yb].mean()\n",
    "\n",
    "# PyTorch backward pass\n",
    "for parameter in parameters:\n",
    "    parameter.grad = None\n",
    "\n",
    "# AFAIK, there is no cleaner way\n",
    "for variable in [\n",
    "    log_probs,\n",
    "    probs,\n",
    "    counts,\n",
    "    counts_sum,\n",
    "    counts_sum_inv,\n",
    "    norm_logits,\n",
    "    logit_maxes,\n",
    "    logits,\n",
    "    hidden_activation,\n",
    "    hidden_pre_activation,\n",
    "    bn_raw,\n",
    "    bn_std_inv,\n",
    "    bn_var,\n",
    "    bn_diff2,\n",
    "    bn_diff,\n",
    "    hidden_pre_bn,\n",
    "    bn_mean_i,\n",
    "    embedding_cat,\n",
    "    embedding,\n",
    "]:\n",
    "    variable.retain_grad()\n",
    "loss.backward()\n",
    "loss\n"
   ]
  },
  {
   "attachments": {},
   "cell_type": "markdown",
   "metadata": {},
   "source": [
    "Exercise 1: Backprop through the whole computational graph manually, backpropagating through all of the variables as they are defined in the forward pass above, one by one."
   ]
  },
  {
   "cell_type": "code",
   "execution_count": 153,
   "metadata": {},
   "outputs": [
    {
     "name": "stdout",
     "output_type": "stream",
     "text": [
      "logprobs                  | exact: True  | approximate: True  | max_abs_diff: 0.0\n",
      "probs                     | exact: True  | approximate: True  | max_abs_diff: 0.0\n",
      "counts_sum_inv            | exact: True  | approximate: True  | max_abs_diff: 0.0\n",
      "counts_sum                | exact: True  | approximate: True  | max_abs_diff: 0.0\n",
      "counts                    | exact: True  | approximate: True  | max_abs_diff: 0.0\n",
      "norm_logits               | exact: True  | approximate: True  | max_abs_diff: 0.0\n",
      "logit_maxes               | exact: True  | approximate: True  | max_abs_diff: 0.0\n",
      "logits                    | exact: True  | approximate: True  | max_abs_diff: 0.0\n",
      "hidden_activation         | exact: True  | approximate: True  | max_abs_diff: 0.0\n",
      "W2                        | exact: True  | approximate: True  | max_abs_diff: 0.0\n",
      "b2                        | exact: True  | approximate: True  | max_abs_diff: 0.0\n",
      "hidden_pre_activation     | exact: True  | approximate: True  | max_abs_diff: 0.0\n",
      "bn_gain                   | exact: True  | approximate: True  | max_abs_diff: 0.0\n",
      "bn_bias                   | exact: True  | approximate: True  | max_abs_diff: 0.0\n",
      "bn_raw                    | exact: True  | approximate: True  | max_abs_diff: 0.0\n",
      "bn_std_inv                | exact: True  | approximate: True  | max_abs_diff: 0.0\n",
      "bn_var                    | exact: True  | approximate: True  | max_abs_diff: 0.0\n",
      "bn_diff2                  | exact: True  | approximate: True  | max_abs_diff: 0.0\n",
      "bn_diff                   | exact: True  | approximate: True  | max_abs_diff: 0.0\n",
      "bn_mean_i                 | exact: True  | approximate: True  | max_abs_diff: 0.0\n",
      "hidden_pre_bn             | exact: True  | approximate: True  | max_abs_diff: 0.0\n",
      "embedding_cat             | exact: True  | approximate: True  | max_abs_diff: 0.0\n",
      "W1                        | exact: True  | approximate: True  | max_abs_diff: 0.0\n",
      "b1                        | exact: True  | approximate: True  | max_abs_diff: 0.0\n",
      "embedding                 | exact: True  | approximate: True  | max_abs_diff: 0.0\n",
      "C                         | exact: True  | approximate: True  | max_abs_diff: 0.0\n"
     ]
    }
   ],
   "source": [
    "dlog_probs = torch.zeros_like(log_probs)  # (32, 27)\n",
    "dlog_probs[range(n), Yb] = -1 / n  # Others don't influence the loss\n",
    "\n",
    "# Boosts gradient for samples with very low GT label probabiliy\n",
    "dprobs = 1 / probs * dlog_probs  # (32, 27)\n",
    "\n",
    "# Backpropagating through multiplication, then replication.\n",
    "# Replication: The correct thing during backpropagation is to\n",
    "# sum the gradients of all outgoing branches to obtain the final\n",
    "# result.\n",
    "dcounts_sum_inv = (counts * dprobs).sum(dim=1, keepdim=True)  # (32, 1)\n",
    "\n",
    "dcounts_sum = -(counts_sum**-2) * dcounts_sum_inv  # (32, 1)\n",
    "\n",
    "# Both branches are summed up, chain rule solves broadcasting.\n",
    "# The addition just routes the gradient.\n",
    "dcounts = counts_sum_inv * dprobs + dcounts_sum  # (32, 27)\n",
    "\n",
    "dnorm_logits = counts * dcounts  # (32, 27)\n",
    "\n",
    "# Note: this is zero, because we have seen that an additive constant\n",
    "# does not change the softmax value and, consequently, the loss.\n",
    "# It won't be exactly zero because of numerical wonkiness, though.\n",
    "dlogit_maxes = -dnorm_logits.sum(dim=1, keepdim=True)  # (32, 1)\n",
    "\n",
    "dlogits = (\n",
    "    dnorm_logits\n",
    "    + F.one_hot(logits.max(dim=1)[1], num_classes=logits.shape[1]) * dlogit_maxes\n",
    ")  # (32, 27)\n",
    "# dlogits = dnorm_logits\n",
    "# argmaxes = logits.argmax(dim=1, keepdim=True)\n",
    "# dlogits[range(n), argmaxes] += dlogit_maxes  # (32, 27)\n",
    "\n",
    "dhidden_activation = dlogits @ W2.T  # (32, 27) @ (27, dim_hidden) = (32, dim_hidden)\n",
    "\n",
    "dW2 = hidden_activation.T @ dlogits  # (dim_hidden, 32) @ (32, 27) = (dim_hidden, 27)\n",
    "\n",
    "db2 = dlogits.sum(dim=0)  # (dim_hidden,)\n",
    "\n",
    "dhidden_pre_activation = (\n",
    "    1 - hidden_activation**2\n",
    ") * dhidden_activation  # (32, dim_hidden)\n",
    "\n",
    "dbn_gain = (bn_raw * dhidden_pre_activation).sum(dim=0)  # (dim_hidden,)\n",
    "\n",
    "dbn_bias = dhidden_pre_activation.sum(dim=0)  # (dim_hidden,)\n",
    "\n",
    "dbn_raw = bn_gain * dhidden_pre_activation  # (32, dim_hidden)\n",
    "\n",
    "dbn_std_inv = (bn_diff * dbn_raw).sum(dim=0, keepdim=True)  # (1, dim_hidden)\n",
    "\n",
    "dbn_var = -0.5 * (bn_var + 1e-5) ** (-3 / 2) * dbn_std_inv  # (1, dim_hidden)\n",
    "\n",
    "dbn_diff2 = 1 / (n - 1) * dbn_var.tile((32, 1))  # (32, dim_hidden)\n",
    "\n",
    "# Sum different paths\n",
    "dbn_diff = 2 * bn_diff * dbn_diff2 + bn_std_inv * dbn_raw  # (32, dim_hidden)\n",
    "\n",
    "dbn_mean_i = -dbn_diff.sum(dim=0, keepdim=True)  # (1, dim_hidden)\n",
    "\n",
    "dhidden_pre_bn = dbn_diff + 1 / n * dbn_mean_i  # (32, dim_hidden)\n",
    "\n",
    "dembedding_cat = dhidden_pre_bn @ W1.T\n",
    "# (32, dim_hidden) @ (dim_hidden, dim_embedding * block_size)\n",
    "# = (32, dim_embedding * block_size)\n",
    "\n",
    "dW1 = embedding_cat.T @ dhidden_pre_bn\n",
    "# (dim_embedding * block_size, 32) @ (32, dim_hidden)\n",
    "# = dim_embedding * block_size, dim_hidden)\n",
    "\n",
    "db1 = dhidden_pre_bn.sum(dim=0)  # (dim_hidden,)\n",
    "\n",
    "dembedding = dembedding_cat.reshape(embedding.shape)  # (32, block_size, dim_embedding)\n",
    "\n",
    "dC = torch.zeros_like(C)  # (num_tokens, dim_embedding)\n",
    "for k in range(Xb.shape[0]):  # batch index\n",
    "    for l in range(Xb.shape[1]):  # context index\n",
    "        idx = Xb[k, l]\n",
    "        dC[idx] += dembedding[k, l]  # Accumulate gradients of tokens\n",
    "\n",
    "cmp(\"logprobs\", dlog_probs, log_probs)\n",
    "cmp(\"probs\", dprobs, probs)\n",
    "cmp(\"counts_sum_inv\", dcounts_sum_inv, counts_sum_inv)\n",
    "cmp(\"counts_sum\", dcounts_sum, counts_sum)\n",
    "cmp(\"counts\", dcounts, counts)\n",
    "cmp(\"norm_logits\", dnorm_logits, norm_logits)\n",
    "cmp(\"logit_maxes\", dlogit_maxes, logit_maxes)\n",
    "cmp(\"logits\", dlogits, logits)\n",
    "cmp(\"hidden_activation\", dhidden_activation, hidden_activation)\n",
    "cmp(\"W2\", dW2, W2)\n",
    "cmp(\"b2\", db2, b2)\n",
    "cmp(\"hidden_pre_activation\", dhidden_pre_activation, hidden_pre_activation)\n",
    "cmp(\"bn_gain\", dbn_gain, bn_gain)\n",
    "cmp(\"bn_bias\", dbn_bias, bn_bias)\n",
    "cmp(\"bn_raw\", dbn_raw, bn_raw)\n",
    "cmp(\"bn_std_inv\", dbn_std_inv, bn_std_inv)\n",
    "cmp(\"bn_var\", dbn_var, bn_var)\n",
    "cmp(\"bn_diff2\", dbn_diff2, bn_diff2)\n",
    "cmp(\"bn_diff\", dbn_diff, bn_diff)\n",
    "cmp(\"bn_mean_i\", dbn_mean_i, bn_mean_i)\n",
    "cmp(\"hidden_pre_bn\", dhidden_pre_bn, hidden_pre_bn)\n",
    "cmp(\"embedding_cat\", dembedding_cat, embedding_cat)\n",
    "cmp(\"W1\", dW1, W1)\n",
    "cmp(\"b1\", db1, b1)\n",
    "cmp(\"embedding\", dembedding, embedding)\n",
    "cmp(\"C\", dC, C)\n"
   ]
  },
  {
   "attachments": {},
   "cell_type": "markdown",
   "metadata": {},
   "source": [
    "Note: For $D = AB$,\n",
    "$$\\frac{\\partial L}{\\partial B} = A^\\top \\frac{\\partial L}{\\partial D}$$\n",
    "and\n",
    "$$\\frac{\\partial L}{\\partial A} = \\frac{\\partial L}{\\partial D} B^\\top.$$\n",
    "(Andrej differentiates through matmul without using this, he never remembers it. He only leverages that shapes have to match up, just like I do. This, of course, fails when the matrices are square.)\n",
    "\n",
    "It turns out that in the first exercise, we were doing way too much work. It is not what we would do in practice. E.g., when calculating the cross-entropy loss, we broke the calculation up into its most atomic parts and backpropagated through all of those individually. However, if we just look at the mathematical expression of the loss, we can do the differentiation on a paper, and many terms cancel and simplify. The mathematical expression we end up with is significantly shorter and easier to implement than backpropagating through all the little pieces.\n",
    "\n",
    "Exercise 2: backropagate through cross_entropy but all in one go. To complete this challenge, look at the mathematical expression of the loss, take the derivative, simplify the expression, and just write it out."
   ]
  },
  {
   "cell_type": "code",
   "execution_count": 154,
   "metadata": {},
   "outputs": [
    {
     "name": "stdout",
     "output_type": "stream",
     "text": [
      "3.5974924564361572 diff: 0.0\n"
     ]
    }
   ],
   "source": [
    "loss_fast = F.cross_entropy(logits, Yb)\n",
    "print(loss_fast.item(), \"diff:\", (loss_fast - loss).item())\n"
   ]
  },
  {
   "attachments": {},
   "cell_type": "markdown",
   "metadata": {},
   "source": [
    "We get the \"exact\" same loss, but it's calculated much faster and takes less time to write. It's also much faster to backprop through this: if we differentiate by hand, we end up with a much shorter expression that runs very fast."
   ]
  },
  {
   "attachments": {},
   "cell_type": "markdown",
   "metadata": {},
   "source": [
    "$$\n",
    "\\begin{align*}\n",
    "\\mathcal{L} &= -\\frac{1}{n}\\sum_{i = 1}^n \\log p(y_i \\mid x_i)\\\\\n",
    "&= -\\frac{1}{n} \\sum_{i = 1}^n \\log \\frac{\\exp\\left(\\text{logit}_{i, y_i}\\right)}{\\sum_{j = 1}^C \\exp\\left(\\text{logit}_{i, j}\\right)}\\\\\n",
    "&= -\\frac{1}{n} \\sum_{i = 1}^n \\left(\\text{logit}_{i, y_i} - \\log\\sum_{j = 1}^C \\exp \\left(\\text{logit}_{i, j}\\right)\\right).\n",
    "\\end{align*}\n",
    "$$\n",
    "Therefore,\n",
    "$$\n",
    "\\begin{align*}\n",
    "\\frac{\\partial \\mathcal{L}}{\\partial \\text{logit}_{k, l}} &= -\\frac{1}{n} \\sum_{i = 1}^n \\left(\\delta_{ik}\\delta_{y_il} - \\frac{\\sum_{j = 1}^C \\exp\\left(\\text{logit}_{i, j}\\right) \\delta_{ik}\\delta_{jl}}{\\sum_{j = 1}^C \\exp\\left(\\text{logit}_{i, j}\\right)}\\right)\\\\\n",
    "&= -\\frac{1}{n}\\sum_{i = 1}^n \\left(\\delta_{ik}\\delta_{y_il}-\\frac{\\exp\\left(\\text{logit}_{i, l}\\right)\\delta_{ik}}{\\sum_{j = 1}^C \\exp\\left(\\text{logit}_{i, j}\\right)}\\right)\\\\\n",
    "&= -\\frac{1}{n} \\left(\\delta_{y_kl} - \\frac{\\exp\\left(\\text{logit}_{k, l}\\right)}{\\sum_{j = 1}^C \\exp\\left(\\text{logit}_{k, j}\\right)}\\right)\\\\\n",
    "&= \\frac{1}{n}\\left(\\text{softmax}_{k, l} - \\text{onehot}_{k, l}\\right).\n",
    "\\end{align*}\n",
    "$$"
   ]
  },
  {
   "cell_type": "code",
   "execution_count": 155,
   "metadata": {},
   "outputs": [
    {
     "name": "stdout",
     "output_type": "stream",
     "text": [
      "logits                    | exact: False | approximate: True  | max_abs_diff: 6.05359673500061e-09\n"
     ]
    }
   ],
   "source": [
    "# Backward pass\n",
    "dlogits = 1 / n * (probs - F.one_hot(Yb, num_classes=logits.shape[1]))\n",
    "\n",
    "# dlogits = F.softmax(logits, dim=1)\n",
    "# dlogits[range(n), Yb] -= 1\n",
    "# dlogits /= n\n",
    "\n",
    "cmp(\"logits\", dlogits, logits)  # Andrej gets the same result\n"
   ]
  },
  {
   "attachments": {},
   "cell_type": "markdown",
   "metadata": {},
   "source": [
    "We have some floating point wonkiness, but we basically get the correct answer."
   ]
  },
  {
   "cell_type": "code",
   "execution_count": 156,
   "metadata": {},
   "outputs": [
    {
     "data": {
      "text/plain": [
       "<matplotlib.image.AxesImage at 0x13419b370>"
      ]
     },
     "execution_count": 156,
     "metadata": {},
     "output_type": "execute_result"
    },
    {
     "data": {
      "image/png": "[encoded data removed]",
      "text/plain": [
       "<Figure size 800x800 with 1 Axes>"
      ]
     },
     "metadata": {},
     "output_type": "display_data"
    }
   ],
   "source": [
    "plt.figure(figsize=(8, 8))\n",
    "plt.imshow(dlogits.detach(), cmap=\"gray\")\n"
   ]
  },
  {
   "cell_type": "code",
   "execution_count": 157,
   "metadata": {},
   "outputs": [
    {
     "data": {
      "text/plain": [
       "tensor([0.0182, 0.0116, 0.0343, 0.0327, 0.0500, 0.0450, 0.0310, 0.0246, 0.0716,\n",
       "        0.0350, 0.0222, 0.0254, 0.0380, 0.0562, 0.0424, 0.0464, 0.0213, 0.0406,\n",
       "        0.0439, 0.0571, 0.0661, 0.0300, 0.0173, 0.0346, 0.0396, 0.0377, 0.0272],\n",
       "       grad_fn=<SelectBackward0>)"
      ]
     },
     "execution_count": 157,
     "metadata": {},
     "output_type": "execute_result"
    }
   ],
   "source": [
    "probs[0]\n"
   ]
  },
  {
   "cell_type": "code",
   "execution_count": 158,
   "metadata": {},
   "outputs": [
    {
     "data": {
      "text/plain": [
       "tensor([ 0.0182,  0.0116,  0.0343,  0.0327,  0.0500,  0.0450,  0.0310,  0.0246,\n",
       "         0.0716,  0.0350,  0.0222,  0.0254,  0.0380,  0.0562, -0.9576,  0.0464,\n",
       "         0.0213,  0.0406,  0.0439,  0.0571,  0.0661,  0.0300,  0.0173,  0.0346,\n",
       "         0.0396,  0.0377,  0.0272], grad_fn=<MulBackward0>)"
      ]
     },
     "execution_count": 158,
     "metadata": {},
     "output_type": "execute_result"
    }
   ],
   "source": [
    "dlogits[0] * n\n"
   ]
  },
  {
   "cell_type": "code",
   "execution_count": 159,
   "metadata": {},
   "outputs": [
    {
     "data": {
      "text/plain": [
       "tensor(-6.0536e-09, grad_fn=<SumBackward0>)"
      ]
     },
     "execution_count": 159,
     "metadata": {},
     "output_type": "execute_result"
    }
   ],
   "source": [
    "dlogits[0].sum()\n"
   ]
  },
  {
   "attachments": {},
   "cell_type": "markdown",
   "metadata": {},
   "source": [
    "``dlogits`` rows sum to zero. Each gradient value in each row is like a force: we are pulling down on the probabilities of the incorrect characters, and we are pulling up the probability of the GT character. (Increasing the GT prob a tiny bit will decrease the loss quite a lot. Increasing any other probability increases the loss.) The amount of push and pull is equalized because the sum is zero. If our predicted probabilities were perfect, we would have 0 gradient, as it should be. The lower our GT prediction is, the more force we apply at the GT label location to increase that probability. The higher the probability is at incorrect indices, the more force we apply to pull it down.\n",
    "\n",
    "Exercise 3: Backpropagate through batch norm but all in one go. To complete this challenge, look at the mathematical expression of the output of batch norm, take the derivative wrt. its input, simplify the expression, and just write it out."
   ]
  },
  {
   "cell_type": "code",
   "execution_count": 160,
   "metadata": {},
   "outputs": [
    {
     "name": "stdout",
     "output_type": "stream",
     "text": [
      "Max diff: tensor(4.7684e-07, grad_fn=<MaxBackward1>)\n"
     ]
    }
   ],
   "source": [
    "# Forward pass:\n",
    "hidden_pre_activation_fast = (\n",
    "    bn_gain\n",
    "    * (hidden_pre_bn - hidden_pre_bn.mean(dim=0, keepdim=True))\n",
    "    / torch.sqrt(hidden_pre_bn.var(dim=0, keepdim=True, unbiased=True) + 1e-5)\n",
    "    + bn_bias\n",
    ")\n",
    "print(\"Max diff:\", (hidden_pre_activation - hidden_pre_activation_fast).abs().max())\n"
   ]
  },
  {
   "attachments": {},
   "cell_type": "markdown",
   "metadata": {},
   "source": [
    "Calculate ``dhidden_pre_bn`` given ``dhidden_pre_activation``, i.e., backpropagate through the batchnorm. You will also need to use some of the variables from the forward pass up above."
   ]
  },
  {
   "cell_type": "code",
   "execution_count": 161,
   "metadata": {},
   "outputs": [
    {
     "data": {
      "text/plain": [
       "torch.Size([32, 64])"
      ]
     },
     "execution_count": 161,
     "metadata": {},
     "output_type": "execute_result"
    }
   ],
   "source": [
    "hidden_pre_bn.shape\n"
   ]
  },
  {
   "attachments": {},
   "cell_type": "markdown",
   "metadata": {},
   "source": [
    "1. $\\mu = \\frac{1}{n}\\sum_{i = 1}^n x_i$\n",
    "\n",
    "2. $\\sigma^2 = \\frac{1}{n - 1} \\sum_{i = 1}^n (x_i - \\mu)^2$\n",
    "\n",
    "3. $\\hat{x}_i = \\frac{x_i - \\mu}{\\sqrt{\\sigma^2 + \\epsilon}}$\n",
    "\n",
    "4. $y_i = \\gamma \\hat{x}_i + \\beta$\n",
    "\n",
    "We know that\n",
    "$$\\frac{dL}{dx_i} =  \\sum_{j = 1}^n \\frac{dL}{dy_j} \\cdot \\frac{dy_j}{dx_i}.$$\n",
    "Here we assume that we already know the value of $\\frac{dL}{dy_j}$ from backprop, so we only have to calculate $\\frac{dy_j}{dx_i}$.\n",
    "$$\n",
    "\\begin{align*}\n",
    "\\frac{dy_j}{dx_i} &= \\frac{\\partial y_j}{\\partial \\hat{x}_j} \\cdot \\frac{\\partial \\hat{x}_j}{\\partial \\mu} \\cdot \\frac{\\partial \\mu}{\\partial x_i} + \\frac{\\partial y_j}{\\partial \\hat{x}_j} \\cdot \\frac{\\partial \\hat{x}_j}{\\partial \\sigma^2} \\cdot \\frac{\\partial \\sigma^2}{\\partial x_i} + \\frac{\\partial y_i}{\\partial \\hat{x}_j} \\cdot \\frac{\\partial \\hat{x}_j}{\\partial x_i}\\\\\n",
    "&= \\gamma \\left(\\frac{\\partial \\hat{x}_j}{\\partial \\mu} \\cdot \\frac{\\partial \\mu}{\\partial x_i} + \\frac{\\partial \\hat{x}_j}{\\partial \\sigma^2} \\cdot \\frac{\\partial \\sigma^2}{\\partial x_i} + \\frac{\\partial \\hat{x}_j}{\\partial x_i}\\right)\n",
    "\\end{align*}\n",
    "$$\n",
    "Let's calculate the terms in the paranthesis.\n",
    "$$\n",
    "\\begin{align*}\n",
    "\\frac{\\partial \\hat{x}_j}{\\partial \\mu} \\cdot \\frac{\\partial \\mu}{\\partial x_i} &= -\\frac{1}{\\sqrt{\\sigma^2 + \\epsilon}} \\cdot \\frac{1}{n}\\\\\n",
    "\\frac{\\partial \\hat{x}_j}{\\partial \\sigma^2} \\cdot \\frac{\\partial \\sigma^2}{\\partial x_i} &= -\\frac{1}{2}(x_j - \\mu)(\\sigma^2 + \\epsilon)^{-3/2} \\cdot \\frac{2}{n - 1}\\sum_{j = 1}^n (x_j - \\mu) \\cdot \\delta_{ij}\\\\\n",
    "&= -\\frac{1}{2}(x_j - \\mu)(\\sigma^2 + \\epsilon)^{-3/2} \\cdot \\frac{2}{n - 1}(x_i - \\mu)\\\\\n",
    "\\frac{\\partial \\hat{x}_j}{\\partial x_i} &= \\frac{1}{\\sqrt{\\sigma^2 + \\epsilon}}\\cdot \\delta_{ij}\n",
    "\\end{align*}\n",
    "$$\n",
    "Substituting in, we get\n",
    "$$\n",
    "\\begin{align*}\n",
    "\\frac{dy_j}{dx_i} &= \\gamma\\left(-\\frac{1}{\\sqrt{\\sigma^2 + \\epsilon}}\\cdot \\frac{1}{n} - \\frac{1}{2} (x_j - \\mu)(\\sigma^2 + \\epsilon)^{-3/2} \\cdot \\frac{2}{n - 1}(x_i - \\mu) + \\frac{1}{\\sqrt{\\sigma^2 + \\epsilon}}\\delta_{ij}\\right)\\\\\n",
    "&= \\gamma\\left(-\\frac{1}{n}\\frac{1}{\\sqrt{\\sigma^2 + \\epsilon}} - \\frac{1}{n - 1}\\frac{x_j - \\mu}{\\sqrt{\\sigma^2 + \\epsilon}} \\cdot \\frac{x_i - \\mu}{\\sqrt{\\sigma^2 + \\epsilon}} + \\frac{1}{\\sqrt{\\sigma^2 + \\epsilon}}\\delta_{ij}\\right).\n",
    "\\end{align*}\n",
    "$$\n",
    "Finally, we have\n",
    "$$\n",
    "\\begin{align*}\n",
    "\\frac{dL}{dx_i} &= \\sum_{j = 1}^n \\frac{dL}{dy_j} \\cdot \\gamma\\left(-\\frac{1}{n}\\frac{1}{\\sqrt{\\sigma^2 + \\epsilon}} - \\frac{1}{n - 1}\\frac{x_j - \\mu}{\\sqrt{\\sigma^2 + \\epsilon}} \\cdot \\frac{x_i - \\mu}{\\sqrt{\\sigma^2 + \\epsilon}} + \\frac{1}{\\sqrt{\\sigma^2 + \\epsilon}}\\delta_{ij}\\right)\\\\\n",
    "&= -\\frac{1}{n} \\frac{\\gamma}{\\sqrt{\\sigma^2 + \\epsilon}} \\left(\\sum_{j = 1}^n \\frac{dL}{dy_j} + \\frac{n}{n - 1} \\frac{x_i - \\mu}{\\sqrt{\\sigma^2 + \\epsilon}} \\sum_{j = 1}^n \\frac{dL}{dy_j} \\frac{x_j - \\mu}{\\sqrt{\\sigma^2 + \\epsilon}} - n\\frac{dL}{dy_i}\\right)\\\\\n",
    "&= \\frac{\\gamma (\\sigma^2 + \\epsilon)^{-1/2}}{n} \\left(n\\frac{dL}{dy_i} - \\sum_{j = 1}^n \\frac{dL}{dy_j} - \\frac{n}{n - 1} \\hat{x}_i \\sum_{j = 1}^n \\frac{dL}{dy_j}\\hat{x}_j\\right)\n",
    "\\end{align*}\n",
    "$$"
   ]
  },
  {
   "cell_type": "code",
   "execution_count": 162,
   "metadata": {},
   "outputs": [
    {
     "name": "stdout",
     "output_type": "stream",
     "text": [
      "hidden_pre_bn             | exact: False | approximate: True  | max_abs_diff: 9.313225746154785e-10\n"
     ]
    }
   ],
   "source": [
    "dhidden_pre_bn = (\n",
    "    bn_gain  # (1, dim_hidden)\n",
    "    * bn_std_inv  # (1, dim_hidden)\n",
    "    / n  # ()\n",
    "    * (\n",
    "        n * dhidden_pre_activation  # (32, dim_hidden)\n",
    "        - dhidden_pre_activation.sum(dim=0)  # (dim_hidden,)\n",
    "        - n\n",
    "        / (n - 1)\n",
    "        * bn_raw\n",
    "        * (dhidden_pre_activation * bn_raw).sum(dim=0)  # (32, dim_hidden)\n",
    "    )\n",
    ")  # (32, dim_hidden)\n",
    "\n",
    "cmp(\"hidden_pre_bn\", dhidden_pre_bn, hidden_pre_bn)\n"
   ]
  },
  {
   "attachments": {},
   "cell_type": "markdown",
   "metadata": {},
   "source": [
    "Exercise 4: putting it all together. Train the MLP neural net with your own backward pass."
   ]
  },
  {
   "cell_type": "code",
   "execution_count": 163,
   "metadata": {},
   "outputs": [
    {
     "name": "stdout",
     "output_type": "stream",
     "text": [
      "12297\n",
      "      0/ 200000: 3.7895\n",
      "  10000/ 200000: 2.1728\n",
      "  20000/ 200000: 2.4086\n",
      "  30000/ 200000: 2.4734\n",
      "  40000/ 200000: 1.9639\n",
      "  50000/ 200000: 2.3418\n",
      "  60000/ 200000: 2.4618\n",
      "  70000/ 200000: 2.0952\n",
      "  80000/ 200000: 2.3559\n",
      "  90000/ 200000: 2.1882\n",
      " 100000/ 200000: 1.8809\n",
      " 110000/ 200000: 2.3082\n",
      " 120000/ 200000: 1.9443\n",
      " 130000/ 200000: 2.4713\n",
      " 140000/ 200000: 2.2350\n",
      " 150000/ 200000: 2.1873\n",
      " 160000/ 200000: 1.9379\n",
      " 170000/ 200000: 1.8704\n",
      " 180000/ 200000: 2.0474\n",
      " 190000/ 200000: 1.9184\n"
     ]
    }
   ],
   "source": [
    "# Initialization\n",
    "dim_embedding = 10  # Dimensionality of the character embedding vectors\n",
    "dim_hidden = 200  # Number of neurons in the hidden layer of the MLP\n",
    "\n",
    "g = torch.Generator().manual_seed(2147483647)\n",
    "C = torch.randn(num_tokens, dim_embedding, generator=g)\n",
    "\n",
    "# Layer 1\n",
    "W1 = (\n",
    "    torch.randn(dim_embedding * block_size, dim_hidden, generator=g)\n",
    "    * (5 / 3)\n",
    "    / (dim_embedding * block_size) ** 0.5\n",
    ")\n",
    "b1 = torch.randn(dim_hidden, generator=g) * 0.1\n",
    "\n",
    "# Layer 2\n",
    "W2 = torch.randn(dim_hidden, num_tokens, generator=g) * 0.1\n",
    "b2 = torch.randn(num_tokens, generator=g) * 0.1\n",
    "\n",
    "# BatchNorm parameters\n",
    "bn_gain = torch.randn(1, dim_hidden) * 0.1 + 1\n",
    "bn_bias = torch.randn(1, dim_hidden) * 0.1\n",
    "\n",
    "parameters = [C, W1, b1, W2, b2, bn_gain, bn_bias]\n",
    "\n",
    "print(\n",
    "    sum(parameter.nelement() for parameter in parameters)\n",
    ")  # Total number of parameters\n",
    "\n",
    "# Same optimization as in the last notebook\n",
    "max_steps = 200000\n",
    "batch_size = 32\n",
    "n = batch_size  # For convenience\n",
    "loss_i = []\n",
    "\n",
    "# Optimization\n",
    "for i in range(max_steps):\n",
    "    # Construct mini-batch\n",
    "    idx = torch.randint(0, Xtr.shape[0], (batch_size,), generator=g)\n",
    "    Xb, Yb = Xtr[idx], Ytr[idx]  # Batch X, Y\n",
    "\n",
    "    # Forward pass\n",
    "    embedding = C[Xb]  # Embed the characters into vectors\n",
    "    embedding_cat = embedding.flatten(start_dim=1)  # Concatenate the contex\n",
    "\n",
    "    # Linear layer\n",
    "    hidden_pre_bn = embedding_cat @ W1 + b1\n",
    "\n",
    "    # BatchNorm layer\n",
    "    bn_mean = hidden_pre_bn.mean(dim=0, keepdim=True)\n",
    "    bn_var = hidden_pre_bn.var(dim=0, keepdim=True, unbiased=True)\n",
    "    bn_std_inv = (bn_var + 1e-5) ** -0.5\n",
    "    bn_raw = (hidden_pre_bn - bn_mean) * bn_std_inv\n",
    "    hidden_pre_activation = bn_gain * bn_raw + bn_bias\n",
    "\n",
    "    # Non-linearity\n",
    "    hidden_activation = torch.tanh(hidden_pre_activation)\n",
    "    logits = hidden_activation @ W2 + b2  # Output layer\n",
    "    loss = F.cross_entropy(logits, Yb)  # Loss function\n",
    "\n",
    "    # Backward pass -- manual backprop!  # swole_doge_meme\n",
    "    dlogits = 1 / n * (F.softmax(logits, dim=1) - F.one_hot(Yb, num_classes=logits.shape[1]))\n",
    "\n",
    "    dhidden_activation = (\n",
    "        dlogits @ W2.T\n",
    "    )  # (32, 27) @ (27, dim_hidden) = (32, dim_hidden)\n",
    "\n",
    "    dW2 = (\n",
    "        hidden_activation.T @ dlogits\n",
    "    )  # (dim_hidden, 32) @ (32, 27) = (dim_hidden, 27)\n",
    "\n",
    "    db2 = dlogits.sum(dim=0)  # (dim_hidden,)\n",
    "\n",
    "    dhidden_pre_activation = (\n",
    "        1 - hidden_activation**2\n",
    "    ) * dhidden_activation  # (32, dim_hidden)\n",
    "\n",
    "    dhidden_pre_bn = (\n",
    "        bn_gain  # (1, dim_hidden)\n",
    "        * bn_std_inv  # (1, dim_hidden)\n",
    "        / n  # ()\n",
    "        * (\n",
    "            n * dhidden_pre_activation  # (32, dim_hidden)\n",
    "            - dhidden_pre_activation.sum(dim=0)  # (dim_hidden,)\n",
    "            - n\n",
    "            / (n - 1)\n",
    "            * bn_raw\n",
    "            * (dhidden_pre_activation * bn_raw).sum(dim=0)  # (32, dim_hidden)\n",
    "        )\n",
    "    )  # (32, dim_hidden)\n",
    "\n",
    "    dbn_gain = (bn_raw * dhidden_pre_activation).sum(dim=0)  # (dim_hidden,)\n",
    "\n",
    "    dbn_bias = dhidden_pre_activation.sum(dim=0)  # (dim_hidden,)\n",
    "\n",
    "    dembedding_cat = dhidden_pre_bn @ W1.T\n",
    "    # (32, dim_hidden) @ (dim_hidden, dim_embedding * block_size)\n",
    "    # = (32, dim_embedding * block_size)\n",
    "\n",
    "    dW1 = embedding_cat.T @ dhidden_pre_bn\n",
    "    # (dim_embedding * block_size, 32) @ (32, dim_hidden)\n",
    "    # = dim_embedding * block_size, dim_hidden)\n",
    "\n",
    "    db1 = dhidden_pre_bn.sum(dim=0)  # (dim_hidden,)\n",
    "\n",
    "    dembedding = dembedding_cat.reshape(\n",
    "        embedding.shape\n",
    "    )  # (32, block_size, dim_embedding)\n",
    "\n",
    "    dC = torch.zeros_like(C)  # (num_tokens, dim_embedding)\n",
    "    for k in range(Xb.shape[0]):  # batch index\n",
    "        for l in range(Xb.shape[1]):  # context index\n",
    "            idx = Xb[k, l]\n",
    "            dC[idx] += dembedding[k, l]  # Accumulate gradients of tokens\n",
    "\n",
    "    grads = [dC, dW1, db1, dW2, db2, dbn_gain, dbn_bias]\n",
    "\n",
    "    # Update\n",
    "    learning_rate = 0.1 if i < 100000 else 0.01  # Step learning rate decay\n",
    "    for parameter, grad in zip(parameters, grads):\n",
    "        parameter.data -= learning_rate * grad  # New way of swole doge\n",
    "    \n",
    "    # Track stats\n",
    "    if i % 10000 == 0:\n",
    "        print(f\"{i:7d}/{max_steps:7d}: {loss.item():.4f}\")\n",
    "    loss_i.append(loss.log10().item())\n"
   ]
  },
  {
   "cell_type": "code",
   "execution_count": 164,
   "metadata": {},
   "outputs": [
    {
     "name": "stdout",
     "output_type": "stream",
     "text": [
      "train 2.0714423656463623\n",
      "val 2.1101531982421875\n"
     ]
    }
   ],
   "source": [
    "# Calibrate the batch norm at the end of training\n",
    "\n",
    "# Pass the training set through\n",
    "embedding = C[Xtr]\n",
    "embedding_cat = embedding.flatten(start_dim=1)\n",
    "hidden_pre_activation = embedding_cat @ W1 + b1\n",
    "# Measure the mean / std over the entire training set\n",
    "bn_mean = hidden_pre_activation.mean(dim=0, keepdim=True)\n",
    "bn_var = hidden_pre_activation.var(dim=0, keepdim=True, unbiased=True)\n",
    "\n",
    "# Evaluate train and val loss\n",
    "def split_loss(split: str) -> None:\n",
    "    x, y = {\n",
    "        \"train\": (Xtr, Ytr),\n",
    "        \"val\": (Xdev, Ydev),\n",
    "        \"test\": (Xte, Yte),\n",
    "    }[split]\n",
    "    embedding = C[x]  # (N, block_size, dim_embedding)\n",
    "    embedding_cat = embedding.flatten(start_dim=1)  # (N, block_size * dim_embedding)\n",
    "    hidden_pre_activation = embedding_cat @ W1 + b1\n",
    "    hidden_pre_activation = bn_gain * (hidden_pre_activation - bn_mean) * (bn_var + 1e-5)**-0.5 + bn_bias\n",
    "    hidden_activation = torch.tanh(hidden_pre_activation)  # (N, dim_hidden)\n",
    "    logits = hidden_activation @ W2 + b2  # (N, vocab_size)\n",
    "    loss = F.cross_entropy(logits, y)\n",
    "    print(split, loss.item())\n",
    "\n",
    "split_loss(\"train\")\n",
    "split_loss(\"val\")"
   ]
  },
  {
   "attachments": {},
   "cell_type": "markdown",
   "metadata": {},
   "source": [
    "This is basically the same result we obtained previously with ``.backward()``, but now we don't track any gradients automatically. We wrote backpropagation manually, and it works well! Let's sample from the model."
   ]
  },
  {
   "cell_type": "code",
   "execution_count": 165,
   "metadata": {},
   "outputs": [
    {
     "name": "stdout",
     "output_type": "stream",
     "text": [
      "carlah\n",
      "amille\n",
      "khyimrix\n",
      "taty\n",
      "skaessa\n",
      "jazonte\n",
      "delynn\n",
      "jareeigh\n",
      "kasia\n",
      "chaily\n",
      "kaleigh\n",
      "ham\n",
      "joce\n",
      "quint\n",
      "shoine\n",
      "liven\n",
      "corterra\n",
      "jarynix\n",
      "kaellinsley\n",
      "dae\n"
     ]
    }
   ],
   "source": [
    "g = torch.Generator().manual_seed(2147483657)\n",
    "\n",
    "for _ in range(20):\n",
    "    out = []\n",
    "    context = [0] * block_size  # Initialize with all ...\n",
    "    while True:\n",
    "        # Forward pass\n",
    "        embedding = C[context]  # (block_size, dim_embedding)\n",
    "        embedding_cat = embedding.flatten()  # (block_size * dim_embedding)\n",
    "        hidden_pre_activation = embedding_cat @ W1 + b1\n",
    "        hidden_pre_activation = bn_gain * (hidden_pre_activation - bn_mean) * (bn_var + 1e-5)**-0.5 + bn_bias\n",
    "        hidden_activation = torch.tanh(hidden_pre_activation)  # (dim_hidden,)\n",
    "        logits = hidden_activation @ W2 + b2  # (vocab_size,)\n",
    "\n",
    "        # Sample\n",
    "        probs = F.softmax(logits, dim=1)\n",
    "        idx = torch.multinomial(probs, num_samples=1, generator=g).item()\n",
    "        context = context[1:] + [idx]\n",
    "\n",
    "        if idx == 0:\n",
    "            break\n",
    "\n",
    "        out.append(idx)\n",
    "    \n",
    "    print(\"\".join(integer_to_string[i] for i in out))\n"
   ]
  },
  {
   "attachments": {},
   "cell_type": "markdown",
   "metadata": {},
   "source": [
    "That's a wrap!"
   ]
  }
 ],
 "metadata": {
  "kernelspec": {
   "display_name": "karpathy-nn-L00z48Da-py3.10",
   "language": "python",
   "name": "python3"
  },
  "language_info": {
   "codemirror_mode": {
    "name": "ipython",
    "version": 3
   },
   "file_extension": ".py",
   "mimetype": "text/x-python",
   "name": "python",
   "nbconvert_exporter": "python",
   "pygments_lexer": "ipython3",
   "version": "3.10.10"
  },
  "orig_nbformat": 4,
  "vscode": {
   "interpreter": {
    "hash": "1777287656d261b264802db79277cf28c62daaee414facac31cc4d9617e447f5"
   }
  }
 },
 "nbformat": 4,
 "nbformat_minor": 2
}
