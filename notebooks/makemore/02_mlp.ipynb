{
 "cells": [
  {
   "attachments": {},
   "cell_type": "markdown",
   "metadata": {},
   "source": [
    "In this notebook, we're going to implement an MLP to predict the next character in the sequence. This modelling approach follows the paper [Bengio et al. 2003](https://www.jmlr.org/papers/volume3/bengio03a/bengio03a.pdf). This isn't the first work that proposed the use of neural networks for word (!) level language modelling, but it was nevertheless a very influential paper. It's often cited to refer to this idea.\n",
    "- Each of the 17000 words is embedded into an, e.g., 30-dimensional feature space. So we have 17000 points in a 30-dimensional space.\n",
    "- In the beginning, the embeddings are initialized randomly. Then we tune the embeddings using backpropagation. Words that have a very similar meaning (or synonyms) will usually end up being very close in this space. Very different things will usually be far away in the embedding space.\n",
    "- To train the neural network, we can maximize the log-likelihood of the training data under our model. This is exactly what we did previously.\n",
    "\n",
    "Example:\n",
    "- Consider the sentence fragment \"A dog was running in a\". Suppose that it wasn't a part of the training data, and we only encounter it in deployment. However, the dataset might contain very similar phrases, like \"The dog was running in a\". If the network learned that \"a\" and \"the\" are very similar, it put them very close in the embedding space. We can exploit this to be able to correctly predict the next word in the deployment example, even though we have never seen it before. This sample is therefore not actually OOD, as we have seen very similar examples. We *transfer knowledge through the embedding*, and so generalize better.\n",
    "- The look-up table $C$ in the paper is a $17000 \\times 30$ matrix. This is shared over words, and we optimize it during training. The second layer of the network contains $3 \\times 30 = 90$ neurons. In the hidden layer, all neurons are fully connected to the previous 90 neurons. The output layer has 17000 neurons, all of which are fully connected to the hidden neurons. The outputs are 17000 logits. We apply the softmax function to get a valid probability distribution $p(\\text{next word} \\mid \\text{previous words})$. We want to maximize the likelihood of the true next work in the dataset, given the previous words in the dataset.\n"
   ]
  },
  {
   "cell_type": "code",
   "execution_count": 1,
   "metadata": {},
   "outputs": [],
   "source": [
    "import torch\n",
    "import torch.nn.functional as F\n",
    "from torch import Tensor\n",
    "import matplotlib.pyplot as plt\n",
    "from karpathy_nn.makemore.data.load_data import load_names\n",
    "from karpathy_nn.micrograd.utils import apply_random_seed\n",
    "import random\n"
   ]
  },
  {
   "cell_type": "code",
   "execution_count": null,
   "metadata": {},
   "outputs": [],
   "source": [
    "apply_random_seed(42)"
   ]
  },
  {
   "cell_type": "code",
   "execution_count": 2,
   "metadata": {},
   "outputs": [
    {
     "data": {
      "text/plain": [
       "['emma', 'olivia', 'ava', 'isabella', 'sophia', 'charlotte', 'mia', 'amelia']"
      ]
     },
     "execution_count": 2,
     "metadata": {},
     "output_type": "execute_result"
    }
   ],
   "source": [
    "words = load_names()\n",
    "words[:8]\n"
   ]
  },
  {
   "cell_type": "code",
   "execution_count": 3,
   "metadata": {},
   "outputs": [
    {
     "data": {
      "text/plain": [
       "32033"
      ]
     },
     "execution_count": 3,
     "metadata": {},
     "output_type": "execute_result"
    }
   ],
   "source": [
    "len(words)\n"
   ]
  },
  {
   "cell_type": "code",
   "execution_count": 4,
   "metadata": {},
   "outputs": [
    {
     "name": "stdout",
     "output_type": "stream",
     "text": [
      "{1: 'a', 2: 'b', 3: 'c', 4: 'd', 5: 'e', 6: 'f', 7: 'g', 8: 'h', 9: 'i', 10: 'j', 11: 'k', 12: 'l', 13: 'm', 14: 'n', 15: 'o', 16: 'p', 17: 'q', 18: 'r', 19: 's', 20: 't', 21: 'u', 22: 'v', 23: 'w', 24: 'x', 25: 'y', 26: 'z', 0: '.'}\n"
     ]
    }
   ],
   "source": [
    "# Build the vocabuilary of tokens and mappings to/from integers\n",
    "characters = sorted(list(set(\"\".join(words))))\n",
    "string_to_integer = {string: integer + 1 for integer, string in enumerate(characters)}\n",
    "string_to_integer[\".\"] = 0\n",
    "integer_to_string = {integer: string for string, integer in string_to_integer.items()}\n",
    "print(integer_to_string)\n"
   ]
  },
  {
   "cell_type": "code",
   "execution_count": 5,
   "metadata": {},
   "outputs": [
    {
     "name": "stdout",
     "output_type": "stream",
     "text": [
      "emma\n",
      "... ---> e\n",
      "..e ---> m\n",
      ".em ---> m\n",
      "emm ---> a\n",
      "mma ---> .\n",
      "olivia\n",
      "... ---> o\n",
      "..o ---> l\n",
      ".ol ---> i\n",
      "oli ---> v\n",
      "liv ---> i\n",
      "ivi ---> a\n",
      "via ---> .\n",
      "ava\n",
      "... ---> a\n",
      "..a ---> v\n",
      ".av ---> a\n",
      "ava ---> .\n",
      "isabella\n",
      "... ---> i\n",
      "..i ---> s\n",
      ".is ---> a\n",
      "isa ---> b\n",
      "sab ---> e\n",
      "abe ---> l\n",
      "bel ---> l\n",
      "ell ---> a\n",
      "lla ---> .\n",
      "sophia\n",
      "... ---> s\n",
      "..s ---> o\n",
      ".so ---> p\n",
      "sop ---> h\n",
      "oph ---> i\n",
      "phi ---> a\n",
      "hia ---> .\n"
     ]
    }
   ],
   "source": [
    "# Create the dataset\n",
    "block_size = (\n",
    "    3  # Context length: how many characters do we take to predict the next one?\n",
    ")\n",
    "X, Y = [], []\n",
    "for word in words[:5]:\n",
    "    print(word)\n",
    "    context = [0] * block_size\n",
    "    for character in word + \".\":\n",
    "        idx = string_to_integer[character]\n",
    "        X.append(context)\n",
    "        Y.append(idx)\n",
    "\n",
    "        print(\n",
    "            \"\".join(integer_to_string[i] for i in context),\n",
    "            \"--->\",\n",
    "            integer_to_string[idx],\n",
    "        )\n",
    "\n",
    "        context = context[1:] + [idx]  # Crop and append\n",
    "\n",
    "X = torch.tensor(X)\n",
    "Y = torch.tensor(Y)\n"
   ]
  },
  {
   "cell_type": "code",
   "execution_count": 6,
   "metadata": {},
   "outputs": [
    {
     "data": {
      "text/plain": [
       "(torch.Size([32, 3]), torch.int64, torch.Size([32]), torch.int64)"
      ]
     },
     "execution_count": 6,
     "metadata": {},
     "output_type": "execute_result"
    }
   ],
   "source": [
    "X.shape, X.dtype, Y.shape, Y.dtype\n"
   ]
  },
  {
   "attachments": {},
   "cell_type": "markdown",
   "metadata": {},
   "source": [
    "From the five words, we have created a dataset of 32 samples. Each input to the neural net is three integers, and we also have a label that is also an integer."
   ]
  },
  {
   "cell_type": "code",
   "execution_count": 7,
   "metadata": {},
   "outputs": [
    {
     "data": {
      "text/plain": [
       "tensor([[ 0,  0,  0],\n",
       "        [ 0,  0,  5],\n",
       "        [ 0,  5, 13],\n",
       "        [ 5, 13, 13],\n",
       "        [13, 13,  1],\n",
       "        [ 0,  0,  0],\n",
       "        [ 0,  0, 15],\n",
       "        [ 0, 15, 12],\n",
       "        [15, 12,  9],\n",
       "        [12,  9, 22],\n",
       "        [ 9, 22,  9],\n",
       "        [22,  9,  1],\n",
       "        [ 0,  0,  0],\n",
       "        [ 0,  0,  1],\n",
       "        [ 0,  1, 22],\n",
       "        [ 1, 22,  1],\n",
       "        [ 0,  0,  0],\n",
       "        [ 0,  0,  9],\n",
       "        [ 0,  9, 19],\n",
       "        [ 9, 19,  1],\n",
       "        [19,  1,  2],\n",
       "        [ 1,  2,  5],\n",
       "        [ 2,  5, 12],\n",
       "        [ 5, 12, 12],\n",
       "        [12, 12,  1],\n",
       "        [ 0,  0,  0],\n",
       "        [ 0,  0, 19],\n",
       "        [ 0, 19, 15],\n",
       "        [19, 15, 16],\n",
       "        [15, 16,  8],\n",
       "        [16,  8,  9],\n",
       "        [ 8,  9,  1]])"
      ]
     },
     "execution_count": 7,
     "metadata": {},
     "output_type": "execute_result"
    }
   ],
   "source": [
    "X\n"
   ]
  },
  {
   "cell_type": "code",
   "execution_count": 8,
   "metadata": {},
   "outputs": [
    {
     "data": {
      "text/plain": [
       "tensor([ 5, 13, 13,  1,  0, 15, 12,  9, 22,  9,  1,  0,  1, 22,  1,  0,  9, 19,\n",
       "         1,  2,  5, 12, 12,  1,  0, 19, 15, 16,  8,  9,  1,  0])"
      ]
     },
     "execution_count": 8,
     "metadata": {},
     "output_type": "execute_result"
    }
   ],
   "source": [
    "Y\n"
   ]
  },
  {
   "cell_type": "code",
   "execution_count": 9,
   "metadata": {},
   "outputs": [
    {
     "data": {
      "text/plain": [
       "tensor([[ 0.3398,  0.6858],\n",
       "        [ 0.1480, -0.3134],\n",
       "        [-0.6270, -0.9299],\n",
       "        [-0.6622,  0.6997],\n",
       "        [-1.4983,  0.6663],\n",
       "        [ 0.6198, -0.7637],\n",
       "        [ 0.0102, -2.0646],\n",
       "        [-0.7267, -0.0279],\n",
       "        [ 0.5047, -1.3677],\n",
       "        [-0.8804, -0.1790],\n",
       "        [ 1.6936, -0.1093],\n",
       "        [ 0.0030,  0.1864],\n",
       "        [-1.2437,  0.6344],\n",
       "        [ 1.1227,  2.2106],\n",
       "        [-0.9022,  0.5803],\n",
       "        [ 0.9917,  0.0331],\n",
       "        [ 0.4016, -0.8094],\n",
       "        [ 0.3880, -0.4660],\n",
       "        [-0.8894,  0.2483],\n",
       "        [ 0.3130, -0.6143],\n",
       "        [-1.3125, -0.8157],\n",
       "        [-0.3948,  1.4741],\n",
       "        [ 1.8541,  1.4140],\n",
       "        [-0.7321, -1.2655],\n",
       "        [ 0.1353, -2.1952],\n",
       "        [ 0.4138,  0.5221],\n",
       "        [ 1.7441, -0.2574]])"
      ]
     },
     "execution_count": 9,
     "metadata": {},
     "output_type": "execute_result"
    }
   ],
   "source": [
    "C = torch.randn(27, 2)\n",
    "C\n"
   ]
  },
  {
   "cell_type": "code",
   "execution_count": 10,
   "metadata": {},
   "outputs": [
    {
     "data": {
      "text/plain": [
       "tensor([ 0.6198, -0.7637])"
      ]
     },
     "execution_count": 10,
     "metadata": {},
     "output_type": "execute_result"
    }
   ],
   "source": [
    "F.one_hot(\n",
    "    torch.tensor(5), num_classes=len(integer_to_string)\n",
    ").float() @ C  # First layer of our MLP\n"
   ]
  },
  {
   "cell_type": "code",
   "execution_count": 11,
   "metadata": {},
   "outputs": [
    {
     "data": {
      "text/plain": [
       "tensor([ 0.6198, -0.7637])"
      ]
     },
     "execution_count": 11,
     "metadata": {},
     "output_type": "execute_result"
    }
   ],
   "source": [
    "C[5]\n"
   ]
  },
  {
   "cell_type": "code",
   "execution_count": 12,
   "metadata": {},
   "outputs": [
    {
     "data": {
      "text/plain": [
       "torch.Size([32, 3, 2])"
      ]
     },
     "execution_count": 12,
     "metadata": {},
     "output_type": "execute_result"
    }
   ],
   "source": [
    "C[X].shape\n"
   ]
  },
  {
   "cell_type": "code",
   "execution_count": 13,
   "metadata": {},
   "outputs": [
    {
     "data": {
      "text/plain": [
       "tensor([ 0.1480, -0.3134])"
      ]
     },
     "execution_count": 13,
     "metadata": {},
     "output_type": "execute_result"
    }
   ],
   "source": [
    "C[X][13, 2]\n"
   ]
  },
  {
   "cell_type": "code",
   "execution_count": 14,
   "metadata": {},
   "outputs": [
    {
     "data": {
      "text/plain": [
       "tensor(1)"
      ]
     },
     "execution_count": 14,
     "metadata": {},
     "output_type": "execute_result"
    }
   ],
   "source": [
    "X[13, 2]\n"
   ]
  },
  {
   "cell_type": "code",
   "execution_count": 15,
   "metadata": {},
   "outputs": [
    {
     "data": {
      "text/plain": [
       "tensor([ 0.1480, -0.3134])"
      ]
     },
     "execution_count": 15,
     "metadata": {},
     "output_type": "execute_result"
    }
   ],
   "source": [
    "C[1]\n"
   ]
  },
  {
   "cell_type": "code",
   "execution_count": 16,
   "metadata": {},
   "outputs": [
    {
     "data": {
      "text/plain": [
       "torch.Size([32, 3, 2])"
      ]
     },
     "execution_count": 16,
     "metadata": {},
     "output_type": "execute_result"
    }
   ],
   "source": [
    "emb = C[X]\n",
    "emb.shape\n"
   ]
  },
  {
   "cell_type": "code",
   "execution_count": 17,
   "metadata": {},
   "outputs": [
    {
     "name": "stdout",
     "output_type": "stream",
     "text": [
      "tensor([[-1.7304, -2.7130,  0.1615,  ..., -0.6084,  1.4205, -1.8027],\n",
      "        [-1.5892, -1.6765, -0.1116,  ..., -2.1646, -0.0938, -1.3554],\n",
      "        [ 0.9889, -3.2672,  1.0578,  ...,  4.3039,  0.9977, -5.0346],\n",
      "        ...,\n",
      "        [-0.0108, -0.4739, -0.3908,  ..., -1.1756, -1.0889, -2.0041],\n",
      "        [-1.1517,  0.1845, -1.0980,  ...,  0.1680,  1.0027, -0.8978],\n",
      "        [-1.3889, -0.8312,  0.5669,  ...,  0.0074, -0.1572,  0.1354]])\n",
      "tensor([[-1.7304, -2.7130,  0.1615,  ..., -0.6084,  1.4205, -1.8027],\n",
      "        [-1.5892, -1.6765, -0.1116,  ..., -2.1646, -0.0938, -1.3554],\n",
      "        [ 0.9889, -3.2672,  1.0578,  ...,  4.3039,  0.9977, -5.0346],\n",
      "        ...,\n",
      "        [-0.0108, -0.4739, -0.3908,  ..., -1.1756, -1.0889, -2.0041],\n",
      "        [-1.1517,  0.1845, -1.0980,  ...,  0.1680,  1.0027, -0.8978],\n",
      "        [-1.3889, -0.8312,  0.5669,  ...,  0.0074, -0.1572,  0.1354]])\n",
      "tensor([[-1.7304, -2.7130,  0.1615,  ..., -0.6084,  1.4205, -1.8027],\n",
      "        [-1.5892, -1.6765, -0.1116,  ..., -2.1646, -0.0938, -1.3554],\n",
      "        [ 0.9889, -3.2672,  1.0578,  ...,  4.3039,  0.9977, -5.0346],\n",
      "        ...,\n",
      "        [-0.0108, -0.4739, -0.3908,  ..., -1.1756, -1.0889, -2.0041],\n",
      "        [-1.1517,  0.1845, -1.0980,  ...,  0.1680,  1.0027, -0.8978],\n",
      "        [-1.3889, -0.8312,  0.5669,  ...,  0.0074, -0.1572,  0.1354]])\n"
     ]
    }
   ],
   "source": [
    "W1 = torch.randn(6, 100)\n",
    "b1 = torch.randn(100)\n",
    "\n",
    "print(emb.flatten(start_dim=1) @ W1 + b1)\n",
    "# Creates a new tensor, very inefficient (there is no way to concatenate\n",
    "# tensors just by manipulating the view attributes)\n",
    "print(torch.cat(torch.unbind(emb, dim=1), dim=1) @ W1 + b1)\n",
    "print(emb.view(-1, 6) @ W1 + b1)\n"
   ]
  },
  {
   "cell_type": "code",
   "execution_count": 18,
   "metadata": {},
   "outputs": [
    {
     "data": {
      "text/plain": [
       "tensor([ 0,  1,  2,  3,  4,  5,  6,  7,  8,  9, 10, 11, 12, 13, 14, 15, 16, 17])"
      ]
     },
     "execution_count": 18,
     "metadata": {},
     "output_type": "execute_result"
    }
   ],
   "source": [
    "a = torch.arange(18)\n",
    "a\n"
   ]
  },
  {
   "cell_type": "code",
   "execution_count": 19,
   "metadata": {},
   "outputs": [
    {
     "data": {
      "text/plain": [
       "torch.Size([18])"
      ]
     },
     "execution_count": 19,
     "metadata": {},
     "output_type": "execute_result"
    }
   ],
   "source": [
    "a.shape\n"
   ]
  },
  {
   "cell_type": "code",
   "execution_count": 20,
   "metadata": {},
   "outputs": [
    {
     "data": {
      "text/plain": [
       "tensor([[ 0,  1,  2,  3,  4,  5,  6,  7,  8],\n",
       "        [ 9, 10, 11, 12, 13, 14, 15, 16, 17]])"
      ]
     },
     "execution_count": 20,
     "metadata": {},
     "output_type": "execute_result"
    }
   ],
   "source": [
    "a.view(2, 9)\n"
   ]
  },
  {
   "cell_type": "code",
   "execution_count": 21,
   "metadata": {},
   "outputs": [
    {
     "data": {
      "text/plain": [
       " 0\n",
       " 1\n",
       " 2\n",
       " 3\n",
       " 4\n",
       " 5\n",
       " 6\n",
       " 7\n",
       " 8\n",
       " 9\n",
       " 10\n",
       " 11\n",
       " 12\n",
       " 13\n",
       " 14\n",
       " 15\n",
       " 16\n",
       " 17\n",
       "[torch.storage.TypedStorage(dtype=torch.int64, device=cpu) of size 18]"
      ]
     },
     "execution_count": 21,
     "metadata": {},
     "output_type": "execute_result"
    }
   ],
   "source": [
    "a.storage()  # Always a 1D vector\n",
    "# .view() just changes how the storage is interpreted as a tensor.\n",
    "# No memory is being copied.\n"
   ]
  },
  {
   "cell_type": "code",
   "execution_count": 22,
   "metadata": {},
   "outputs": [
    {
     "data": {
      "text/plain": [
       "tensor([[-0.9391, -0.9912,  0.1601,  ..., -0.5430,  0.8897, -0.9471],\n",
       "        [-0.9200, -0.9324, -0.1111,  ..., -0.9740, -0.0935, -0.8753],\n",
       "        [ 0.7569, -0.9971,  0.7848,  ...,  0.9996,  0.7606, -0.9999],\n",
       "        ...,\n",
       "        [-0.0108, -0.4414, -0.3721,  ..., -0.8261, -0.7965, -0.9643],\n",
       "        [-0.8183,  0.1824, -0.7998,  ...,  0.1664,  0.7627, -0.7152],\n",
       "        [-0.8829, -0.6811,  0.5131,  ...,  0.0074, -0.1560,  0.1346]])"
      ]
     },
     "execution_count": 22,
     "metadata": {},
     "output_type": "execute_result"
    }
   ],
   "source": [
    "h = torch.tanh(emb.flatten(start_dim=1) @ W1 + b1)\n",
    "h\n"
   ]
  },
  {
   "cell_type": "code",
   "execution_count": 23,
   "metadata": {},
   "outputs": [
    {
     "data": {
      "text/plain": [
       "torch.Size([32, 27])"
      ]
     },
     "execution_count": 23,
     "metadata": {},
     "output_type": "execute_result"
    }
   ],
   "source": [
    "# Final layer\n",
    "W2 = torch.randn(100, len(integer_to_string))\n",
    "b2 = torch.randn(len(integer_to_string))\n",
    "\n",
    "logits = h @ W2 + b2\n",
    "logits.shape\n"
   ]
  },
  {
   "cell_type": "code",
   "execution_count": 24,
   "metadata": {},
   "outputs": [
    {
     "data": {
      "text/plain": [
       "torch.Size([32, 27])"
      ]
     },
     "execution_count": 24,
     "metadata": {},
     "output_type": "execute_result"
    }
   ],
   "source": [
    "counts = logits.exp()\n",
    "prob = counts / counts.sum(dim=1, keepdims=True)\n",
    "prob.shape\n"
   ]
  },
  {
   "cell_type": "code",
   "execution_count": 25,
   "metadata": {},
   "outputs": [
    {
     "data": {
      "text/plain": [
       "tensor(13.3340)"
      ]
     },
     "execution_count": 25,
     "metadata": {},
     "output_type": "execute_result"
    }
   ],
   "source": [
    "loss = -prob[torch.arange(prob.shape[0]), Y].log().mean()\n",
    "loss\n"
   ]
  },
  {
   "cell_type": "code",
   "execution_count": 26,
   "metadata": {},
   "outputs": [
    {
     "name": "stdout",
     "output_type": "stream",
     "text": [
      "3481\n"
     ]
    },
    {
     "data": {
      "text/plain": [
       "tensor(17.7697, grad_fn=<NegBackward0>)"
      ]
     },
     "execution_count": 26,
     "metadata": {},
     "output_type": "execute_result"
    }
   ],
   "source": [
    "# Single cell that contains everything\n",
    "g = torch.Generator().manual_seed(2147483647)  # For reproducibility\n",
    "C = torch.randn(len(integer_to_string), 2, generator=g, requires_grad=True)\n",
    "W1 = torch.randn(6, 100, generator=g, requires_grad=True)\n",
    "b1 = torch.randn(100, generator=g, requires_grad=True)\n",
    "W2 = torch.randn(100, len(integer_to_string), generator=g, requires_grad=True)\n",
    "b2 = torch.randn(len(integer_to_string), generator=g, requires_grad=True)\n",
    "parameters = [C, W1, b1, W2, b2]\n",
    "\n",
    "# Number of parameters in total\n",
    "print(sum(param.nelement() for param in parameters))\n",
    "\n",
    "emb = C[X]  # (batch_size, 3, 2) -- embedded context for each sample\n",
    "h = torch.tanh(emb.flatten(start_dim=1) @ W1 + b1)  # (32, 100)\n",
    "logits = h @ W2 + b2  # (32, len(integer_to_string))\n",
    "counts = logits.exp()\n",
    "prob = counts / counts.sum(dim=1, keepdims=True)\n",
    "loss = -prob[torch.arange(32), Y].log().mean()\n",
    "loss\n"
   ]
  },
  {
   "cell_type": "code",
   "execution_count": 27,
   "metadata": {},
   "outputs": [
    {
     "data": {
      "text/plain": [
       "tensor(17.7697, grad_fn=<NllLossBackward0>)"
      ]
     },
     "execution_count": 27,
     "metadata": {},
     "output_type": "execute_result"
    }
   ],
   "source": [
    "F.cross_entropy(logits, Y)\n"
   ]
  },
  {
   "attachments": {},
   "cell_type": "markdown",
   "metadata": {},
   "source": [
    "``F.cross_entropy`` is much more efficient (no intermediate tensors) and much more numerically stable (maximum subtracted).\n",
    "- PyTorch clusters up all of these operations and has fused kernels that very efficiently evaluates the expression. (Forward prop efficient)\n",
    "- PyTorch also doesn't backpropagate through these individual steps: there is a simple form for the gradient of the entire cross-entropy function that can be used directly. (Backward prop efficient)"
   ]
  },
  {
   "cell_type": "code",
   "execution_count": 28,
   "metadata": {},
   "outputs": [
    {
     "name": "stdout",
     "output_type": "stream",
     "text": [
      "Final loss = 0.2561368942260742\n"
     ]
    }
   ],
   "source": [
    "def forward(X: Tensor, Y: Tensor, parameters: list[Tensor]) -> Tensor:\n",
    "    C, W1, b1, W2, b2 = parameters\n",
    "    emb = C[X]\n",
    "    h = torch.tanh(emb.flatten(start_dim=1) @ W1 + b1)\n",
    "    logits = h @ W2 + b2\n",
    "    loss = F.cross_entropy(logits, Y)\n",
    "\n",
    "    return loss\n",
    "\n",
    "\n",
    "def train(\n",
    "    num_steps: int,\n",
    "    learning_rate: float,\n",
    "    X: Tensor,\n",
    "    Y: Tensor,\n",
    "    parameters: list[Tensor],\n",
    "    verbose: bool = True,\n",
    ") -> None:\n",
    "    for step in range(num_steps):\n",
    "        loss = forward(X, Y, parameters)\n",
    "\n",
    "        if verbose:\n",
    "            print(f\"Step {step}: loss = {loss.item()}\")\n",
    "\n",
    "        for param in parameters:\n",
    "            param.grad = None\n",
    "\n",
    "        loss.backward()\n",
    "\n",
    "        # Backward pass\n",
    "        for param in parameters:\n",
    "            param.data -= learning_rate * param.grad\n",
    "\n",
    "    if not verbose:\n",
    "        print(f\"Final loss = {loss.item()}\")\n",
    "\n",
    "\n",
    "train(num_steps=1000, learning_rate=0.1, X=X, Y=Y, parameters=parameters, verbose=False)\n"
   ]
  },
  {
   "attachments": {},
   "cell_type": "markdown",
   "metadata": {},
   "source": [
    "Note that we are only overfitting 32 samples. It is very easy to make the neural network fit to this single batch.\n",
    "\n",
    "Why can't we achieve 0 loss? Because we have mixed supervision in our dataset:\n",
    "- ... -> e\n",
    "- ... -> o\n",
    "- ... -> a\n",
    "- ... -> s\n",
    "\n",
    "For inputs without mixed supervision, we recover the exact correct output."
   ]
  },
  {
   "cell_type": "code",
   "execution_count": 29,
   "metadata": {},
   "outputs": [],
   "source": [
    "def create_dataset(\n",
    "    words: list[str], string_to_integer: dict[str, int], block_size: int = 3\n",
    ") -> tuple[Tensor, Tensor]:\n",
    "    X, Y = [], []\n",
    "    for word in words:\n",
    "        context = [0] * block_size\n",
    "        for character in word + \".\":\n",
    "            idx = string_to_integer[character]\n",
    "            X.append(context)\n",
    "            Y.append(idx)\n",
    "\n",
    "            context = context[1:] + [idx]\n",
    "\n",
    "    X = torch.tensor(X)\n",
    "    Y = torch.tensor(Y)\n",
    "\n",
    "    return X, Y\n",
    "\n",
    "\n",
    "def initialize_parameters(num_tokens: int) -> list[Tensor]:\n",
    "    g = torch.Generator().manual_seed(2147483647)\n",
    "    C = torch.randn(num_tokens, 2, generator=g, requires_grad=True)\n",
    "    W1 = torch.randn(6, 100, generator=g, requires_grad=True)\n",
    "    b1 = torch.randn(100, generator=g, requires_grad=True)\n",
    "    W2 = torch.randn(100, num_tokens, generator=g, requires_grad=True)\n",
    "    b2 = torch.randn(num_tokens, generator=g, requires_grad=True)\n",
    "\n",
    "    return [C, W1, b1, W2, b2]\n"
   ]
  },
  {
   "cell_type": "code",
   "execution_count": 30,
   "metadata": {},
   "outputs": [
    {
     "name": "stdout",
     "output_type": "stream",
     "text": [
      "Step 0: loss = 19.505229949951172\n",
      "Step 1: loss = 17.08449363708496\n",
      "Step 2: loss = 15.776531219482422\n",
      "Step 3: loss = 14.83333683013916\n",
      "Step 4: loss = 14.002594947814941\n",
      "Step 5: loss = 13.253252029418945\n",
      "Step 6: loss = 12.579911231994629\n",
      "Step 7: loss = 11.9830961227417\n",
      "Step 8: loss = 11.470490455627441\n",
      "Step 9: loss = 11.051854133605957\n",
      "Step 10: loss = 10.709585189819336\n",
      "Step 11: loss = 10.407631874084473\n",
      "Step 12: loss = 10.127808570861816\n",
      "Step 13: loss = 9.864364624023438\n",
      "Step 14: loss = 9.61450481414795\n",
      "Step 15: loss = 9.376440048217773\n",
      "Step 16: loss = 9.148946762084961\n",
      "Step 17: loss = 8.931111335754395\n",
      "Step 18: loss = 8.722232818603516\n",
      "Step 19: loss = 8.521750450134277\n"
     ]
    }
   ],
   "source": [
    "X, Y = create_dataset(words, string_to_integer)\n",
    "parameters = initialize_parameters(num_tokens=len(string_to_integer))\n",
    "train(num_steps=20, learning_rate=0.1, X=X, Y=Y, parameters=parameters)\n"
   ]
  },
  {
   "attachments": {},
   "cell_type": "markdown",
   "metadata": {},
   "source": [
    "Let's break up our dataset into mini-batches."
   ]
  },
  {
   "cell_type": "code",
   "execution_count": 31,
   "metadata": {},
   "outputs": [],
   "source": [
    "def forward(\n",
    "    X: Tensor, Y: Tensor, parameters: list[Tensor], batch_size: int = 512\n",
    ") -> Tensor:\n",
    "    C, W1, b1, W2, b2 = parameters\n",
    "\n",
    "    if batch_size == len(X):\n",
    "        X_batch = X\n",
    "        Y_batch = Y\n",
    "    else:\n",
    "        indices = torch.randint(0, X.shape[0], (batch_size,))\n",
    "        X_batch = X[indices]\n",
    "        Y_batch = Y[indices]\n",
    "    emb = C[X_batch]\n",
    "    h = torch.tanh(emb.flatten(start_dim=1) @ W1 + b1)\n",
    "    logits = h @ W2 + b2\n",
    "    loss = F.cross_entropy(logits, Y_batch)\n",
    "\n",
    "    return loss\n"
   ]
  },
  {
   "cell_type": "code",
   "execution_count": 32,
   "metadata": {},
   "outputs": [
    {
     "name": "stdout",
     "output_type": "stream",
     "text": [
      "Final loss = 2.655564785003662\n"
     ]
    }
   ],
   "source": [
    "X, Y = create_dataset(words, string_to_integer)\n",
    "parameters = initialize_parameters(num_tokens=len(string_to_integer))\n",
    "train(num_steps=1000, learning_rate=0.1, X=X, Y=Y, parameters=parameters, verbose=False)\n"
   ]
  },
  {
   "attachments": {},
   "cell_type": "markdown",
   "metadata": {},
   "source": [
    "As we are dealing with mini-batches, the quality of our gradient is lower. These are not the gradients over the entire dataset, only a small subset of it. But it is good enough to be useful, and it makes training very fast. It is much better to have an approximate gradient and make many steps than it is to evaluate the exact gradient and take fewer steps. Matter of fact, the noise stochastic gradient descent introduces can help in achieving better test accuracy."
   ]
  },
  {
   "attachments": {},
   "cell_type": "markdown",
   "metadata": {},
   "source": [
    "### Searching for a good learning rate"
   ]
  },
  {
   "cell_type": "code",
   "execution_count": 33,
   "metadata": {},
   "outputs": [
    {
     "data": {
      "text/plain": [
       "tensor([0.0010, 0.0010, 0.0010, 0.0010, 0.0010, 0.0010, 0.0010, 0.0010, 0.0011,\n",
       "        0.0011, 0.0011, 0.0011, 0.0011, 0.0011, 0.0011, 0.0011, 0.0011, 0.0011,\n",
       "        0.0011, 0.0011, 0.0011, 0.0012, 0.0012, 0.0012, 0.0012, 0.0012, 0.0012,\n",
       "        0.0012, 0.0012, 0.0012, 0.0012, 0.0012, 0.0012, 0.0013, 0.0013, 0.0013,\n",
       "        0.0013, 0.0013, 0.0013, 0.0013, 0.0013, 0.0013, 0.0013, 0.0013, 0.0014,\n",
       "        0.0014, 0.0014, 0.0014, 0.0014, 0.0014, 0.0014, 0.0014, 0.0014, 0.0014,\n",
       "        0.0015, 0.0015, 0.0015, 0.0015, 0.0015, 0.0015, 0.0015, 0.0015, 0.0015,\n",
       "        0.0015, 0.0016, 0.0016, 0.0016, 0.0016, 0.0016, 0.0016, 0.0016, 0.0016,\n",
       "        0.0016, 0.0017, 0.0017, 0.0017, 0.0017, 0.0017, 0.0017, 0.0017, 0.0017,\n",
       "        0.0018, 0.0018, 0.0018, 0.0018, 0.0018, 0.0018, 0.0018, 0.0018, 0.0019,\n",
       "        0.0019, 0.0019, 0.0019, 0.0019, 0.0019, 0.0019, 0.0019, 0.0020, 0.0020,\n",
       "        0.0020, 0.0020, 0.0020, 0.0020, 0.0020, 0.0021, 0.0021, 0.0021, 0.0021,\n",
       "        0.0021, 0.0021, 0.0021, 0.0022, 0.0022, 0.0022, 0.0022, 0.0022, 0.0022,\n",
       "        0.0022, 0.0023, 0.0023, 0.0023, 0.0023, 0.0023, 0.0023, 0.0024, 0.0024,\n",
       "        0.0024, 0.0024, 0.0024, 0.0024, 0.0025, 0.0025, 0.0025, 0.0025, 0.0025,\n",
       "        0.0025, 0.0026, 0.0026, 0.0026, 0.0026, 0.0026, 0.0027, 0.0027, 0.0027,\n",
       "        0.0027, 0.0027, 0.0027, 0.0028, 0.0028, 0.0028, 0.0028, 0.0028, 0.0029,\n",
       "        0.0029, 0.0029, 0.0029, 0.0029, 0.0030, 0.0030, 0.0030, 0.0030, 0.0030,\n",
       "        0.0031, 0.0031, 0.0031, 0.0031, 0.0032, 0.0032, 0.0032, 0.0032, 0.0032,\n",
       "        0.0033, 0.0033, 0.0033, 0.0033, 0.0034, 0.0034, 0.0034, 0.0034, 0.0034,\n",
       "        0.0035, 0.0035, 0.0035, 0.0035, 0.0036, 0.0036, 0.0036, 0.0036, 0.0037,\n",
       "        0.0037, 0.0037, 0.0037, 0.0038, 0.0038, 0.0038, 0.0039, 0.0039, 0.0039,\n",
       "        0.0039, 0.0040, 0.0040, 0.0040, 0.0040, 0.0041, 0.0041, 0.0041, 0.0042,\n",
       "        0.0042, 0.0042, 0.0042, 0.0043, 0.0043, 0.0043, 0.0044, 0.0044, 0.0044,\n",
       "        0.0045, 0.0045, 0.0045, 0.0045, 0.0046, 0.0046, 0.0046, 0.0047, 0.0047,\n",
       "        0.0047, 0.0048, 0.0048, 0.0048, 0.0049, 0.0049, 0.0049, 0.0050, 0.0050,\n",
       "        0.0050, 0.0051, 0.0051, 0.0051, 0.0052, 0.0052, 0.0053, 0.0053, 0.0053,\n",
       "        0.0054, 0.0054, 0.0054, 0.0055, 0.0055, 0.0056, 0.0056, 0.0056, 0.0057,\n",
       "        0.0057, 0.0058, 0.0058, 0.0058, 0.0059, 0.0059, 0.0060, 0.0060, 0.0060,\n",
       "        0.0061, 0.0061, 0.0062, 0.0062, 0.0062, 0.0063, 0.0063, 0.0064, 0.0064,\n",
       "        0.0065, 0.0065, 0.0066, 0.0066, 0.0067, 0.0067, 0.0067, 0.0068, 0.0068,\n",
       "        0.0069, 0.0069, 0.0070, 0.0070, 0.0071, 0.0071, 0.0072, 0.0072, 0.0073,\n",
       "        0.0073, 0.0074, 0.0074, 0.0075, 0.0075, 0.0076, 0.0076, 0.0077, 0.0077,\n",
       "        0.0078, 0.0079, 0.0079, 0.0080, 0.0080, 0.0081, 0.0081, 0.0082, 0.0082,\n",
       "        0.0083, 0.0084, 0.0084, 0.0085, 0.0085, 0.0086, 0.0086, 0.0087, 0.0088,\n",
       "        0.0088, 0.0089, 0.0090, 0.0090, 0.0091, 0.0091, 0.0092, 0.0093, 0.0093,\n",
       "        0.0094, 0.0095, 0.0095, 0.0096, 0.0097, 0.0097, 0.0098, 0.0099, 0.0099,\n",
       "        0.0100, 0.0101, 0.0101, 0.0102, 0.0103, 0.0104, 0.0104, 0.0105, 0.0106,\n",
       "        0.0106, 0.0107, 0.0108, 0.0109, 0.0109, 0.0110, 0.0111, 0.0112, 0.0112,\n",
       "        0.0113, 0.0114, 0.0115, 0.0116, 0.0116, 0.0117, 0.0118, 0.0119, 0.0120,\n",
       "        0.0121, 0.0121, 0.0122, 0.0123, 0.0124, 0.0125, 0.0126, 0.0127, 0.0127,\n",
       "        0.0128, 0.0129, 0.0130, 0.0131, 0.0132, 0.0133, 0.0134, 0.0135, 0.0136,\n",
       "        0.0137, 0.0137, 0.0138, 0.0139, 0.0140, 0.0141, 0.0142, 0.0143, 0.0144,\n",
       "        0.0145, 0.0146, 0.0147, 0.0148, 0.0149, 0.0150, 0.0151, 0.0152, 0.0154,\n",
       "        0.0155, 0.0156, 0.0157, 0.0158, 0.0159, 0.0160, 0.0161, 0.0162, 0.0163,\n",
       "        0.0165, 0.0166, 0.0167, 0.0168, 0.0169, 0.0170, 0.0171, 0.0173, 0.0174,\n",
       "        0.0175, 0.0176, 0.0178, 0.0179, 0.0180, 0.0181, 0.0182, 0.0184, 0.0185,\n",
       "        0.0186, 0.0188, 0.0189, 0.0190, 0.0192, 0.0193, 0.0194, 0.0196, 0.0197,\n",
       "        0.0198, 0.0200, 0.0201, 0.0202, 0.0204, 0.0205, 0.0207, 0.0208, 0.0210,\n",
       "        0.0211, 0.0212, 0.0214, 0.0215, 0.0217, 0.0218, 0.0220, 0.0221, 0.0223,\n",
       "        0.0225, 0.0226, 0.0228, 0.0229, 0.0231, 0.0232, 0.0234, 0.0236, 0.0237,\n",
       "        0.0239, 0.0241, 0.0242, 0.0244, 0.0246, 0.0247, 0.0249, 0.0251, 0.0253,\n",
       "        0.0254, 0.0256, 0.0258, 0.0260, 0.0261, 0.0263, 0.0265, 0.0267, 0.0269,\n",
       "        0.0271, 0.0273, 0.0274, 0.0276, 0.0278, 0.0280, 0.0282, 0.0284, 0.0286,\n",
       "        0.0288, 0.0290, 0.0292, 0.0294, 0.0296, 0.0298, 0.0300, 0.0302, 0.0304,\n",
       "        0.0307, 0.0309, 0.0311, 0.0313, 0.0315, 0.0317, 0.0320, 0.0322, 0.0324,\n",
       "        0.0326, 0.0328, 0.0331, 0.0333, 0.0335, 0.0338, 0.0340, 0.0342, 0.0345,\n",
       "        0.0347, 0.0350, 0.0352, 0.0354, 0.0357, 0.0359, 0.0362, 0.0364, 0.0367,\n",
       "        0.0369, 0.0372, 0.0375, 0.0377, 0.0380, 0.0382, 0.0385, 0.0388, 0.0390,\n",
       "        0.0393, 0.0396, 0.0399, 0.0401, 0.0404, 0.0407, 0.0410, 0.0413, 0.0416,\n",
       "        0.0418, 0.0421, 0.0424, 0.0427, 0.0430, 0.0433, 0.0436, 0.0439, 0.0442,\n",
       "        0.0445, 0.0448, 0.0451, 0.0455, 0.0458, 0.0461, 0.0464, 0.0467, 0.0471,\n",
       "        0.0474, 0.0477, 0.0480, 0.0484, 0.0487, 0.0491, 0.0494, 0.0497, 0.0501,\n",
       "        0.0504, 0.0508, 0.0511, 0.0515, 0.0518, 0.0522, 0.0526, 0.0529, 0.0533,\n",
       "        0.0537, 0.0540, 0.0544, 0.0548, 0.0552, 0.0556, 0.0559, 0.0563, 0.0567,\n",
       "        0.0571, 0.0575, 0.0579, 0.0583, 0.0587, 0.0591, 0.0595, 0.0599, 0.0604,\n",
       "        0.0608, 0.0612, 0.0616, 0.0621, 0.0625, 0.0629, 0.0634, 0.0638, 0.0642,\n",
       "        0.0647, 0.0651, 0.0656, 0.0660, 0.0665, 0.0670, 0.0674, 0.0679, 0.0684,\n",
       "        0.0688, 0.0693, 0.0698, 0.0703, 0.0708, 0.0713, 0.0718, 0.0723, 0.0728,\n",
       "        0.0733, 0.0738, 0.0743, 0.0748, 0.0753, 0.0758, 0.0764, 0.0769, 0.0774,\n",
       "        0.0780, 0.0785, 0.0790, 0.0796, 0.0802, 0.0807, 0.0813, 0.0818, 0.0824,\n",
       "        0.0830, 0.0835, 0.0841, 0.0847, 0.0853, 0.0859, 0.0865, 0.0871, 0.0877,\n",
       "        0.0883, 0.0889, 0.0895, 0.0901, 0.0908, 0.0914, 0.0920, 0.0927, 0.0933,\n",
       "        0.0940, 0.0946, 0.0953, 0.0959, 0.0966, 0.0973, 0.0979, 0.0986, 0.0993,\n",
       "        0.1000, 0.1007, 0.1014, 0.1021, 0.1028, 0.1035, 0.1042, 0.1050, 0.1057,\n",
       "        0.1064, 0.1072, 0.1079, 0.1087, 0.1094, 0.1102, 0.1109, 0.1117, 0.1125,\n",
       "        0.1133, 0.1140, 0.1148, 0.1156, 0.1164, 0.1172, 0.1181, 0.1189, 0.1197,\n",
       "        0.1205, 0.1214, 0.1222, 0.1231, 0.1239, 0.1248, 0.1256, 0.1265, 0.1274,\n",
       "        0.1283, 0.1292, 0.1301, 0.1310, 0.1319, 0.1328, 0.1337, 0.1346, 0.1356,\n",
       "        0.1365, 0.1374, 0.1384, 0.1394, 0.1403, 0.1413, 0.1423, 0.1433, 0.1443,\n",
       "        0.1453, 0.1463, 0.1473, 0.1483, 0.1493, 0.1504, 0.1514, 0.1525, 0.1535,\n",
       "        0.1546, 0.1557, 0.1567, 0.1578, 0.1589, 0.1600, 0.1611, 0.1623, 0.1634,\n",
       "        0.1645, 0.1657, 0.1668, 0.1680, 0.1691, 0.1703, 0.1715, 0.1727, 0.1739,\n",
       "        0.1751, 0.1763, 0.1775, 0.1788, 0.1800, 0.1812, 0.1825, 0.1838, 0.1850,\n",
       "        0.1863, 0.1876, 0.1889, 0.1902, 0.1916, 0.1929, 0.1942, 0.1956, 0.1969,\n",
       "        0.1983, 0.1997, 0.2010, 0.2024, 0.2038, 0.2053, 0.2067, 0.2081, 0.2096,\n",
       "        0.2110, 0.2125, 0.2140, 0.2154, 0.2169, 0.2184, 0.2200, 0.2215, 0.2230,\n",
       "        0.2246, 0.2261, 0.2277, 0.2293, 0.2309, 0.2325, 0.2341, 0.2357, 0.2373,\n",
       "        0.2390, 0.2406, 0.2423, 0.2440, 0.2457, 0.2474, 0.2491, 0.2508, 0.2526,\n",
       "        0.2543, 0.2561, 0.2579, 0.2597, 0.2615, 0.2633, 0.2651, 0.2669, 0.2688,\n",
       "        0.2707, 0.2725, 0.2744, 0.2763, 0.2783, 0.2802, 0.2821, 0.2841, 0.2861,\n",
       "        0.2880, 0.2900, 0.2921, 0.2941, 0.2961, 0.2982, 0.3002, 0.3023, 0.3044,\n",
       "        0.3065, 0.3087, 0.3108, 0.3130, 0.3151, 0.3173, 0.3195, 0.3217, 0.3240,\n",
       "        0.3262, 0.3285, 0.3308, 0.3331, 0.3354, 0.3377, 0.3400, 0.3424, 0.3448,\n",
       "        0.3472, 0.3496, 0.3520, 0.3544, 0.3569, 0.3594, 0.3619, 0.3644, 0.3669,\n",
       "        0.3695, 0.3720, 0.3746, 0.3772, 0.3798, 0.3825, 0.3851, 0.3878, 0.3905,\n",
       "        0.3932, 0.3959, 0.3987, 0.4014, 0.4042, 0.4070, 0.4098, 0.4127, 0.4155,\n",
       "        0.4184, 0.4213, 0.4243, 0.4272, 0.4302, 0.4331, 0.4362, 0.4392, 0.4422,\n",
       "        0.4453, 0.4484, 0.4515, 0.4546, 0.4578, 0.4610, 0.4642, 0.4674, 0.4706,\n",
       "        0.4739, 0.4772, 0.4805, 0.4838, 0.4872, 0.4906, 0.4940, 0.4974, 0.5008,\n",
       "        0.5043, 0.5078, 0.5113, 0.5149, 0.5185, 0.5221, 0.5257, 0.5293, 0.5330,\n",
       "        0.5367, 0.5404, 0.5442, 0.5479, 0.5517, 0.5556, 0.5594, 0.5633, 0.5672,\n",
       "        0.5712, 0.5751, 0.5791, 0.5831, 0.5872, 0.5913, 0.5954, 0.5995, 0.6036,\n",
       "        0.6078, 0.6120, 0.6163, 0.6206, 0.6249, 0.6292, 0.6336, 0.6380, 0.6424,\n",
       "        0.6469, 0.6513, 0.6559, 0.6604, 0.6650, 0.6696, 0.6743, 0.6789, 0.6837,\n",
       "        0.6884, 0.6932, 0.6980, 0.7028, 0.7077, 0.7126, 0.7176, 0.7225, 0.7275,\n",
       "        0.7326, 0.7377, 0.7428, 0.7480, 0.7531, 0.7584, 0.7636, 0.7689, 0.7743,\n",
       "        0.7796, 0.7850, 0.7905, 0.7960, 0.8015, 0.8071, 0.8127, 0.8183, 0.8240,\n",
       "        0.8297, 0.8355, 0.8412, 0.8471, 0.8530, 0.8589, 0.8648, 0.8708, 0.8769,\n",
       "        0.8830, 0.8891, 0.8953, 0.9015, 0.9077, 0.9140, 0.9204, 0.9268, 0.9332,\n",
       "        0.9397, 0.9462, 0.9528, 0.9594, 0.9660, 0.9727, 0.9795, 0.9863, 0.9931,\n",
       "        1.0000])"
      ]
     },
     "execution_count": 33,
     "metadata": {},
     "output_type": "execute_result"
    }
   ],
   "source": [
    "lrs = torch.linspace(-3, 0, 1000)\n",
    "lrs = 10**lrs\n",
    "lrs\n"
   ]
  },
  {
   "cell_type": "code",
   "execution_count": 34,
   "metadata": {},
   "outputs": [
    {
     "data": {
      "text/plain": [
       "tensor([0.0010, 0.0010, 0.0010, 0.0010, 0.0010, 0.0010, 0.0010, 0.0010, 0.0011,\n",
       "        0.0011, 0.0011, 0.0011, 0.0011, 0.0011, 0.0011, 0.0011, 0.0011, 0.0011,\n",
       "        0.0011, 0.0011, 0.0011, 0.0012, 0.0012, 0.0012, 0.0012, 0.0012, 0.0012,\n",
       "        0.0012, 0.0012, 0.0012, 0.0012, 0.0012, 0.0012, 0.0013, 0.0013, 0.0013,\n",
       "        0.0013, 0.0013, 0.0013, 0.0013, 0.0013, 0.0013, 0.0013, 0.0013, 0.0014,\n",
       "        0.0014, 0.0014, 0.0014, 0.0014, 0.0014, 0.0014, 0.0014, 0.0014, 0.0014,\n",
       "        0.0015, 0.0015, 0.0015, 0.0015, 0.0015, 0.0015, 0.0015, 0.0015, 0.0015,\n",
       "        0.0015, 0.0016, 0.0016, 0.0016, 0.0016, 0.0016, 0.0016, 0.0016, 0.0016,\n",
       "        0.0016, 0.0017, 0.0017, 0.0017, 0.0017, 0.0017, 0.0017, 0.0017, 0.0017,\n",
       "        0.0018, 0.0018, 0.0018, 0.0018, 0.0018, 0.0018, 0.0018, 0.0018, 0.0019,\n",
       "        0.0019, 0.0019, 0.0019, 0.0019, 0.0019, 0.0019, 0.0019, 0.0020, 0.0020,\n",
       "        0.0020, 0.0020, 0.0020, 0.0020, 0.0020, 0.0021, 0.0021, 0.0021, 0.0021,\n",
       "        0.0021, 0.0021, 0.0021, 0.0022, 0.0022, 0.0022, 0.0022, 0.0022, 0.0022,\n",
       "        0.0022, 0.0023, 0.0023, 0.0023, 0.0023, 0.0023, 0.0023, 0.0024, 0.0024,\n",
       "        0.0024, 0.0024, 0.0024, 0.0024, 0.0025, 0.0025, 0.0025, 0.0025, 0.0025,\n",
       "        0.0025, 0.0026, 0.0026, 0.0026, 0.0026, 0.0026, 0.0027, 0.0027, 0.0027,\n",
       "        0.0027, 0.0027, 0.0027, 0.0028, 0.0028, 0.0028, 0.0028, 0.0028, 0.0029,\n",
       "        0.0029, 0.0029, 0.0029, 0.0029, 0.0030, 0.0030, 0.0030, 0.0030, 0.0030,\n",
       "        0.0031, 0.0031, 0.0031, 0.0031, 0.0032, 0.0032, 0.0032, 0.0032, 0.0032,\n",
       "        0.0033, 0.0033, 0.0033, 0.0033, 0.0034, 0.0034, 0.0034, 0.0034, 0.0034,\n",
       "        0.0035, 0.0035, 0.0035, 0.0035, 0.0036, 0.0036, 0.0036, 0.0036, 0.0037,\n",
       "        0.0037, 0.0037, 0.0037, 0.0038, 0.0038, 0.0038, 0.0039, 0.0039, 0.0039,\n",
       "        0.0039, 0.0040, 0.0040, 0.0040, 0.0040, 0.0041, 0.0041, 0.0041, 0.0042,\n",
       "        0.0042, 0.0042, 0.0042, 0.0043, 0.0043, 0.0043, 0.0044, 0.0044, 0.0044,\n",
       "        0.0045, 0.0045, 0.0045, 0.0045, 0.0046, 0.0046, 0.0046, 0.0047, 0.0047,\n",
       "        0.0047, 0.0048, 0.0048, 0.0048, 0.0049, 0.0049, 0.0049, 0.0050, 0.0050,\n",
       "        0.0050, 0.0051, 0.0051, 0.0051, 0.0052, 0.0052, 0.0053, 0.0053, 0.0053,\n",
       "        0.0054, 0.0054, 0.0054, 0.0055, 0.0055, 0.0056, 0.0056, 0.0056, 0.0057,\n",
       "        0.0057, 0.0058, 0.0058, 0.0058, 0.0059, 0.0059, 0.0060, 0.0060, 0.0060,\n",
       "        0.0061, 0.0061, 0.0062, 0.0062, 0.0062, 0.0063, 0.0063, 0.0064, 0.0064,\n",
       "        0.0065, 0.0065, 0.0066, 0.0066, 0.0067, 0.0067, 0.0067, 0.0068, 0.0068,\n",
       "        0.0069, 0.0069, 0.0070, 0.0070, 0.0071, 0.0071, 0.0072, 0.0072, 0.0073,\n",
       "        0.0073, 0.0074, 0.0074, 0.0075, 0.0075, 0.0076, 0.0076, 0.0077, 0.0077,\n",
       "        0.0078, 0.0079, 0.0079, 0.0080, 0.0080, 0.0081, 0.0081, 0.0082, 0.0082,\n",
       "        0.0083, 0.0084, 0.0084, 0.0085, 0.0085, 0.0086, 0.0086, 0.0087, 0.0088,\n",
       "        0.0088, 0.0089, 0.0090, 0.0090, 0.0091, 0.0091, 0.0092, 0.0093, 0.0093,\n",
       "        0.0094, 0.0095, 0.0095, 0.0096, 0.0097, 0.0097, 0.0098, 0.0099, 0.0099,\n",
       "        0.0100, 0.0101, 0.0101, 0.0102, 0.0103, 0.0104, 0.0104, 0.0105, 0.0106,\n",
       "        0.0106, 0.0107, 0.0108, 0.0109, 0.0109, 0.0110, 0.0111, 0.0112, 0.0112,\n",
       "        0.0113, 0.0114, 0.0115, 0.0116, 0.0116, 0.0117, 0.0118, 0.0119, 0.0120,\n",
       "        0.0121, 0.0121, 0.0122, 0.0123, 0.0124, 0.0125, 0.0126, 0.0127, 0.0127,\n",
       "        0.0128, 0.0129, 0.0130, 0.0131, 0.0132, 0.0133, 0.0134, 0.0135, 0.0136,\n",
       "        0.0137, 0.0137, 0.0138, 0.0139, 0.0140, 0.0141, 0.0142, 0.0143, 0.0144,\n",
       "        0.0145, 0.0146, 0.0147, 0.0148, 0.0149, 0.0150, 0.0151, 0.0152, 0.0154,\n",
       "        0.0155, 0.0156, 0.0157, 0.0158, 0.0159, 0.0160, 0.0161, 0.0162, 0.0163,\n",
       "        0.0165, 0.0166, 0.0167, 0.0168, 0.0169, 0.0170, 0.0171, 0.0173, 0.0174,\n",
       "        0.0175, 0.0176, 0.0178, 0.0179, 0.0180, 0.0181, 0.0182, 0.0184, 0.0185,\n",
       "        0.0186, 0.0188, 0.0189, 0.0190, 0.0192, 0.0193, 0.0194, 0.0196, 0.0197,\n",
       "        0.0198, 0.0200, 0.0201, 0.0202, 0.0204, 0.0205, 0.0207, 0.0208, 0.0210,\n",
       "        0.0211, 0.0212, 0.0214, 0.0215, 0.0217, 0.0218, 0.0220, 0.0221, 0.0223,\n",
       "        0.0225, 0.0226, 0.0228, 0.0229, 0.0231, 0.0232, 0.0234, 0.0236, 0.0237,\n",
       "        0.0239, 0.0241, 0.0242, 0.0244, 0.0246, 0.0247, 0.0249, 0.0251, 0.0253,\n",
       "        0.0254, 0.0256, 0.0258, 0.0260, 0.0261, 0.0263, 0.0265, 0.0267, 0.0269,\n",
       "        0.0271, 0.0273, 0.0274, 0.0276, 0.0278, 0.0280, 0.0282, 0.0284, 0.0286,\n",
       "        0.0288, 0.0290, 0.0292, 0.0294, 0.0296, 0.0298, 0.0300, 0.0302, 0.0304,\n",
       "        0.0307, 0.0309, 0.0311, 0.0313, 0.0315, 0.0317, 0.0320, 0.0322, 0.0324,\n",
       "        0.0326, 0.0328, 0.0331, 0.0333, 0.0335, 0.0338, 0.0340, 0.0342, 0.0345,\n",
       "        0.0347, 0.0350, 0.0352, 0.0354, 0.0357, 0.0359, 0.0362, 0.0364, 0.0367,\n",
       "        0.0369, 0.0372, 0.0375, 0.0377, 0.0380, 0.0382, 0.0385, 0.0388, 0.0390,\n",
       "        0.0393, 0.0396, 0.0399, 0.0401, 0.0404, 0.0407, 0.0410, 0.0413, 0.0416,\n",
       "        0.0418, 0.0421, 0.0424, 0.0427, 0.0430, 0.0433, 0.0436, 0.0439, 0.0442,\n",
       "        0.0445, 0.0448, 0.0451, 0.0455, 0.0458, 0.0461, 0.0464, 0.0467, 0.0471,\n",
       "        0.0474, 0.0477, 0.0480, 0.0484, 0.0487, 0.0491, 0.0494, 0.0497, 0.0501,\n",
       "        0.0504, 0.0508, 0.0511, 0.0515, 0.0518, 0.0522, 0.0526, 0.0529, 0.0533,\n",
       "        0.0537, 0.0540, 0.0544, 0.0548, 0.0552, 0.0556, 0.0559, 0.0563, 0.0567,\n",
       "        0.0571, 0.0575, 0.0579, 0.0583, 0.0587, 0.0591, 0.0595, 0.0599, 0.0604,\n",
       "        0.0608, 0.0612, 0.0616, 0.0621, 0.0625, 0.0629, 0.0634, 0.0638, 0.0642,\n",
       "        0.0647, 0.0651, 0.0656, 0.0660, 0.0665, 0.0670, 0.0674, 0.0679, 0.0684,\n",
       "        0.0688, 0.0693, 0.0698, 0.0703, 0.0708, 0.0713, 0.0718, 0.0723, 0.0728,\n",
       "        0.0733, 0.0738, 0.0743, 0.0748, 0.0753, 0.0758, 0.0764, 0.0769, 0.0774,\n",
       "        0.0780, 0.0785, 0.0790, 0.0796, 0.0802, 0.0807, 0.0813, 0.0818, 0.0824,\n",
       "        0.0830, 0.0835, 0.0841, 0.0847, 0.0853, 0.0859, 0.0865, 0.0871, 0.0877,\n",
       "        0.0883, 0.0889, 0.0895, 0.0901, 0.0908, 0.0914, 0.0920, 0.0927, 0.0933,\n",
       "        0.0940, 0.0946, 0.0953, 0.0959, 0.0966, 0.0973, 0.0979, 0.0986, 0.0993,\n",
       "        0.1000, 0.1007, 0.1014, 0.1021, 0.1028, 0.1035, 0.1042, 0.1050, 0.1057,\n",
       "        0.1064, 0.1072, 0.1079, 0.1087, 0.1094, 0.1102, 0.1109, 0.1117, 0.1125,\n",
       "        0.1133, 0.1140, 0.1148, 0.1156, 0.1164, 0.1172, 0.1181, 0.1189, 0.1197,\n",
       "        0.1205, 0.1214, 0.1222, 0.1231, 0.1239, 0.1248, 0.1256, 0.1265, 0.1274,\n",
       "        0.1283, 0.1292, 0.1301, 0.1310, 0.1319, 0.1328, 0.1337, 0.1346, 0.1356,\n",
       "        0.1365, 0.1374, 0.1384, 0.1394, 0.1403, 0.1413, 0.1423, 0.1433, 0.1443,\n",
       "        0.1453, 0.1463, 0.1473, 0.1483, 0.1493, 0.1504, 0.1514, 0.1525, 0.1535,\n",
       "        0.1546, 0.1557, 0.1567, 0.1578, 0.1589, 0.1600, 0.1611, 0.1623, 0.1634,\n",
       "        0.1645, 0.1657, 0.1668, 0.1680, 0.1691, 0.1703, 0.1715, 0.1727, 0.1739,\n",
       "        0.1751, 0.1763, 0.1775, 0.1788, 0.1800, 0.1812, 0.1825, 0.1838, 0.1850,\n",
       "        0.1863, 0.1876, 0.1889, 0.1902, 0.1916, 0.1929, 0.1942, 0.1956, 0.1969,\n",
       "        0.1983, 0.1997, 0.2010, 0.2024, 0.2038, 0.2053, 0.2067, 0.2081, 0.2096,\n",
       "        0.2110, 0.2125, 0.2140, 0.2154, 0.2169, 0.2184, 0.2200, 0.2215, 0.2230,\n",
       "        0.2246, 0.2261, 0.2277, 0.2293, 0.2309, 0.2325, 0.2341, 0.2357, 0.2373,\n",
       "        0.2390, 0.2406, 0.2423, 0.2440, 0.2457, 0.2474, 0.2491, 0.2508, 0.2526,\n",
       "        0.2543, 0.2561, 0.2579, 0.2597, 0.2615, 0.2633, 0.2651, 0.2669, 0.2688,\n",
       "        0.2707, 0.2725, 0.2744, 0.2763, 0.2783, 0.2802, 0.2821, 0.2841, 0.2861,\n",
       "        0.2880, 0.2900, 0.2921, 0.2941, 0.2961, 0.2982, 0.3002, 0.3023, 0.3044,\n",
       "        0.3065, 0.3087, 0.3108, 0.3130, 0.3151, 0.3173, 0.3195, 0.3217, 0.3240,\n",
       "        0.3262, 0.3285, 0.3308, 0.3331, 0.3354, 0.3377, 0.3400, 0.3424, 0.3448,\n",
       "        0.3472, 0.3496, 0.3520, 0.3544, 0.3569, 0.3594, 0.3619, 0.3644, 0.3669,\n",
       "        0.3695, 0.3720, 0.3746, 0.3772, 0.3798, 0.3825, 0.3851, 0.3878, 0.3905,\n",
       "        0.3932, 0.3959, 0.3987, 0.4014, 0.4042, 0.4070, 0.4098, 0.4127, 0.4155,\n",
       "        0.4184, 0.4213, 0.4243, 0.4272, 0.4302, 0.4331, 0.4362, 0.4392, 0.4422,\n",
       "        0.4453, 0.4484, 0.4515, 0.4546, 0.4578, 0.4610, 0.4642, 0.4674, 0.4706,\n",
       "        0.4739, 0.4772, 0.4805, 0.4838, 0.4872, 0.4906, 0.4940, 0.4974, 0.5008,\n",
       "        0.5043, 0.5078, 0.5113, 0.5149, 0.5185, 0.5221, 0.5257, 0.5293, 0.5330,\n",
       "        0.5367, 0.5404, 0.5442, 0.5479, 0.5517, 0.5556, 0.5594, 0.5633, 0.5672,\n",
       "        0.5712, 0.5751, 0.5791, 0.5831, 0.5872, 0.5913, 0.5954, 0.5995, 0.6036,\n",
       "        0.6078, 0.6120, 0.6163, 0.6206, 0.6249, 0.6292, 0.6336, 0.6380, 0.6424,\n",
       "        0.6469, 0.6513, 0.6559, 0.6604, 0.6650, 0.6696, 0.6743, 0.6789, 0.6837,\n",
       "        0.6884, 0.6932, 0.6980, 0.7028, 0.7077, 0.7126, 0.7176, 0.7225, 0.7275,\n",
       "        0.7326, 0.7377, 0.7428, 0.7480, 0.7531, 0.7584, 0.7636, 0.7689, 0.7743,\n",
       "        0.7796, 0.7850, 0.7905, 0.7960, 0.8015, 0.8071, 0.8127, 0.8183, 0.8240,\n",
       "        0.8297, 0.8355, 0.8412, 0.8471, 0.8530, 0.8589, 0.8648, 0.8708, 0.8769,\n",
       "        0.8830, 0.8891, 0.8953, 0.9015, 0.9077, 0.9140, 0.9204, 0.9268, 0.9332,\n",
       "        0.9397, 0.9462, 0.9528, 0.9594, 0.9660, 0.9727, 0.9795, 0.9863, 0.9931,\n",
       "        1.0000])"
      ]
     },
     "execution_count": 34,
     "metadata": {},
     "output_type": "execute_result"
    }
   ],
   "source": [
    "lrs = torch.logspace(-3, 0, 1000)\n",
    "lrs\n"
   ]
  },
  {
   "cell_type": "code",
   "execution_count": 35,
   "metadata": {},
   "outputs": [
    {
     "name": "stdout",
     "output_type": "stream",
     "text": [
      "17.732702255249023\n",
      "20.39100456237793\n",
      "22.212892532348633\n",
      "18.168304443359375\n",
      "20.32712173461914\n",
      "17.5830135345459\n",
      "19.330341339111328\n",
      "19.388395309448242\n",
      "20.28860092163086\n",
      "18.201444625854492\n",
      "19.17503547668457\n",
      "20.564476013183594\n",
      "20.43487548828125\n",
      "21.17230796813965\n",
      "20.615503311157227\n",
      "16.429044723510742\n",
      "16.609027862548828\n",
      "20.133283615112305\n",
      "17.8748779296875\n",
      "19.95508575439453\n",
      "19.803279876708984\n",
      "19.71059799194336\n",
      "17.589736938476562\n",
      "19.43290901184082\n",
      "21.874675750732422\n",
      "20.45779037475586\n",
      "20.98611831665039\n",
      "19.025163650512695\n",
      "17.403331756591797\n",
      "18.158124923706055\n",
      "18.714292526245117\n",
      "16.56267547607422\n",
      "19.134443283081055\n",
      "13.251580238342285\n",
      "22.184017181396484\n",
      "15.918084144592285\n",
      "18.306089401245117\n",
      "22.428050994873047\n",
      "16.513673782348633\n",
      "21.244888305664062\n",
      "15.845444679260254\n",
      "18.71114158630371\n",
      "17.08005714416504\n",
      "16.25472640991211\n",
      "19.863779067993164\n",
      "18.442691802978516\n",
      "19.1829776763916\n",
      "18.874422073364258\n",
      "16.894176483154297\n",
      "17.677274703979492\n",
      "17.657405853271484\n",
      "18.603107452392578\n",
      "14.887605667114258\n",
      "17.483383178710938\n",
      "16.9281063079834\n",
      "18.145660400390625\n",
      "16.01116180419922\n",
      "17.75019073486328\n",
      "16.64190673828125\n",
      "16.507333755493164\n",
      "17.64509391784668\n",
      "19.081899642944336\n",
      "16.945219039916992\n",
      "23.601085662841797\n",
      "18.66862678527832\n",
      "16.714399337768555\n",
      "16.575450897216797\n",
      "17.232444763183594\n",
      "15.341827392578125\n",
      "17.26152229309082\n",
      "18.27154541015625\n",
      "15.399480819702148\n",
      "18.683120727539062\n",
      "17.06641960144043\n",
      "16.838645935058594\n",
      "17.695730209350586\n",
      "15.904590606689453\n",
      "17.129074096679688\n",
      "18.118139266967773\n",
      "17.857364654541016\n",
      "18.816537857055664\n",
      "19.567842483520508\n",
      "15.96049690246582\n",
      "14.32949447631836\n",
      "16.482561111450195\n",
      "17.735612869262695\n",
      "19.245540618896484\n",
      "14.670781135559082\n",
      "13.863068580627441\n",
      "17.715038299560547\n",
      "13.324914932250977\n",
      "17.151325225830078\n",
      "18.87198257446289\n",
      "14.509766578674316\n",
      "15.868025779724121\n",
      "20.05105209350586\n",
      "15.044612884521484\n",
      "16.492473602294922\n",
      "18.207660675048828\n",
      "16.794178009033203\n",
      "15.566004753112793\n",
      "14.238846778869629\n",
      "15.649213790893555\n",
      "17.7396183013916\n",
      "18.326522827148438\n",
      "17.69695472717285\n",
      "15.480161666870117\n",
      "16.472410202026367\n",
      "16.12417984008789\n",
      "14.25991153717041\n",
      "17.71710777282715\n",
      "16.945343017578125\n",
      "16.60796546936035\n",
      "17.675764083862305\n",
      "17.50788116455078\n",
      "16.18480110168457\n",
      "16.539226531982422\n",
      "16.6777400970459\n",
      "15.916814804077148\n",
      "17.551923751831055\n",
      "16.12630271911621\n",
      "16.66200065612793\n",
      "16.954030990600586\n",
      "16.887924194335938\n",
      "13.923715591430664\n",
      "13.77817440032959\n",
      "18.229415893554688\n",
      "19.663349151611328\n",
      "17.388748168945312\n",
      "13.517910957336426\n",
      "14.660887718200684\n",
      "15.454683303833008\n",
      "14.496332168579102\n",
      "18.715614318847656\n",
      "17.711416244506836\n",
      "13.942378044128418\n",
      "13.526516914367676\n",
      "15.158262252807617\n",
      "17.90399932861328\n",
      "20.2946720123291\n",
      "17.710308074951172\n",
      "16.708141326904297\n",
      "15.604813575744629\n",
      "15.53013801574707\n",
      "16.655452728271484\n",
      "14.717852592468262\n",
      "17.044761657714844\n",
      "12.756488800048828\n",
      "14.809165000915527\n",
      "14.080717086791992\n",
      "14.54175090789795\n",
      "15.088059425354004\n",
      "12.308319091796875\n",
      "14.851411819458008\n",
      "16.382122039794922\n",
      "15.639039993286133\n",
      "14.980963706970215\n",
      "16.47264289855957\n",
      "16.545696258544922\n",
      "12.491803169250488\n",
      "13.882640838623047\n",
      "14.142651557922363\n",
      "13.24476432800293\n",
      "16.301244735717773\n",
      "14.575589179992676\n",
      "13.665367126464844\n",
      "13.806121826171875\n",
      "15.5916748046875\n",
      "12.150761604309082\n",
      "14.512128829956055\n",
      "11.806815147399902\n",
      "14.769146919250488\n",
      "14.148283958435059\n",
      "15.908742904663086\n",
      "14.270429611206055\n",
      "13.983354568481445\n",
      "11.700952529907227\n",
      "15.535828590393066\n",
      "15.660443305969238\n",
      "15.68790054321289\n",
      "13.770148277282715\n",
      "13.605307579040527\n",
      "14.755983352661133\n",
      "15.57597541809082\n",
      "13.780838012695312\n",
      "13.522076606750488\n",
      "16.946529388427734\n",
      "12.589465141296387\n",
      "11.993673324584961\n",
      "15.768816947937012\n",
      "17.248260498046875\n",
      "14.09237003326416\n",
      "12.93375301361084\n",
      "13.131431579589844\n",
      "14.35564136505127\n",
      "12.662909507751465\n",
      "13.538959503173828\n",
      "13.026932716369629\n",
      "15.580367088317871\n",
      "14.330690383911133\n",
      "15.223342895507812\n",
      "13.640020370483398\n",
      "10.984281539916992\n",
      "13.940475463867188\n",
      "15.21217155456543\n",
      "12.218631744384766\n",
      "11.748621940612793\n",
      "13.156977653503418\n",
      "15.117386817932129\n",
      "14.558927536010742\n",
      "13.967791557312012\n",
      "12.265019416809082\n",
      "13.080513954162598\n",
      "14.079569816589355\n",
      "11.427367210388184\n",
      "11.849246978759766\n",
      "14.440665245056152\n",
      "11.80372142791748\n",
      "11.961246490478516\n",
      "9.9404296875\n",
      "12.805779457092285\n",
      "9.949164390563965\n",
      "13.083266258239746\n",
      "10.451813697814941\n",
      "11.81942367553711\n",
      "12.06619930267334\n",
      "13.81005573272705\n",
      "12.097107887268066\n",
      "11.466731071472168\n",
      "13.907562255859375\n",
      "11.375679969787598\n",
      "12.204163551330566\n",
      "13.640661239624023\n",
      "11.34111213684082\n",
      "13.159944534301758\n",
      "11.935555458068848\n",
      "14.251395225524902\n",
      "11.58011245727539\n",
      "14.44105052947998\n",
      "11.838492393493652\n",
      "10.220674514770508\n",
      "12.053811073303223\n",
      "11.916096687316895\n",
      "10.042479515075684\n",
      "11.133716583251953\n",
      "11.737862586975098\n",
      "12.959821701049805\n",
      "9.436564445495605\n",
      "13.621335983276367\n",
      "11.917875289916992\n",
      "13.197199821472168\n",
      "12.86460018157959\n",
      "12.031743049621582\n",
      "8.578666687011719\n",
      "11.415435791015625\n",
      "14.398277282714844\n",
      "11.287976264953613\n",
      "12.737005233764648\n",
      "11.99500846862793\n",
      "14.880599975585938\n",
      "13.53198528289795\n",
      "10.91624927520752\n",
      "12.771163940429688\n",
      "13.78754711151123\n",
      "13.056966781616211\n",
      "13.044647216796875\n",
      "12.538239479064941\n",
      "11.662641525268555\n",
      "10.479567527770996\n",
      "11.246709823608398\n",
      "11.734912872314453\n",
      "13.051102638244629\n",
      "12.245171546936035\n",
      "11.709938049316406\n",
      "11.396129608154297\n",
      "9.515085220336914\n",
      "9.429095268249512\n",
      "6.743277549743652\n",
      "11.530463218688965\n",
      "10.38644027709961\n",
      "12.757271766662598\n",
      "11.91444206237793\n",
      "13.08730411529541\n",
      "10.723855972290039\n",
      "9.470831871032715\n",
      "9.480490684509277\n",
      "10.662890434265137\n",
      "13.375934600830078\n",
      "12.5\n",
      "12.192471504211426\n",
      "8.010043144226074\n",
      "11.248262405395508\n",
      "12.470611572265625\n",
      "10.528074264526367\n",
      "13.19966983795166\n",
      "8.69603157043457\n",
      "13.019342422485352\n",
      "11.452627182006836\n",
      "11.253132820129395\n",
      "13.352794647216797\n",
      "10.173402786254883\n",
      "8.501096725463867\n",
      "11.656913757324219\n",
      "10.221587181091309\n",
      "9.627946853637695\n",
      "12.04784870147705\n",
      "12.202149391174316\n",
      "9.21351432800293\n",
      "11.751282691955566\n",
      "10.989361763000488\n",
      "10.473617553710938\n",
      "9.20096206665039\n",
      "11.651394844055176\n",
      "12.436877250671387\n",
      "10.367039680480957\n",
      "9.565240859985352\n",
      "11.531683921813965\n",
      "9.097610473632812\n",
      "11.279932022094727\n",
      "9.779878616333008\n",
      "10.347984313964844\n",
      "6.136132717132568\n",
      "8.600214958190918\n",
      "12.039816856384277\n",
      "11.584826469421387\n",
      "9.80733871459961\n",
      "10.806272506713867\n",
      "9.665756225585938\n",
      "10.573342323303223\n",
      "8.95053482055664\n",
      "10.992680549621582\n",
      "8.605218887329102\n",
      "11.207318305969238\n",
      "7.977313041687012\n",
      "8.951423645019531\n",
      "10.376401901245117\n",
      "10.055536270141602\n",
      "11.44580364227295\n",
      "10.240762710571289\n",
      "9.606993675231934\n",
      "10.890143394470215\n",
      "8.389726638793945\n",
      "10.56085205078125\n",
      "10.05629825592041\n",
      "9.669781684875488\n",
      "8.963738441467285\n",
      "8.13115119934082\n",
      "8.444561004638672\n",
      "11.567577362060547\n",
      "7.9405646324157715\n",
      "11.713455200195312\n",
      "9.439105033874512\n",
      "8.19589900970459\n",
      "9.884449005126953\n",
      "9.718012809753418\n",
      "11.679950714111328\n",
      "8.719144821166992\n",
      "9.101794242858887\n",
      "9.140323638916016\n",
      "7.336053848266602\n",
      "8.475397109985352\n",
      "9.0613431930542\n",
      "8.144408226013184\n",
      "9.614089012145996\n",
      "10.197089195251465\n",
      "8.148189544677734\n",
      "7.510673999786377\n",
      "7.872158527374268\n",
      "7.3588972091674805\n",
      "8.497604370117188\n",
      "9.88927173614502\n",
      "9.553153038024902\n",
      "8.529409408569336\n",
      "8.836612701416016\n",
      "7.18763542175293\n",
      "8.265295028686523\n",
      "7.84084939956665\n",
      "9.295527458190918\n",
      "7.7700653076171875\n",
      "9.548124313354492\n",
      "8.517416000366211\n",
      "8.658964157104492\n",
      "9.072347640991211\n",
      "9.188891410827637\n",
      "7.686203479766846\n",
      "7.8424859046936035\n",
      "8.571765899658203\n",
      "9.04944133758545\n",
      "8.687017440795898\n",
      "8.117074966430664\n",
      "8.404279708862305\n",
      "6.029212951660156\n",
      "8.603525161743164\n",
      "7.101378440856934\n",
      "7.759884357452393\n",
      "8.384214401245117\n",
      "6.370513439178467\n",
      "8.980022430419922\n",
      "7.364080429077148\n",
      "8.078657150268555\n",
      "6.332517623901367\n",
      "6.895728588104248\n",
      "8.434226036071777\n",
      "8.647773742675781\n",
      "8.352089881896973\n",
      "8.465899467468262\n",
      "7.66425085067749\n",
      "9.184582710266113\n",
      "7.812682151794434\n",
      "8.395501136779785\n",
      "8.433656692504883\n",
      "8.39629077911377\n",
      "7.6763916015625\n",
      "7.509160041809082\n",
      "7.854641437530518\n",
      "9.212564468383789\n",
      "7.4044647216796875\n",
      "7.5265679359436035\n",
      "8.213839530944824\n",
      "7.49892520904541\n",
      "7.0401291847229\n",
      "5.836579322814941\n",
      "6.30905294418335\n",
      "6.538321018218994\n",
      "5.8348388671875\n",
      "7.572753429412842\n",
      "8.544983863830566\n",
      "7.850287914276123\n",
      "7.188656330108643\n",
      "6.3438191413879395\n",
      "6.244436264038086\n",
      "8.30203628540039\n",
      "6.847767353057861\n",
      "7.555723190307617\n",
      "6.938148021697998\n",
      "5.282790660858154\n",
      "5.131222724914551\n",
      "7.417585372924805\n",
      "4.79393196105957\n",
      "8.680671691894531\n",
      "7.067693710327148\n",
      "5.243935585021973\n",
      "7.810885906219482\n",
      "6.905805587768555\n",
      "6.828940391540527\n",
      "6.03212833404541\n",
      "5.817997455596924\n",
      "7.387227535247803\n",
      "6.319223880767822\n",
      "6.930750370025635\n",
      "5.302661418914795\n",
      "7.614256381988525\n",
      "8.199700355529785\n",
      "6.811288833618164\n",
      "4.80958890914917\n",
      "5.711043834686279\n",
      "6.430364608764648\n",
      "5.5654683113098145\n",
      "6.319112777709961\n",
      "6.8329949378967285\n",
      "5.123787879943848\n",
      "6.9424824714660645\n",
      "5.020712852478027\n",
      "6.329761505126953\n",
      "6.278172492980957\n",
      "5.361441135406494\n",
      "6.547224521636963\n",
      "8.321125030517578\n",
      "6.839669227600098\n",
      "6.335254192352295\n",
      "6.686542987823486\n",
      "6.804293155670166\n",
      "6.158873081207275\n",
      "5.540233612060547\n",
      "6.783899307250977\n",
      "4.825080394744873\n",
      "6.507523059844971\n",
      "6.5220770835876465\n",
      "5.620449066162109\n",
      "7.207695960998535\n",
      "7.153838157653809\n",
      "8.410587310791016\n",
      "7.858876705169678\n",
      "5.885406494140625\n",
      "4.83630895614624\n",
      "5.1678338050842285\n",
      "7.563727855682373\n",
      "5.629269123077393\n",
      "4.2080230712890625\n",
      "3.1427934169769287\n",
      "6.115643501281738\n",
      "4.138995170593262\n",
      "5.359128952026367\n",
      "5.766622543334961\n",
      "5.5555033683776855\n",
      "3.8731722831726074\n",
      "4.790816307067871\n",
      "4.68593168258667\n",
      "5.151075839996338\n",
      "5.16728401184082\n",
      "6.262267112731934\n",
      "5.261269569396973\n",
      "6.2422637939453125\n",
      "5.249063491821289\n",
      "7.123711585998535\n",
      "4.716073036193848\n",
      "5.399234771728516\n",
      "6.26405143737793\n",
      "6.321558952331543\n",
      "5.638017177581787\n",
      "6.617240905761719\n",
      "4.026035785675049\n",
      "6.827410697937012\n",
      "5.618313312530518\n",
      "4.957659721374512\n",
      "5.943419456481934\n",
      "6.506533145904541\n",
      "4.030764579772949\n",
      "4.914910316467285\n",
      "5.1573166847229\n",
      "6.181315898895264\n",
      "5.406886100769043\n",
      "5.417940139770508\n",
      "4.440244197845459\n",
      "4.565494537353516\n",
      "5.906709671020508\n",
      "4.818332195281982\n",
      "4.8619489669799805\n",
      "4.694300651550293\n",
      "5.6686201095581055\n",
      "4.841231822967529\n",
      "4.115238666534424\n",
      "4.848031520843506\n",
      "5.008069038391113\n",
      "4.6388983726501465\n",
      "3.7196009159088135\n",
      "5.467813014984131\n",
      "3.6537795066833496\n",
      "6.298250198364258\n",
      "4.339572429656982\n",
      "4.807205677032471\n",
      "4.651432514190674\n",
      "3.503444194793701\n",
      "3.5012218952178955\n",
      "4.797824859619141\n",
      "3.8731727600097656\n",
      "5.690114974975586\n",
      "5.451676368713379\n",
      "4.769299030303955\n",
      "4.859259605407715\n",
      "4.0182671546936035\n",
      "5.152000427246094\n",
      "3.823542594909668\n",
      "4.202470302581787\n",
      "4.087793350219727\n",
      "4.306668281555176\n",
      "4.405178070068359\n",
      "3.3234918117523193\n",
      "4.729369163513184\n",
      "4.378171920776367\n",
      "4.041868209838867\n",
      "4.508281230926514\n",
      "4.285272598266602\n",
      "4.642301559448242\n",
      "3.417506456375122\n",
      "3.617520332336426\n",
      "3.903470993041992\n",
      "3.9896273612976074\n",
      "5.024093151092529\n",
      "4.308187484741211\n",
      "3.5544893741607666\n",
      "3.9760334491729736\n",
      "3.9153103828430176\n",
      "3.929921865463257\n",
      "5.592280387878418\n",
      "4.5964484214782715\n",
      "3.7362704277038574\n",
      "3.6150314807891846\n",
      "4.440110683441162\n",
      "3.607165813446045\n",
      "4.565478801727295\n",
      "4.647752285003662\n",
      "3.921173572540283\n",
      "3.909330129623413\n",
      "4.223657131195068\n",
      "3.557563066482544\n",
      "3.432541847229004\n",
      "3.485616683959961\n",
      "4.496074676513672\n",
      "3.8855819702148438\n",
      "3.716451644897461\n",
      "3.9214119911193848\n",
      "4.213665008544922\n",
      "3.5233876705169678\n",
      "4.668709754943848\n",
      "4.087869644165039\n",
      "3.185755968093872\n",
      "3.5807688236236572\n",
      "4.316976547241211\n",
      "3.905600070953369\n",
      "3.9268038272857666\n",
      "4.312053680419922\n",
      "4.7863664627075195\n",
      "3.0266330242156982\n",
      "4.464250087738037\n",
      "3.8693318367004395\n",
      "3.8036820888519287\n",
      "4.229706764221191\n",
      "3.39441180229187\n",
      "4.015264987945557\n",
      "3.937159776687622\n",
      "4.043885231018066\n",
      "3.970919370651245\n",
      "4.036652565002441\n",
      "2.9348318576812744\n",
      "4.1443328857421875\n",
      "3.705475091934204\n",
      "3.117889165878296\n",
      "3.5020384788513184\n",
      "3.065528631210327\n",
      "3.6887760162353516\n",
      "3.657364845275879\n",
      "3.5323240756988525\n",
      "3.9604251384735107\n",
      "2.9974775314331055\n",
      "3.5955939292907715\n",
      "3.3281078338623047\n",
      "3.9331324100494385\n",
      "3.8235702514648438\n",
      "3.3842577934265137\n",
      "4.085208892822266\n",
      "4.3039116859436035\n",
      "3.4371089935302734\n",
      "3.4150731563568115\n",
      "3.173901081085205\n",
      "3.1596312522888184\n",
      "4.184057712554932\n",
      "3.2619946002960205\n",
      "2.8443336486816406\n",
      "3.8296613693237305\n",
      "3.7578296661376953\n",
      "3.489307403564453\n",
      "3.937769889831543\n",
      "4.105751037597656\n",
      "3.4081428050994873\n",
      "3.9598751068115234\n",
      "3.6557352542877197\n",
      "3.1146368980407715\n",
      "3.946455478668213\n",
      "3.020233631134033\n",
      "3.1138486862182617\n",
      "3.252655506134033\n",
      "3.397702693939209\n",
      "3.2695822715759277\n",
      "3.6450743675231934\n",
      "3.3007216453552246\n",
      "3.7886548042297363\n",
      "3.30999493598938\n",
      "3.0773465633392334\n",
      "2.5902516841888428\n",
      "3.0733273029327393\n",
      "3.808659791946411\n",
      "3.209304094314575\n",
      "3.582448720932007\n",
      "3.240417242050171\n",
      "3.816272735595703\n",
      "2.8274214267730713\n",
      "2.8313848972320557\n",
      "3.360301971435547\n",
      "3.6175830364227295\n",
      "3.398488759994507\n",
      "3.1837682723999023\n",
      "3.3466174602508545\n",
      "3.751555919647217\n",
      "3.273345470428467\n",
      "3.927722692489624\n",
      "4.40465784072876\n",
      "3.300276279449463\n",
      "3.9627599716186523\n",
      "4.263436317443848\n",
      "3.7055883407592773\n",
      "3.014963150024414\n",
      "3.281191825866699\n",
      "3.143592119216919\n",
      "3.553664207458496\n",
      "3.811861038208008\n",
      "3.2449228763580322\n",
      "2.928278923034668\n",
      "3.1758809089660645\n",
      "3.1167173385620117\n",
      "2.849334716796875\n",
      "2.4049229621887207\n",
      "3.360260009765625\n",
      "3.267026424407959\n",
      "3.4814298152923584\n",
      "2.978137731552124\n",
      "4.152027606964111\n",
      "3.0323173999786377\n",
      "3.2563059329986572\n",
      "3.532460927963257\n",
      "2.740464210510254\n",
      "3.402660846710205\n",
      "3.045889139175415\n",
      "2.5319976806640625\n",
      "2.987276792526245\n",
      "3.255650281906128\n",
      "3.064018487930298\n",
      "3.764214038848877\n",
      "2.9883735179901123\n",
      "3.0785796642303467\n",
      "2.8870089054107666\n",
      "3.433373212814331\n",
      "2.6346077919006348\n",
      "2.904273509979248\n",
      "2.6546621322631836\n",
      "2.783897638320923\n",
      "3.0608878135681152\n",
      "3.4957261085510254\n",
      "3.122154951095581\n",
      "4.009383678436279\n",
      "2.923637866973877\n",
      "2.85046648979187\n",
      "2.6355204582214355\n",
      "3.0459156036376953\n",
      "3.5926074981689453\n",
      "3.0401792526245117\n",
      "2.8373160362243652\n",
      "4.033605098724365\n",
      "2.9301013946533203\n",
      "3.1626951694488525\n",
      "2.927673816680908\n",
      "2.7731521129608154\n",
      "2.8517889976501465\n",
      "2.7044436931610107\n",
      "3.204880952835083\n",
      "2.782909393310547\n",
      "2.8487188816070557\n",
      "2.843104362487793\n",
      "3.182309150695801\n",
      "2.658759593963623\n",
      "2.9409663677215576\n",
      "2.5932931900024414\n",
      "3.5944230556488037\n",
      "2.5018324851989746\n",
      "2.9553234577178955\n",
      "2.7133302688598633\n",
      "2.864974021911621\n",
      "3.1940088272094727\n",
      "3.095775604248047\n",
      "3.5267605781555176\n",
      "3.3730974197387695\n",
      "2.968865394592285\n",
      "3.5772135257720947\n",
      "3.6615734100341797\n",
      "3.0563347339630127\n",
      "3.3555846214294434\n",
      "3.159672260284424\n",
      "3.7313694953918457\n",
      "2.9805710315704346\n",
      "3.1256895065307617\n",
      "2.9329137802124023\n",
      "3.315716028213501\n",
      "2.805382251739502\n",
      "2.7401299476623535\n",
      "2.815256118774414\n",
      "3.039808750152588\n",
      "2.881103515625\n",
      "2.9593772888183594\n",
      "2.6372153759002686\n",
      "2.799372434616089\n",
      "3.7830493450164795\n",
      "3.8990390300750732\n",
      "3.2182703018188477\n",
      "3.3629705905914307\n",
      "2.832535743713379\n",
      "2.695443868637085\n",
      "2.883486747741699\n",
      "3.685537576675415\n",
      "3.0434868335723877\n",
      "2.862704038619995\n",
      "3.0226027965545654\n",
      "3.0583748817443848\n",
      "2.8876471519470215\n",
      "3.296377420425415\n",
      "2.7223129272460938\n",
      "3.652494430541992\n",
      "3.1887760162353516\n",
      "3.5312979221343994\n",
      "4.172987937927246\n",
      "3.3395917415618896\n",
      "2.5004162788391113\n",
      "3.4513370990753174\n",
      "3.1702117919921875\n",
      "3.379913568496704\n",
      "2.974946975708008\n",
      "2.7316131591796875\n",
      "3.2757744789123535\n",
      "3.3096909523010254\n",
      "3.1007890701293945\n",
      "2.953339099884033\n",
      "4.10173225402832\n",
      "2.731839179992676\n",
      "3.5981976985931396\n",
      "3.4899797439575195\n",
      "4.125173568725586\n",
      "3.9617464542388916\n",
      "3.8144662380218506\n",
      "2.8502860069274902\n",
      "3.5049290657043457\n",
      "3.582820415496826\n",
      "3.0177905559539795\n",
      "2.9563369750976562\n",
      "3.510143518447876\n",
      "3.5628244876861572\n",
      "4.422394275665283\n",
      "4.261119842529297\n",
      "5.918086051940918\n",
      "4.9895339012146\n",
      "4.119465351104736\n",
      "3.715899705886841\n",
      "3.210862159729004\n",
      "3.6552021503448486\n",
      "3.5488619804382324\n",
      "3.108765125274658\n",
      "3.4193551540374756\n",
      "3.434652090072632\n",
      "3.3022303581237793\n",
      "3.253847122192383\n",
      "3.083003520965576\n",
      "3.045696973800659\n",
      "4.023062705993652\n",
      "4.018720626831055\n",
      "3.635441780090332\n",
      "5.103662490844727\n",
      "2.8183672428131104\n",
      "3.8889331817626953\n",
      "4.111485958099365\n",
      "3.630751609802246\n",
      "3.629887580871582\n",
      "3.9061295986175537\n",
      "3.6072280406951904\n",
      "3.5880227088928223\n",
      "4.187137126922607\n",
      "2.7847774028778076\n",
      "3.373539924621582\n",
      "3.970195770263672\n",
      "2.9350688457489014\n",
      "3.7945632934570312\n",
      "4.226652145385742\n",
      "2.6698338985443115\n",
      "3.1258649826049805\n",
      "3.8354809284210205\n",
      "4.131811618804932\n",
      "4.531652927398682\n",
      "3.7562620639801025\n",
      "3.4068944454193115\n",
      "3.263073444366455\n",
      "4.645474910736084\n",
      "3.3286898136138916\n",
      "3.545820474624634\n",
      "3.120030641555786\n",
      "3.8165760040283203\n",
      "3.769808292388916\n",
      "3.340409517288208\n",
      "2.869058847427368\n",
      "3.610565185546875\n",
      "4.2059326171875\n",
      "3.7101030349731445\n",
      "4.809588432312012\n",
      "4.202589511871338\n",
      "3.5595953464508057\n",
      "4.379583358764648\n",
      "4.070370197296143\n",
      "5.421417236328125\n",
      "5.349225997924805\n",
      "5.521119117736816\n",
      "4.37294340133667\n",
      "5.11857795715332\n",
      "4.906012535095215\n",
      "4.452506065368652\n",
      "3.263639450073242\n",
      "4.509565830230713\n",
      "5.067665100097656\n",
      "5.6551713943481445\n",
      "5.166839122772217\n",
      "3.98996901512146\n",
      "3.404005527496338\n",
      "4.805929183959961\n",
      "3.984356164932251\n",
      "3.738556146621704\n",
      "4.239109039306641\n",
      "4.3320465087890625\n",
      "4.159628868103027\n",
      "6.4095072746276855\n",
      "5.216495037078857\n",
      "5.589499473571777\n",
      "4.143707275390625\n",
      "5.9821882247924805\n",
      "4.97962760925293\n",
      "6.502350807189941\n",
      "4.815829277038574\n",
      "4.287289619445801\n",
      "3.4174160957336426\n",
      "3.645806074142456\n",
      "4.383102893829346\n",
      "4.059452533721924\n",
      "4.148805618286133\n",
      "5.216536045074463\n",
      "4.743788719177246\n",
      "4.600874423980713\n",
      "5.41658353805542\n",
      "5.084006309509277\n",
      "5.933795928955078\n",
      "4.900230407714844\n",
      "5.296424388885498\n",
      "6.234168529510498\n",
      "4.29722261428833\n",
      "5.072258949279785\n",
      "5.697539806365967\n",
      "6.3347063064575195\n",
      "4.9947919845581055\n",
      "5.183926105499268\n",
      "4.733334541320801\n",
      "4.028289794921875\n",
      "3.775473117828369\n",
      "6.370595455169678\n",
      "5.731720924377441\n",
      "4.398096084594727\n",
      "6.247612953186035\n",
      "5.1913323402404785\n",
      "6.0823259353637695\n",
      "5.798513412475586\n",
      "3.9717183113098145\n",
      "4.480928897857666\n",
      "4.768271446228027\n",
      "4.539175510406494\n",
      "5.175062656402588\n",
      "6.019742012023926\n",
      "4.712630748748779\n",
      "3.8096659183502197\n",
      "5.076295852661133\n",
      "3.7954697608947754\n",
      "6.609382152557373\n",
      "6.599194049835205\n",
      "7.463079929351807\n",
      "5.687852382659912\n",
      "8.72004508972168\n",
      "8.750822067260742\n",
      "6.500101089477539\n",
      "6.105545997619629\n",
      "7.693253993988037\n",
      "6.719013214111328\n",
      "7.738780975341797\n",
      "9.048693656921387\n",
      "7.783837795257568\n",
      "4.506874084472656\n",
      "7.020900726318359\n",
      "8.976203918457031\n",
      "5.296772480010986\n",
      "7.5521697998046875\n",
      "9.726219177246094\n",
      "6.246577739715576\n",
      "9.729144096374512\n",
      "8.382579803466797\n",
      "9.50208568572998\n",
      "9.335992813110352\n",
      "8.960504531860352\n",
      "7.714150428771973\n",
      "8.334391593933105\n",
      "8.073904991149902\n",
      "8.945304870605469\n",
      "10.014039993286133\n",
      "9.503973960876465\n",
      "7.519698143005371\n",
      "7.878063678741455\n",
      "8.104159355163574\n",
      "8.179377555847168\n",
      "7.377048492431641\n",
      "5.752250671386719\n",
      "7.430034160614014\n",
      "9.592267036437988\n",
      "8.766654014587402\n",
      "8.886822700500488\n",
      "8.082719802856445\n",
      "6.066549301147461\n",
      "10.51104736328125\n",
      "6.967471599578857\n",
      "8.940640449523926\n",
      "8.249980926513672\n",
      "7.680236339569092\n",
      "6.508126735687256\n",
      "5.815784454345703\n",
      "7.998375415802002\n",
      "10.497540473937988\n",
      "9.698808670043945\n",
      "8.398005485534668\n",
      "9.06019115447998\n",
      "8.020445823669434\n",
      "8.260425567626953\n",
      "5.876376628875732\n"
     ]
    }
   ],
   "source": [
    "parameters = initialize_parameters(num_tokens=len(string_to_integer))\n",
    "C, W1, b1, W2, b2 = parameters\n",
    "\n",
    "lri = []\n",
    "lossi = []\n",
    "\n",
    "for i in range(1000):\n",
    "    idx = torch.randint(0, X.shape[0], (32,))\n",
    "\n",
    "    emb = C[X[idx]]\n",
    "    h = torch.tanh(emb.view(-1, 6) @ W1 + b1)\n",
    "    logits = h @ W2 + b2\n",
    "    loss = F.cross_entropy(logits, Y[idx])\n",
    "    print(loss.item())\n",
    "\n",
    "    for param in parameters:\n",
    "        param.grad = None\n",
    "    loss.backward()\n",
    "\n",
    "    lr = lrs[i]\n",
    "\n",
    "    for param in parameters:\n",
    "        param.data -= lr * param.grad\n",
    "\n",
    "    # Track stats\n",
    "    lri.append(lr)\n",
    "    lossi.append(loss.item())\n"
   ]
  },
  {
   "cell_type": "code",
   "execution_count": 36,
   "metadata": {},
   "outputs": [
    {
     "data": {
      "text/plain": [
       "[<matplotlib.lines.Line2D at 0x11ed8cac0>]"
      ]
     },
     "execution_count": 36,
     "metadata": {},
     "output_type": "execute_result"
    },
    {
     "data": {
      "image/png": "[encoded data removed]",
      "text/plain": [
       "<Figure size 640x480 with 1 Axes>"
      ]
     },
     "metadata": {},
     "output_type": "display_data"
    }
   ],
   "source": [
    "plt.plot(lri, lossi)\n"
   ]
  },
  {
   "attachments": {},
   "cell_type": "markdown",
   "metadata": {},
   "source": [
    "0.15 seems to be a good candidate. With a single LR, it's a good idea to choose it a little lower such that we can squeeze out performance at later epochs."
   ]
  },
  {
   "cell_type": "code",
   "execution_count": 37,
   "metadata": {},
   "outputs": [
    {
     "name": "stdout",
     "output_type": "stream",
     "text": [
      "Final loss = 2.36897349357605\n"
     ]
    }
   ],
   "source": [
    "X, Y = create_dataset(words, string_to_integer)\n",
    "parameters = initialize_parameters(num_tokens=len(string_to_integer))\n",
    "train(\n",
    "    num_steps=20000, learning_rate=0.1, X=X, Y=Y, parameters=parameters, verbose=False\n",
    ")\n",
    "\n",
    "# We see different results if we keep rerunning the cell, as the mini-batch sampling was\n",
    "# not seeded.\n"
   ]
  },
  {
   "attachments": {},
   "cell_type": "markdown",
   "metadata": {},
   "source": [
    "Let's actually add a proper LR scheduler."
   ]
  },
  {
   "cell_type": "code",
   "execution_count": 38,
   "metadata": {},
   "outputs": [],
   "source": [
    "class Scheduler:\n",
    "    def __init__(\n",
    "        self, initial_lr: float, decay_steps: list[int], decay_factor: float = 0.1\n",
    "    ) -> None:\n",
    "        self._decay_steps = decay_steps\n",
    "        self._decay_factor = decay_factor\n",
    "        self._counter = -1\n",
    "        self._lr = initial_lr\n",
    "\n",
    "    def step(self) -> float:\n",
    "        self._counter += 1\n",
    "\n",
    "        if self._counter in self._decay_steps:\n",
    "            self._lr *= self._decay_factor\n",
    "\n",
    "        return self._lr\n",
    "\n",
    "\n",
    "def train(\n",
    "    num_steps: int,\n",
    "    X: Tensor,\n",
    "    Y: Tensor,\n",
    "    parameters: list[Tensor],\n",
    "    scheduler: Scheduler,\n",
    "    verbose: bool = True,\n",
    ") -> None:\n",
    "    for step in range(num_steps):\n",
    "        learning_rate = scheduler.step()\n",
    "        loss = forward(X, Y, parameters)\n",
    "\n",
    "        if verbose:\n",
    "            print(f\"Step {step}: loss = {loss.item()}\")\n",
    "\n",
    "        for param in parameters:\n",
    "            param.grad = None\n",
    "\n",
    "        loss.backward()\n",
    "\n",
    "        # Backward pass\n",
    "        for param in parameters:\n",
    "            param.data -= learning_rate * param.grad\n",
    "\n",
    "    if not verbose:\n",
    "        print(f\"Final loss = {loss.item()}\")\n"
   ]
  },
  {
   "cell_type": "code",
   "execution_count": 39,
   "metadata": {},
   "outputs": [
    {
     "name": "stdout",
     "output_type": "stream",
     "text": [
      "Final loss = 2.384399652481079\n"
     ]
    }
   ],
   "source": [
    "X, Y = create_dataset(words, string_to_integer)\n",
    "parameters = initialize_parameters(num_tokens=len(string_to_integer))\n",
    "scheduler = Scheduler(initial_lr=1, decay_steps=[5, 18000])\n",
    "train(\n",
    "    num_steps=20000, X=X, Y=Y, parameters=parameters, scheduler=scheduler, verbose=False\n",
    ")\n"
   ]
  },
  {
   "attachments": {},
   "cell_type": "markdown",
   "metadata": {},
   "source": [
    "After running the above cell multiple times, we can see that it's not always better than training with a fixed LR. The performance generally fluctuates. Still, the bigram model in the last notebook achieved 2.45, and we usually get a better loss than that here. Still, we cannot say that our model is better than the bigram model based on this information, because we can only see the training loss. It might very well happen that the model severely overfits to the training set (~memorizes it verbatim), and that's why it achieves a better loss. We need to check how well the learned rules of the model *generalize*.\n",
    "\n",
    "Let's create a train/dev (validation)/test split. We should only evavaluate our model on the test set very sparingly and very few times. This is because every single time we evaluate our model on the test set we learn something from it. I.e., we start overfitting to the test set characteristics as well."
   ]
  },
  {
   "cell_type": "code",
   "execution_count": 40,
   "metadata": {},
   "outputs": [],
   "source": [
    "random.shuffle(words)\n",
    "n1 = int(0.8 * len(words))\n",
    "n2 = int(0.9 * len(words))\n",
    "\n",
    "Xtr, Ytr = create_dataset(words=words[:n1], string_to_integer=string_to_integer)\n",
    "Xdev, Ydev = create_dataset(words=words[n1:n2], string_to_integer=string_to_integer)\n",
    "Xte, Yte = create_dataset(words=words[n2:], string_to_integer=string_to_integer)\n"
   ]
  },
  {
   "cell_type": "code",
   "execution_count": 41,
   "metadata": {},
   "outputs": [],
   "source": [
    "def train(\n",
    "    num_steps: int,\n",
    "    Xtr: Tensor,\n",
    "    Ytr: Tensor,\n",
    "    Xdev: Tensor,\n",
    "    Ydev: Tensor,\n",
    "    parameters: list[Tensor],\n",
    "    scheduler: Scheduler,\n",
    "    val_freq: int = 1000,\n",
    "    batch_size: int = 512,\n",
    ") -> None:\n",
    "    for step in range(num_steps):\n",
    "        learning_rate = scheduler.step()\n",
    "        loss = forward(Xtr, Ytr, parameters, batch_size=batch_size)\n",
    "\n",
    "        if step % val_freq == 0:\n",
    "            with torch.no_grad():\n",
    "                val_loss = forward(Xdev, Ydev, parameters, batch_size=len(Xdev)).item()\n",
    "            print(\n",
    "                f\"Step {step}: training loss = {loss.item()}, validation loss = {val_loss}\"\n",
    "            )\n",
    "\n",
    "        for param in parameters:\n",
    "            param.grad = None\n",
    "\n",
    "        loss.backward()\n",
    "\n",
    "        # Backward pass\n",
    "        for param in parameters:\n",
    "            param.data -= learning_rate * param.grad\n",
    "\n",
    "    loss = forward(Xtr, Ytr, parameters, batch_size=len(Xtr))\n",
    "    with torch.no_grad():\n",
    "        val_loss = forward(Xdev, Ydev, parameters, batch_size=len(Xdev)).item()\n",
    "    print(f\"Final training loss = {loss.item()}, validation loss = {val_loss}\")\n"
   ]
  },
  {
   "cell_type": "code",
   "execution_count": 42,
   "metadata": {},
   "outputs": [
    {
     "name": "stdout",
     "output_type": "stream",
     "text": [
      "Step 0: training loss = 19.007413864135742, validation loss = 19.446435928344727\n",
      "Step 5000: training loss = 2.45619535446167, validation loss = 2.4714863300323486\n",
      "Step 10000: training loss = 2.414703369140625, validation loss = 2.436706781387329\n",
      "Step 15000: training loss = 2.1490132808685303, validation loss = 2.4215428829193115\n",
      "Step 20000: training loss = 2.1514761447906494, validation loss = 2.357757091522217\n",
      "Step 25000: training loss = 2.375187635421753, validation loss = 2.3561882972717285\n",
      "Step 30000: training loss = 2.0933547019958496, validation loss = 2.354271650314331\n",
      "Step 35000: training loss = 2.1225461959838867, validation loss = 2.3492422103881836\n",
      "Step 40000: training loss = 2.374159812927246, validation loss = 2.3495259284973145\n",
      "Step 45000: training loss = 2.5334131717681885, validation loss = 2.3474912643432617\n",
      "Step 50000: training loss = 2.198753595352173, validation loss = 2.3458380699157715\n",
      "Step 55000: training loss = 2.5449318885803223, validation loss = 2.341794013977051\n",
      "Step 60000: training loss = 2.214048147201538, validation loss = 2.3412530422210693\n",
      "Step 65000: training loss = 2.400311231613159, validation loss = 2.3407094478607178\n",
      "Step 70000: training loss = 2.4041545391082764, validation loss = 2.3407480716705322\n",
      "Step 75000: training loss = 2.473127841949463, validation loss = 2.3406200408935547\n",
      "Step 80000: training loss = 2.3850300312042236, validation loss = 2.3403499126434326\n",
      "Step 85000: training loss = 2.2617738246917725, validation loss = 2.340451717376709\n",
      "Step 90000: training loss = 2.3326711654663086, validation loss = 2.3399617671966553\n",
      "Step 95000: training loss = 2.343001127243042, validation loss = 2.339825391769409\n",
      "Final training loss = 2.331535577774048, validation loss = 2.339454412460327\n"
     ]
    }
   ],
   "source": [
    "parameters = initialize_parameters(num_tokens=len(string_to_integer))\n",
    "scheduler = Scheduler(initial_lr=1, decay_steps=[5, 18000, 50000])\n",
    "train(\n",
    "    num_steps=100000,\n",
    "    Xtr=Xtr,\n",
    "    Ytr=Ytr,\n",
    "    Xdev=Xdev,\n",
    "    Ydev=Ydev,\n",
    "    parameters=parameters,\n",
    "    scheduler=scheduler,\n",
    "    val_freq=5000,\n",
    "    batch_size=64,\n",
    ")\n"
   ]
  },
  {
   "attachments": {},
   "cell_type": "markdown",
   "metadata": {},
   "source": [
    "The training and dev loss are about equal, so we're not overfitting. This model is not powerful enough to purely memorize the dataset. Here we're actually underfitting, because the network is so small. We can fit the dataset better by scaling up our model, but we have to be careful to not overfit.\n",
    "\n",
    "Note: If we use the entire dataset for each update, training becomes prohibitively slow. When using minbatches, the final loss fluctuates quite a bit, even if we choose a high batch size (e.g., 4096).\n",
    "\n",
    "Let's scale up our model and see first how it behaves with a fixed learning rate."
   ]
  },
  {
   "cell_type": "code",
   "execution_count": 43,
   "metadata": {},
   "outputs": [],
   "source": [
    "def initialize_parameters(num_tokens: int) -> list[Tensor]:\n",
    "    g = torch.Generator().manual_seed(2147483647)\n",
    "    C = torch.randn(num_tokens, 2, generator=g, requires_grad=True)\n",
    "    W1 = torch.randn(6, 500, generator=g, requires_grad=True)\n",
    "    b1 = torch.randn(500, generator=g, requires_grad=True)\n",
    "    W2 = torch.randn(500, num_tokens, generator=g, requires_grad=True)\n",
    "    b2 = torch.randn(num_tokens, generator=g, requires_grad=True)\n",
    "\n",
    "    return [C, W1, b1, W2, b2]\n"
   ]
  },
  {
   "cell_type": "code",
   "execution_count": 44,
   "metadata": {},
   "outputs": [
    {
     "data": {
      "image/png": "[encoded data removed]",
      "text/plain": [
       "<Figure size 640x480 with 1 Axes>"
      ]
     },
     "metadata": {},
     "output_type": "display_data"
    }
   ],
   "source": [
    "parameters = initialize_parameters(num_tokens=len(string_to_integer))\n",
    "C, W1, b1, W2, b2 = parameters\n",
    "\n",
    "lossi = []\n",
    "stepi = list(range(30000))\n",
    "\n",
    "for i in range(30000):\n",
    "    idx = torch.randint(0, X.shape[0], (32,))\n",
    "\n",
    "    emb = C[X[idx]]\n",
    "    h = torch.tanh(emb.view(-1, 6) @ W1 + b1)\n",
    "    logits = h @ W2 + b2\n",
    "    loss = F.cross_entropy(logits, Y[idx])\n",
    "\n",
    "    for param in parameters:\n",
    "        param.grad = None\n",
    "    loss.backward()\n",
    "\n",
    "    lr = 0.1\n",
    "\n",
    "    for param in parameters:\n",
    "        param.data -= lr * param.grad\n",
    "\n",
    "    # Track stats\n",
    "    lossi.append(loss.item())\n",
    "\n",
    "_ = plt.plot(stepi, lossi)\n"
   ]
  },
  {
   "attachments": {},
   "cell_type": "markdown",
   "metadata": {},
   "source": [
    "There's quite a bit of \"thickness\" to the plot. This is because we are optimizing over mini-batches, so the loss fluctuates quite a bit simply because of different mini-batches. As we also made the network bigger, it will generally need more steps."
   ]
  },
  {
   "cell_type": "code",
   "execution_count": 45,
   "metadata": {},
   "outputs": [
    {
     "name": "stdout",
     "output_type": "stream",
     "text": [
      "Step 0: training loss = 38.79114532470703, validation loss = 35.912689208984375\n",
      "Step 5000: training loss = 3.3986098766326904, validation loss = 3.1375415325164795\n",
      "Step 10000: training loss = 2.751959800720215, validation loss = 2.7457165718078613\n",
      "Step 15000: training loss = 2.4897124767303467, validation loss = 2.821732759475708\n",
      "Step 20000: training loss = 2.2685723304748535, validation loss = 2.426490068435669\n",
      "Step 25000: training loss = 2.2788336277008057, validation loss = 2.397268533706665\n",
      "Step 30000: training loss = 2.317457914352417, validation loss = 2.398296356201172\n",
      "Step 35000: training loss = 2.408932685852051, validation loss = 2.382577896118164\n",
      "Step 40000: training loss = 2.4099040031433105, validation loss = 2.373685836791992\n",
      "Step 45000: training loss = 2.2173573970794678, validation loss = 2.3585045337677\n",
      "Step 50000: training loss = 2.2197988033294678, validation loss = 2.360724925994873\n",
      "Step 55000: training loss = 2.1227633953094482, validation loss = 2.296186923980713\n",
      "Step 60000: training loss = 2.0162696838378906, validation loss = 2.3001868724823\n",
      "Step 65000: training loss = 2.5006065368652344, validation loss = 2.296896457672119\n",
      "Step 70000: training loss = 2.3860092163085938, validation loss = 2.2889137268066406\n",
      "Step 75000: training loss = 2.284440279006958, validation loss = 2.2843387126922607\n",
      "Step 80000: training loss = 2.2212061882019043, validation loss = 2.2726142406463623\n",
      "Step 85000: training loss = 2.4088804721832275, validation loss = 2.277012348175049\n",
      "Step 90000: training loss = 2.313023567199707, validation loss = 2.258396863937378\n",
      "Step 95000: training loss = 2.3560783863067627, validation loss = 2.3055193424224854\n",
      "Final training loss = 2.249492645263672, validation loss = 2.2709310054779053\n"
     ]
    }
   ],
   "source": [
    "parameters = initialize_parameters(num_tokens=len(string_to_integer))\n",
    "scheduler = Scheduler(\n",
    "    initial_lr=1, decay_steps=[5, 600, 18000, 50000], decay_factor=0.5\n",
    ")\n",
    "train(\n",
    "    num_steps=100000,\n",
    "    Xtr=Xtr,\n",
    "    Ytr=Ytr,\n",
    "    Xdev=Xdev,\n",
    "    Ydev=Ydev,\n",
    "    parameters=parameters,\n",
    "    scheduler=scheduler,\n",
    "    val_freq=5000,\n",
    "    batch_size=64,\n",
    ")\n"
   ]
  },
  {
   "attachments": {},
   "cell_type": "markdown",
   "metadata": {},
   "source": [
    "There's not *so* much improvement, even after tweaking the rates a bit. It could be that the bottleneck of the model is the 2-dimensional embedding layer. Let's make that bigger too. But before we do that, let's visualize the character embeddings our model learned."
   ]
  },
  {
   "cell_type": "code",
   "execution_count": 46,
   "metadata": {},
   "outputs": [
    {
     "data": {
      "image/png": "[encoded data removed]",
      "text/plain": [
       "<Figure size 800x800 with 1 Axes>"
      ]
     },
     "metadata": {},
     "output_type": "display_data"
    }
   ],
   "source": [
    "plt.figure(figsize=(8, 8))\n",
    "plt.grid(\"minor\")\n",
    "plt.scatter(C[:, 0].data, C[:, 1].data, s=200)\n",
    "for i in range(C.shape[0]):\n",
    "    plt.text(\n",
    "        C[i, 0].item(),\n",
    "        C[i, 1].item(),\n",
    "        integer_to_string[i],\n",
    "        ha=\"center\",\n",
    "        va=\"center\",\n",
    "        color=\"white\",\n",
    "    )\n"
   ]
  },
  {
   "attachments": {},
   "cell_type": "markdown",
   "metadata": {},
   "source": [
    "Seemingly, the network managed to cluster the vowels closer. It believes that these tokens are quite similar. p and g have special embedding vectors that stand out. There is a little bit of structure here and this is definitely not random.\n",
    "\n",
    "By scaling up the embedding size, we lose the ability to visualize them. However, we expect the larger embeddings to capture the character's semantic meaning much better, thereby resolving the current bottleneck."
   ]
  },
  {
   "cell_type": "code",
   "execution_count": 64,
   "metadata": {},
   "outputs": [
    {
     "name": "stdout",
     "output_type": "stream",
     "text": [
      "Step 0: training loss = 22.98038101196289, validation loss = 22.816099166870117\n",
      "Step 5000: training loss = 3.4159483909606934, validation loss = 2.763704776763916\n",
      "Step 10000: training loss = 2.5071725845336914, validation loss = 2.4731125831604004\n",
      "Step 15000: training loss = 2.2573249340057373, validation loss = 2.423353910446167\n",
      "Step 20000: training loss = 2.6320953369140625, validation loss = 2.366960048675537\n",
      "Step 25000: training loss = 2.016991138458252, validation loss = 2.345845937728882\n",
      "Step 30000: training loss = 2.246249198913574, validation loss = 2.304871082305908\n",
      "Step 35000: training loss = 2.1622166633605957, validation loss = 2.281041383743286\n",
      "Step 40000: training loss = 1.97430419921875, validation loss = 2.2995946407318115\n",
      "Step 45000: training loss = 1.9738420248031616, validation loss = 2.2797701358795166\n",
      "Step 50000: training loss = 2.495920181274414, validation loss = 2.2713499069213867\n",
      "Step 55000: training loss = 2.077303171157837, validation loss = 2.287130355834961\n",
      "Step 60000: training loss = 2.029036521911621, validation loss = 2.299309015274048\n",
      "Step 65000: training loss = 2.0275962352752686, validation loss = 2.2738330364227295\n",
      "Step 70000: training loss = 2.1788830757141113, validation loss = 2.253347873687744\n",
      "Step 75000: training loss = 3.3454768657684326, validation loss = 2.2574117183685303\n",
      "Step 80000: training loss = 2.1975817680358887, validation loss = 2.2662954330444336\n",
      "Step 85000: training loss = 2.153982639312744, validation loss = 2.2636921405792236\n",
      "Step 90000: training loss = 2.311411142349243, validation loss = 2.269059181213379\n",
      "Step 95000: training loss = 2.192249059677124, validation loss = 2.2643778324127197\n",
      "Step 100000: training loss = 2.118537664413452, validation loss = 2.265329360961914\n",
      "Step 105000: training loss = 2.337409496307373, validation loss = 2.163517951965332\n",
      "Step 110000: training loss = 2.0838942527770996, validation loss = 2.1575217247009277\n",
      "Step 115000: training loss = 1.9859702587127686, validation loss = 2.1583614349365234\n",
      "Step 120000: training loss = 2.041696310043335, validation loss = 2.1568827629089355\n",
      "Step 125000: training loss = 2.1281771659851074, validation loss = 2.1574888229370117\n",
      "Step 130000: training loss = 2.2450475692749023, validation loss = 2.1551148891448975\n",
      "Step 135000: training loss = 1.9468258619308472, validation loss = 2.157461404800415\n",
      "Step 140000: training loss = 1.9815508127212524, validation loss = 2.155505418777466\n",
      "Step 145000: training loss = 1.833756685256958, validation loss = 2.154421091079712\n",
      "Step 150000: training loss = 2.349961280822754, validation loss = 2.154151678085327\n",
      "Step 155000: training loss = 2.213533639907837, validation loss = 2.15169095993042\n",
      "Step 160000: training loss = 2.3975913524627686, validation loss = 2.152541160583496\n",
      "Step 165000: training loss = 1.8331986665725708, validation loss = 2.1578187942504883\n",
      "Step 170000: training loss = 2.1231021881103516, validation loss = 2.1518397331237793\n",
      "Step 175000: training loss = 2.0597026348114014, validation loss = 2.1547749042510986\n",
      "Step 180000: training loss = 1.8725099563598633, validation loss = 2.152270793914795\n",
      "Step 185000: training loss = 2.5198116302490234, validation loss = 2.1533737182617188\n",
      "Step 190000: training loss = 2.062049388885498, validation loss = 2.1518361568450928\n",
      "Step 195000: training loss = 2.126692771911621, validation loss = 2.1523261070251465\n",
      "Final training loss = 2.071760654449463, validation loss = 2.1539194583892822\n"
     ]
    }
   ],
   "source": [
    "def initialize_parameters(num_tokens: int) -> list[Tensor]:\n",
    "    g = torch.Generator().manual_seed(2147483647)\n",
    "    C = torch.randn(num_tokens, 50, generator=g, requires_grad=True)\n",
    "    W1 = torch.randn(150, 150, generator=g, requires_grad=True)\n",
    "    b1 = torch.randn(150, generator=g, requires_grad=True)\n",
    "    W2 = torch.randn(150, num_tokens, generator=g, requires_grad=True)\n",
    "    b2 = torch.randn(num_tokens, generator=g, requires_grad=True)\n",
    "\n",
    "    return [C, W1, b1, W2, b2]\n",
    "\n",
    "\n",
    "parameters = initialize_parameters(num_tokens=len(string_to_integer))\n",
    "scheduler = Scheduler(initial_lr=0.1, decay_steps=[100000], decay_factor=0.1)\n",
    "train(\n",
    "    num_steps=200000,\n",
    "    Xtr=Xtr,\n",
    "    Ytr=Ytr,\n",
    "    Xdev=Xdev,\n",
    "    Ydev=Ydev,\n",
    "    parameters=parameters,\n",
    "    scheduler=scheduler,\n",
    "    val_freq=5000,\n",
    "    batch_size=32,\n",
    ")\n"
   ]
  },
  {
   "attachments": {},
   "cell_type": "markdown",
   "metadata": {},
   "source": [
    "This looks notably better than before, so it *is* the case that the embedding size was holding us back. But now we can see that the training and validation performance start to slowly depart. The number of parameters might be large enough that we slowly start to overfit.\n",
    "\n",
    "In practice, we run lots of experiments and we choose which hyperparameter setting gives us the best final dev performance. Once we find that, we evaluate our model on the test set **once**. That's the nubmer we report in our paper.\n",
    "\n",
    "There are many ways to go from here. We can keep tuning the optimization hyperparameters, we can play with the neural network architecture (increase the number of neurons in the hidden layer, in the embedding, etc.), or we can play with the context size as well. These could all further improve the loss.\n",
    "\n",
    "Note: If we just increase both the embedding size and the hidden layer size without thinking (e.g. embedding size 50, hidden size 500), we are likely to see quite severe overfitting. In this case, actually *decreasing* the hidden size and increasing the embedding size until a certain threshold seems to work best.\n",
    "\n",
    "Increasing the length of the context would also decrease the loss further."
   ]
  },
  {
   "cell_type": "code",
   "execution_count": 67,
   "metadata": {},
   "outputs": [
    {
     "data": {
      "text/plain": [
       "['carmahzati',\n",
       " 'hari',\n",
       " 'kim',\n",
       " 'shreet',\n",
       " 'khalessa',\n",
       " 'jazhuel',\n",
       " 'deliah',\n",
       " 'jareen',\n",
       " 'nellara',\n",
       " 'chriha']"
      ]
     },
     "execution_count": 67,
     "metadata": {},
     "output_type": "execute_result"
    }
   ],
   "source": [
    "def sample(parameters: list[Tensor], num_samples: int) -> list[str]:\n",
    "    C, W1, b1, W2, b2 = parameters\n",
    "    g = torch.Generator().manual_seed(2147483657)\n",
    "\n",
    "    out_list = []\n",
    "\n",
    "    for _ in range(num_samples):\n",
    "        gen_list = []\n",
    "        context = [0] * block_size\n",
    "        while True:\n",
    "            emb = C[context]  # (block_size, d)\n",
    "            h = torch.tanh(emb.view(1, -1) @ W1 + b1)\n",
    "            logits = h @ W2 + b2\n",
    "            probs = F.softmax(logits, dim=1)\n",
    "            idx = torch.multinomial(probs, num_samples=1, generator=g).item()\n",
    "            context = context[1:] + [idx]\n",
    "\n",
    "            if idx == 0:\n",
    "                break\n",
    "\n",
    "            gen_list.append(idx)\n",
    "        out_list.append(\"\".join(integer_to_string[integer] for integer in gen_list))\n",
    "\n",
    "    return out_list\n",
    "\n",
    "\n",
    "sample(parameters=parameters, num_samples=10)\n"
   ]
  },
  {
   "attachments": {},
   "cell_type": "markdown",
   "metadata": {},
   "source": [
    "Exercise: The notebook was not careful with the initialization of the network.\n",
    "\n",
    "(a) What is the loss you woudl expect if the predicted probabilities at initialization were perfectly uniform? What loss do we achieve?\n",
    "\n",
    "$$p(\\text{GT class} \\mid X) = \\frac{1}{27} \\implies -\\log p(\\text{GT class} \\mid X) = \\log 27 \\approx 3.2958$$"
   ]
  },
  {
   "cell_type": "code",
   "execution_count": 69,
   "metadata": {},
   "outputs": [
    {
     "data": {
      "text/plain": [
       "22.816099166870117"
      ]
     },
     "execution_count": 69,
     "metadata": {},
     "output_type": "execute_result"
    }
   ],
   "source": [
    "parameters = initialize_parameters(num_tokens=len(string_to_integer))\n",
    "with torch.no_grad():\n",
    "    val_loss = forward(Xdev, Ydev, parameters, batch_size=len(Xdev)).item()\n",
    "val_loss\n"
   ]
  },
  {
   "attachments": {},
   "cell_type": "markdown",
   "metadata": {},
   "source": [
    "(b) Can you tune the initialization to get a starting loss that is much more similar to the one in (a)?"
   ]
  },
  {
   "cell_type": "code",
   "execution_count": 104,
   "metadata": {},
   "outputs": [],
   "source": [
    "def initialize_parameters2(num_tokens: int) -> list[Tensor]:\n",
    "    g = torch.Generator().manual_seed(2147483647)\n",
    "    C = torch.randn(num_tokens, 50, generator=g, requires_grad=True)\n",
    "    W1 = torch.randn(150, 150, generator=g, requires_grad=True)\n",
    "    b1 = torch.zeros(150, requires_grad=True)  # Set biases to zero\n",
    "    W2 = torch.randn(150, num_tokens, generator=g, requires_grad=True)\n",
    "    b2 = torch.zeros(num_tokens, requires_grad=True)\n",
    "\n",
    "    return [C, W1, b1, W2, b2]\n",
    "\n",
    "\n",
    "def initialize_parameters3(num_tokens: int) -> list[Tensor]:\n",
    "    \"\"\"Xavier / Glorot initialization.\"\"\"\n",
    "    g = torch.Generator().manual_seed(2147483647)\n",
    "    C = (\n",
    "        torch.randn(num_tokens, 50, generator=g, requires_grad=True)\n",
    "        * (2 / (num_tokens + 50)) ** 0.5\n",
    "    )\n",
    "    W1 = (\n",
    "        torch.randn(150, 150, generator=g, requires_grad=True)\n",
    "        * (2 / (150 + 150)) ** 0.5\n",
    "    )\n",
    "    b1 = torch.zeros(150, requires_grad=True)\n",
    "    W2 = (\n",
    "        torch.randn(150, num_tokens, generator=g, requires_grad=True)\n",
    "        * (2 / (150 + num_tokens)) ** 0.5\n",
    "    )\n",
    "    b2 = torch.zeros(num_tokens, requires_grad=True)\n",
    "\n",
    "    return [C, W1, b1, W2, b2]\n"
   ]
  },
  {
   "cell_type": "code",
   "execution_count": 105,
   "metadata": {},
   "outputs": [
    {
     "data": {
      "text/plain": [
       "24.790441513061523"
      ]
     },
     "execution_count": 105,
     "metadata": {},
     "output_type": "execute_result"
    }
   ],
   "source": [
    "parameters = initialize_parameters2(num_tokens=len(string_to_integer))\n",
    "with torch.no_grad():\n",
    "    val_loss = forward(Xdev, Ydev, parameters, batch_size=len(Xdev)).item()\n",
    "val_loss\n"
   ]
  },
  {
   "cell_type": "code",
   "execution_count": 106,
   "metadata": {},
   "outputs": [
    {
     "data": {
      "text/plain": [
       "3.31752872467041"
      ]
     },
     "execution_count": 106,
     "metadata": {},
     "output_type": "execute_result"
    }
   ],
   "source": [
    "parameters = initialize_parameters3(num_tokens=len(string_to_integer))\n",
    "with torch.no_grad():\n",
    "    val_loss = forward(Xdev, Ydev, parameters, batch_size=len(Xdev)).item()\n",
    "val_loss\n"
   ]
  },
  {
   "attachments": {},
   "cell_type": "markdown",
   "metadata": {},
   "source": [
    "This is nearly exactly a uniform random prediction's loss."
   ]
  }
 ],
 "metadata": {
  "kernelspec": {
   "display_name": "karpathy-nn-L00z48Da-py3.10",
   "language": "python",
   "name": "python3"
  },
  "language_info": {
   "codemirror_mode": {
    "name": "ipython",
    "version": 3
   },
   "file_extension": ".py",
   "mimetype": "text/x-python",
   "name": "python",
   "nbconvert_exporter": "python",
   "pygments_lexer": "ipython3",
   "version": "3.10.10"
  },
  "orig_nbformat": 4,
  "vscode": {
   "interpreter": {
    "hash": "1777287656d261b264802db79277cf28c62daaee414facac31cc4d9617e447f5"
   }
  }
 },
 "nbformat": 4,
 "nbformat_minor": 2
}
