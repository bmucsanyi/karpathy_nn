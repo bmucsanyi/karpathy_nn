{
 "cells": [
  {
   "attachments": {},
   "cell_type": "markdown",
   "metadata": {},
   "source": [
    "Now we will complexify the MLP architecture we have been using so far. We will take more characters as input, and we won't feed them together into a single hidden layer (because it squashes information too quickly), rather we will make a deeper model that progressively fuses this information to make its guess about the next character in the sequence. By doing so, we will basically arrive at the [WaveNet](https://arxiv.org/abs/1609.03499) architecture.\n",
    "- WaveNet is also a language model basically, but it tries to predict audio sequences instead of character/word sequences.\n",
    "\n",
    "The largest bottleneck of the current model is that it squashes all information from the characters into a single layer at the very beginning of the forward pass. It doesn't make sense to squash information so quickly. In WaveNet, the per-character information is slowly fused into a global representation, iteratively, in a hierarchical fashion. We fuse bi-gram information first, then we fuse every pair of those as well, and we continue until we arrive at a single representation. Let's implement this."
   ]
  },
  {
   "cell_type": "code",
   "execution_count": 25,
   "metadata": {},
   "outputs": [],
   "source": [
    "import torch\n",
    "from torch import Tensor\n",
    "import torch.nn.functional as F\n",
    "import matplotlib.pyplot as plt\n",
    "import random\n",
    "\n",
    "from karpathy_nn.makemore.data.load_data import load_names\n"
   ]
  },
  {
   "cell_type": "code",
   "execution_count": 26,
   "metadata": {},
   "outputs": [],
   "source": [
    "random.seed(42)\n",
    "_ = torch.manual_seed(42)\n"
   ]
  },
  {
   "cell_type": "code",
   "execution_count": 27,
   "metadata": {},
   "outputs": [
    {
     "name": "stdout",
     "output_type": "stream",
     "text": [
      "32033\n",
      "15\n",
      "['emma', 'olivia', 'ava', 'isabella', 'sophia', 'charlotte', 'mia', 'amelia']\n"
     ]
    }
   ],
   "source": [
    "# Read in all the words\n",
    "words = load_names()\n",
    "print(len(words))\n",
    "print(max(len(word) for word in words))\n",
    "print(words[:8])\n"
   ]
  },
  {
   "cell_type": "code",
   "execution_count": 28,
   "metadata": {},
   "outputs": [
    {
     "name": "stdout",
     "output_type": "stream",
     "text": [
      "{1: 'a', 2: 'b', 3: 'c', 4: 'd', 5: 'e', 6: 'f', 7: 'g', 8: 'h', 9: 'i', 10: 'j', 11: 'k', 12: 'l', 13: 'm', 14: 'n', 15: 'o', 16: 'p', 17: 'q', 18: 'r', 19: 's', 20: 't', 21: 'u', 22: 'v', 23: 'w', 24: 'x', 25: 'y', 26: 'z', 0: '.'}\n",
      "27\n"
     ]
    }
   ],
   "source": [
    "# Build the vocabuilary of characters and mappings to/from integers\n",
    "characters = sorted(list(set(\"\".join(words))))\n",
    "string_to_integer = {string: integer + 1 for integer, string in enumerate(characters)}\n",
    "string_to_integer[\".\"] = 0\n",
    "integer_to_string = {integer: string for string, integer in string_to_integer.items()}\n",
    "num_tokens = len(integer_to_string)\n",
    "print(integer_to_string)\n",
    "print(num_tokens)\n"
   ]
  },
  {
   "cell_type": "code",
   "execution_count": 29,
   "metadata": {},
   "outputs": [],
   "source": [
    "# Shuffle the words\n",
    "random.shuffle(words)\n"
   ]
  },
  {
   "cell_type": "code",
   "execution_count": 30,
   "metadata": {},
   "outputs": [
    {
     "name": "stdout",
     "output_type": "stream",
     "text": [
      "torch.Size([182625, 8]) torch.Size([182625])\n",
      "torch.Size([22655, 8]) torch.Size([22655])\n",
      "torch.Size([22866, 8]) torch.Size([22866])\n"
     ]
    }
   ],
   "source": [
    "# Build the dataset\n",
    "block_size = (\n",
    "    8  # Context length: how many characters do we take to predict the next one?\n",
    ")\n",
    "\n",
    "\n",
    "def build_dataset(words: list[str]) -> tuple[Tensor, Tensor]:\n",
    "    X, Y = [], []\n",
    "\n",
    "    for word in words:\n",
    "        context = [0] * block_size\n",
    "        for character in word + \".\":\n",
    "            idx = string_to_integer[character]\n",
    "            X.append(context)\n",
    "            Y.append(idx)\n",
    "            context = context[1:] + [idx]  # Crop and append\n",
    "\n",
    "    X = torch.tensor(X)\n",
    "    Y = torch.tensor(Y)\n",
    "    print(X.shape, Y.shape)\n",
    "    return X, Y\n",
    "\n",
    "\n",
    "n1 = int(0.8 * len(words))\n",
    "n2 = int(0.9 * len(words))\n",
    "Xtr, Ytr = build_dataset(words[:n1])  # 80%\n",
    "Xdev, Ydev = build_dataset(words[n1:n2])  # 10%\n",
    "Xte, Yte = build_dataset(words[n2:])  # 10%\n"
   ]
  },
  {
   "cell_type": "code",
   "execution_count": 31,
   "metadata": {},
   "outputs": [
    {
     "name": "stdout",
     "output_type": "stream",
     "text": [
      "........ --> y\n",
      ".......y --> u\n",
      "......yu --> h\n",
      ".....yuh --> e\n",
      "....yuhe --> n\n",
      "...yuhen --> g\n",
      "..yuheng --> .\n",
      "........ --> d\n",
      ".......d --> i\n",
      "......di --> o\n",
      ".....dio --> n\n",
      "....dion --> d\n",
      "...diond --> r\n",
      "..diondr --> e\n",
      ".diondre --> .\n",
      "........ --> x\n",
      ".......x --> a\n",
      "......xa --> v\n",
      ".....xav --> i\n",
      "....xavi --> e\n"
     ]
    }
   ],
   "source": [
    "for x, y in zip(Xtr[:20], Ytr[:20]):\n",
    "    print(\n",
    "        \"\".join(integer_to_string[idx.item()] for idx in x),\n",
    "        \"-->\",\n",
    "        integer_to_string[y.item()],\n",
    "    )\n"
   ]
  },
  {
   "cell_type": "code",
   "execution_count": 46,
   "metadata": {},
   "outputs": [],
   "source": [
    "# Near copy paste of the layers we have developed in Part 3\n",
    "# We're basically reimplementing torch.nn.\n",
    "# Going forward, we'll use torch.nn directly.\n",
    "\n",
    "# Be careful with the torch documentation, it's often incorrect.\n",
    "\n",
    "# Always prototype models in a jupyter notebook to make sure that\n",
    "# the shapes and the implementation is correct. Once we make\n",
    "# sure everything is correct, we can take that code, scale it up,\n",
    "# and train on a cluster from VSCode, for example. Andrej does that.\n",
    "\n",
    "# -----------------------------------------------------------------------------------------------\n",
    "class Linear:\n",
    "    def __init__(self, fan_in: int, fan_out: int, bias: bool = True) -> None:\n",
    "        self.weight = (\n",
    "            torch.randn((fan_in, fan_out)) / fan_in**0.5\n",
    "        )  # note: kaiming init\n",
    "        self.bias = torch.zeros(fan_out) if bias else None\n",
    "\n",
    "    def __call__(self, x: Tensor) -> Tensor:\n",
    "        self.out = x @ self.weight\n",
    "        if self.bias is not None:\n",
    "            self.out += self.bias\n",
    "        return self.out\n",
    "\n",
    "    def parameters(self) -> list[Tensor]:\n",
    "        return [self.weight] + ([] if self.bias is None else [self.bias])\n",
    "\n",
    "\n",
    "# -----------------------------------------------------------------------------------------------\n",
    "class BatchNorm1d:\n",
    "    def __init__(self, dim: int, eps: float = 1e-5, momentum: float = 0.1) -> None:\n",
    "        self.eps = eps\n",
    "        self.momentum = momentum\n",
    "        self.training = True\n",
    "        # Parameters (trained with backprop)\n",
    "        self.gamma = torch.ones(dim)\n",
    "        self.beta = torch.zeros(dim)\n",
    "        # Buffers (trained with a running 'momentum update')\n",
    "        self.running_mean = torch.zeros(dim)\n",
    "        self.running_var = torch.ones(dim)\n",
    "\n",
    "    def __call__(self, x: Tensor) -> Tensor:\n",
    "        # Calculate the forward pass\n",
    "        if self.training:  # Forgetting this flag leads to a lot of bugs\n",
    "            if x.ndim == 2:\n",
    "                dim = 0\n",
    "            elif x.ndim == 3:\n",
    "                # BUG previously: we only flattened with dim = 0\n",
    "                # for a 3D input. The running mean was\n",
    "                # (1, 4, hidden_dim) instead of just\n",
    "                # (1, hidden_dim)! We were maintaining\n",
    "                # statistics for all 4 positions independently.\n",
    "                # We want to average over all of them.\n",
    "                # The vanilla BatchNorm1d can't do this exactly.\n",
    "                # We expect (N, C) or (N, L, C).\n",
    "                # It expects (N, C) or (N, C, L).\n",
    "                # We expect the network to perform a tiny bit better\n",
    "                # after the bugfix, because now we estimate a single\n",
    "                # mean, std from more samples.\n",
    "                dim = (0, 1)\n",
    "\n",
    "            # For a 3D input, this is (1, 1, dim_hidden).\n",
    "            # For a 2D input, this is (1, dim_hidden).\n",
    "            xmean = x.mean(dim, keepdim=True)  # Batch mean\n",
    "            xvar = x.var(dim, keepdim=True)  # Batch variance\n",
    "        else:\n",
    "            xmean = self.running_mean\n",
    "            xvar = self.running_var\n",
    "        xhat = (x - xmean) / torch.sqrt(xvar + self.eps)  # Normalize to unit variance\n",
    "        self.out = self.gamma * xhat + self.beta\n",
    "        # Update the buffers\n",
    "        if self.training:\n",
    "            with torch.no_grad():\n",
    "                self.running_mean = (\n",
    "                    1 - self.momentum\n",
    "                ) * self.running_mean + self.momentum * xmean\n",
    "                self.running_var = (\n",
    "                    1 - self.momentum\n",
    "                ) * self.running_var + self.momentum * xvar\n",
    "        return self.out\n",
    "\n",
    "    def parameters(self) -> list[Tensor]:\n",
    "        return [self.gamma, self.beta]\n",
    "\n",
    "\n",
    "# -----------------------------------------------------------------------------------------------\n",
    "class Tanh:\n",
    "    def __call__(self, x: Tensor) -> Tensor:\n",
    "        self.out = torch.tanh(x)\n",
    "        return self.out\n",
    "\n",
    "    def parameters(self) -> list[Tensor]:\n",
    "        return []\n",
    "\n",
    "\n",
    "# -----------------------------------------------------------------------------------------------\n",
    "class Embedding:  # Also in PyTorch\n",
    "    def __init__(self, num_embeddings: int, embedding_dim: int) -> None:\n",
    "        self.weight = torch.randn((num_embeddings, embedding_dim))\n",
    "\n",
    "    def __call__(self, idx: Tensor) -> Tensor:\n",
    "        self.out = self.weight[idx]\n",
    "        return self.out\n",
    "\n",
    "    def parameters(self) -> list[Tensor]:\n",
    "        return [self.weight]\n",
    "\n",
    "\n",
    "# -----------------------------------------------------------------------------------------------\n",
    "# n = 2\n",
    "# [1] [2] [3] [4] [5] [6] [7] [8]\n",
    "# [1 2] [3 4] [5 6] [7 8]  # Process in parallel\n",
    "# [1 2 3 4] [5 6 7 8]\n",
    "# [1 2 3 4 5 6 7 8]\n",
    "\n",
    "# (32, 8, 10) -> (32, 4, 20)\n",
    "\n",
    "# One way:\n",
    "# torch.cat([e[:, ::2, :], e[:, 1::2, :]], dim=2)\n",
    "\n",
    "# Other, equivalent way:\n",
    "# e.view(32, 4, 20)\n",
    "\n",
    "class FlattenConsecutive:\n",
    "    def __init__(self, n: int) -> None:\n",
    "        self.n = n\n",
    "\n",
    "    def __call__(self, x: Tensor) -> Tensor:\n",
    "        B, T, C = x.shape\n",
    "        x = x.view(B, T // self.n, C * self.n)\n",
    "        if x.shape[1] == 1:\n",
    "            x = x.squeeze(1)\n",
    "        self.out = x\n",
    "        return self.out\n",
    "\n",
    "    def parameters(self) -> list[Tensor]:\n",
    "        return []\n",
    "\n",
    "\n",
    "# -----------------------------------------------------------------------------------------------\n",
    "class Sequential:\n",
    "    def __init__(self, layers: list) -> None:\n",
    "        self.layers = layers\n",
    "\n",
    "    def __call__(self, x: Tensor) -> Tensor:\n",
    "        for layer in self.layers:\n",
    "            x = layer(x)\n",
    "        self.out = x\n",
    "        return self.out\n",
    "\n",
    "    def parameters(self) -> list[Tensor]:\n",
    "        # Get parameters of all layers and stretch them out into one list\n",
    "        return [parameter for layer in self.layers for parameter in layer.parameters()]\n"
   ]
  },
  {
   "cell_type": "code",
   "execution_count": 33,
   "metadata": {},
   "outputs": [
    {
     "name": "stdout",
     "output_type": "stream",
     "text": [
      "76579\n"
     ]
    }
   ],
   "source": [
    "# Original network\n",
    "# dim_embedding = 10  # Dimensionality of the character embedding vectors\n",
    "# dim_hidden = 300  # Number of neurons in the hidden layer of the MLP\n",
    "# model = Sequential([\n",
    "#   Embedding(vocab_size, dim_embedding),\n",
    "#   FlattenConsecutive(8),\n",
    "#   Linear(dim_embedding * 8, dim_hidden, bias=False),\n",
    "#   BatchNorm1d(dim_hidden),\n",
    "#   Tanh(),\n",
    "#   Linear(dim_hidden, vocab_size),\n",
    "# ])\n",
    "\n",
    "# hierarchical network\n",
    "dim_embedding = 24  # the dimensionality of the character embedding vectors\n",
    "dim_hidden = 128  # the number of neurons in the hidden layer of the MLP\n",
    "model = Sequential(\n",
    "    [\n",
    "        Embedding(num_tokens, dim_embedding),\n",
    "        FlattenConsecutive(2),\n",
    "        Linear(dim_embedding * 2, dim_hidden, bias=False),\n",
    "        BatchNorm1d(dim_hidden),\n",
    "        Tanh(),\n",
    "        FlattenConsecutive(2),\n",
    "        Linear(dim_hidden * 2, dim_hidden, bias=False),\n",
    "        BatchNorm1d(dim_hidden),\n",
    "        Tanh(),\n",
    "        FlattenConsecutive(2),\n",
    "        Linear(dim_hidden * 2, dim_hidden, bias=False),\n",
    "        BatchNorm1d(dim_hidden),\n",
    "        Tanh(),\n",
    "        Linear(dim_hidden, num_tokens),\n",
    "    ]\n",
    ")\n",
    "\n",
    "# Parameter init\n",
    "with torch.no_grad():\n",
    "    model.layers[-1].weight *= 0.1  # Make last layer less confident\n",
    "\n",
    "parameters = model.parameters()\n",
    "print(\n",
    "    sum(parameter.nelement() for parameter in parameters)\n",
    ")  # Total number of parameters\n",
    "for parameter in parameters:\n",
    "    parameter.requires_grad = True\n"
   ]
  },
  {
   "cell_type": "code",
   "execution_count": 34,
   "metadata": {},
   "outputs": [
    {
     "name": "stdout",
     "output_type": "stream",
     "text": [
      "torch.Size([4, 8])\n"
     ]
    }
   ],
   "source": [
    "idx = torch.randint(0, Xtr.shape[0], (4,))\n",
    "Xb, Yb = Xtr[idx], Ytr[idx]\n",
    "logits = model(Xb)\n",
    "print(Xb.shape)"
   ]
  },
  {
   "cell_type": "code",
   "execution_count": 35,
   "metadata": {},
   "outputs": [
    {
     "name": "stdout",
     "output_type": "stream",
     "text": [
      "Embedding            | (4, 8, 24)\n",
      "FlattenConsecutive   | (4, 4, 48)\n",
      "Linear               | (4, 4, 128)\n",
      "BatchNorm1d          | (4, 4, 128)\n",
      "Tanh                 | (4, 4, 128)\n",
      "FlattenConsecutive   | (4, 2, 256)\n",
      "Linear               | (4, 2, 128)\n",
      "BatchNorm1d          | (4, 2, 128)\n",
      "Tanh                 | (4, 2, 128)\n",
      "FlattenConsecutive   | (4, 256)\n",
      "Linear               | (4, 128)\n",
      "BatchNorm1d          | (4, 128)\n",
      "Tanh                 | (4, 128)\n",
      "Linear               | (4, 27)\n"
     ]
    }
   ],
   "source": [
    "for layer in model.layers:\n",
    "    print(f\"{layer.__class__.__name__:<20} | {tuple(layer.out.shape)}\")"
   ]
  },
  {
   "attachments": {},
   "cell_type": "markdown",
   "metadata": {},
   "source": [
    "This is nearly the exact same architecture used in the WaveNet paper, expect they have a total receptive field of size 16, whereas we only have one with size 8."
   ]
  },
  {
   "cell_type": "code",
   "execution_count": 36,
   "metadata": {},
   "outputs": [
    {
     "name": "stdout",
     "output_type": "stream",
     "text": [
      "      0/ 200000: 3.3162\n",
      "  10000/ 200000: 2.0234\n",
      "  20000/ 200000: 1.9302\n",
      "  30000/ 200000: 2.7243\n",
      "  40000/ 200000: 2.1421\n",
      "  50000/ 200000: 1.8537\n",
      "  60000/ 200000: 2.1315\n",
      "  70000/ 200000: 1.8840\n",
      "  80000/ 200000: 1.8958\n",
      "  90000/ 200000: 1.9638\n",
      " 100000/ 200000: 1.7545\n",
      " 110000/ 200000: 1.9990\n",
      " 120000/ 200000: 1.7177\n",
      " 130000/ 200000: 1.9992\n",
      " 140000/ 200000: 1.7734\n",
      " 150000/ 200000: 1.7973\n",
      " 160000/ 200000: 1.9006\n",
      " 170000/ 200000: 1.6530\n",
      " 180000/ 200000: 1.5361\n",
      " 190000/ 200000: 2.0740\n"
     ]
    }
   ],
   "source": [
    "# Same optimization as last time\n",
    "max_steps = 200000\n",
    "batch_size = 32\n",
    "loss_i = []\n",
    "val_loss_i = []\n",
    "val_epoch_i = []\n",
    "\n",
    "for i in range(max_steps):\n",
    "    # Construct mini-batch\n",
    "    ix = torch.randint(0, Xtr.shape[0], (batch_size,))\n",
    "    Xb, Yb = Xtr[ix], Ytr[ix]  # Batch X, Y\n",
    "\n",
    "    # Forward pass\n",
    "    logits = model(Xb)\n",
    "    loss = F.cross_entropy(logits, Yb)  # Loss function\n",
    "\n",
    "    # Backward pass\n",
    "    for p in parameters:\n",
    "        p.grad = None\n",
    "    loss.backward()\n",
    "\n",
    "    if i % 1000 == 0:\n",
    "        with torch.no_grad():\n",
    "            val_logits = model(Xdev)\n",
    "            val_loss = F.cross_entropy(val_logits, Ydev)\n",
    "            val_loss_i.append(val_loss.log10().item())\n",
    "            val_epoch_i.append(i)\n",
    "\n",
    "    # Update: simple SGD\n",
    "    lr = 0.1 if i < 150000 else 0.01  # Step learning rate decay\n",
    "    for p in parameters:\n",
    "        p.data += -lr * p.grad\n",
    "\n",
    "    # Track stats\n",
    "    if i % 10000 == 0:\n",
    "        print(f\"{i:7d}/{max_steps:7d}: {loss.item():.4f}\")\n",
    "    loss_i.append(loss.log10().item())\n"
   ]
  },
  {
   "cell_type": "code",
   "execution_count": 44,
   "metadata": {},
   "outputs": [
    {
     "data": {
      "image/png": "[encoded data removed]",
      "text/plain": [
       "<Figure size 640x480 with 1 Axes>"
      ]
     },
     "metadata": {},
     "output_type": "display_data"
    }
   ],
   "source": [
    "# As we have a batch size of 32, the individual batch losses are simply\n",
    "# too noisy to see any progress. Instead, we can take the mean of every\n",
    "# 1000 mini-batch losses (32000 samples) to get a much more stable loss\n",
    "# value that we can see changing throughout training.\n",
    "plt.plot(torch.arange(0, 200000, 1000), torch.tensor(loss_i).view(-1, 1000).mean(dim=1), label=\"Training\")\n",
    "plt.plot(val_epoch_i, val_loss_i, label=\"Validation\")\n",
    "_ = plt.legend()"
   ]
  },
  {
   "attachments": {},
   "cell_type": "markdown",
   "metadata": {},
   "source": [
    "At the learning rate decay, we can see a steep decrease in loss. It subtracts a ton of energy out of the system, and allows it to settle into the local minimum of the optimization."
   ]
  },
  {
   "cell_type": "code",
   "execution_count": 38,
   "metadata": {},
   "outputs": [],
   "source": [
    "# Put layers into eval mode (needed for BatchNorm especially,\n",
    "# other layers are unaffected).\n",
    "for layer in model.layers:\n",
    "    layer.training = False\n"
   ]
  },
  {
   "cell_type": "code",
   "execution_count": 39,
   "metadata": {},
   "outputs": [
    {
     "name": "stdout",
     "output_type": "stream",
     "text": [
      "train 1.768236517906189\n",
      "val 1.9918807744979858\n"
     ]
    }
   ],
   "source": [
    "# Evaluate the loss\n",
    "@torch.no_grad()  # Disables gradient tracking inside pytorch\n",
    "def split_loss(split):\n",
    "    x, y = {\n",
    "        \"train\": (Xtr, Ytr),\n",
    "        \"val\": (Xdev, Ydev),\n",
    "        \"test\": (Xte, Yte),\n",
    "    }[split]\n",
    "    logits = model(x)\n",
    "    loss = F.cross_entropy(logits, y)\n",
    "    print(split, loss.item())\n",
    "\n",
    "\n",
    "split_loss(\"train\")\n",
    "split_loss(\"val\")\n"
   ]
  },
  {
   "attachments": {},
   "cell_type": "markdown",
   "metadata": {},
   "source": [
    "Performance log\n",
    "- original (3 character context + 200 hidden neurons, 12K params): train 2.058, val 2.105\n",
    "- context: 3 -> 8 (22K params): train 1.918, val 2.027\n",
    "- flat -> hierarchical (22K params): train 1.941, val 2.029\n",
    "- fix bug in batchnorm: train 1.912, val 2.022\n",
    "- scale up the network: dim_embedding 24, dim_hidden 128 (76K params): train 1.769, val 1.993\n",
    "\n",
    "We are quite in the dark regarding the hyperparameter choice, because we have to wait a long time for the network to train, so experiments take longer. In practice, we would want to train the network in parallel with many settings and choose the best one, while looking at performance plots during and after training. We're missing an \"experimental harness\" here, on which we could run a number of experiments and tune the architecture well.\n",
    "\n",
    "Note that we didn't implement the specific forward pass of the WaveNet where we have a more complicated linear layer (a gated one) and residual connections, using efficient dilated convolutions."
   ]
  },
  {
   "attachments": {},
   "cell_type": "markdown",
   "metadata": {},
   "source": [
    "#### Next time"
   ]
  },
  {
   "attachments": {},
   "cell_type": "markdown",
   "metadata": {},
   "source": [
    "How does what we've done here relate to ConvNets, as used in the WaveNet paper? The use of conolvutions is strictly for efficiency. It doesn't change the model we have implemented. Brief preview/hint:"
   ]
  },
  {
   "cell_type": "code",
   "execution_count": 40,
   "metadata": {},
   "outputs": [
    {
     "name": "stdout",
     "output_type": "stream",
     "text": [
      "........ --> d\n",
      ".......d --> i\n",
      "......di --> o\n",
      ".....dio --> n\n",
      "....dion --> d\n",
      "...diond --> r\n",
      "..diondr --> e\n",
      ".diondre --> .\n"
     ]
    }
   ],
   "source": [
    "\n",
    "for x,y in zip(Xtr[7:15], Ytr[7:15]):\n",
    "  print(''.join(integer_to_string[ix.item()] for ix in x), '-->', integer_to_string[y.item()])"
   ]
  },
  {
   "cell_type": "code",
   "execution_count": 41,
   "metadata": {},
   "outputs": [
    {
     "data": {
      "text/plain": [
       "torch.Size([1, 27])"
      ]
     },
     "execution_count": 41,
     "metadata": {},
     "output_type": "execute_result"
    }
   ],
   "source": [
    "# Forward a single example:\n",
    "logits = model(Xtr[[7]])  # Extra batch dimension: (1, 8)\n",
    "logits.shape"
   ]
  },
  {
   "cell_type": "code",
   "execution_count": 42,
   "metadata": {},
   "outputs": [
    {
     "data": {
      "text/plain": [
       "torch.Size([8, 27])"
      ]
     },
     "execution_count": 42,
     "metadata": {},
     "output_type": "execute_result"
    }
   ],
   "source": [
    "# Forward all of them\n",
    "logits = torch.zeros(8, 27)\n",
    "for i in range(8):\n",
    "  logits[i] = model(Xtr[[7+i]])\n",
    "logits.shape"
   ]
  },
  {
   "attachments": {},
   "cell_type": "markdown",
   "metadata": {},
   "source": [
    "Convolutions allow us to do just that, but more efficiently. Instead of needing 8 independent calls to our model, convolutions allow us to slide our model efficiently through the input sequence. The for loop can be done not inside in Python, but rather inside a cuda kernel, which is much more efficient. The for loop is hidden inside the convolution. It's even more efficient because it allows us to reuse variables that we have calculated before. The naive for loop doesn't allow us to do that.\n",
    "\n",
    "A convolution is a for loop. It allows us to forward Linear layers (filters) efficiently over the space (input sequence). Now we slide our model over a 1D input data. We've implemented the forward pass for a single position in the input sequence, so to speak. Convolutions slide this computation over the entire input sequence, by first calculating the first hidden layer with dilation 1, then the second one with dilation 2, etc. (see the paper)."
   ]
  }
 ],
 "metadata": {
  "kernelspec": {
   "display_name": "karpathy-nn-L00z48Da-py3.10",
   "language": "python",
   "name": "python3"
  },
  "language_info": {
   "codemirror_mode": {
    "name": "ipython",
    "version": 3
   },
   "file_extension": ".py",
   "mimetype": "text/x-python",
   "name": "python",
   "nbconvert_exporter": "python",
   "pygments_lexer": "ipython3",
   "version": "3.10.10"
  },
  "orig_nbformat": 4,
  "vscode": {
   "interpreter": {
    "hash": "1777287656d261b264802db79277cf28c62daaee414facac31cc4d9617e447f5"
   }
  }
 },
 "nbformat": 4,
 "nbformat_minor": 2
}
